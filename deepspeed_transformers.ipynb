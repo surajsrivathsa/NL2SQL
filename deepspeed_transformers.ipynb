{
  "nbformat": 4,
  "nbformat_minor": 0,
  "metadata": {
    "colab": {
      "name": "deepspeed_transformers.ipynb",
      "provenance": [],
      "include_colab_link": true
    },
    "kernelspec": {
      "name": "python3",
      "display_name": "Python 3"
    },
    "language_info": {
      "name": "python"
    },
    "accelerator": "GPU",
    "widgets": {
      "application/vnd.jupyter.widget-state+json": {
        "e0a6de4d4b7d46d9a4898394c47bd1e8": {
          "model_module": "@jupyter-widgets/controls",
          "model_name": "HBoxModel",
          "state": {
            "_view_name": "HBoxView",
            "_dom_classes": [],
            "_model_name": "HBoxModel",
            "_view_module": "@jupyter-widgets/controls",
            "_model_module_version": "1.5.0",
            "_view_count": null,
            "_view_module_version": "1.5.0",
            "box_style": "",
            "layout": "IPY_MODEL_ce1b6549bb0a4478951791603517bac7",
            "_model_module": "@jupyter-widgets/controls",
            "children": [
              "IPY_MODEL_041551ef418c49e8b6d16f054cf41769",
              "IPY_MODEL_56a12318623e4b17ae8b790abc85514c"
            ]
          }
        },
        "ce1b6549bb0a4478951791603517bac7": {
          "model_module": "@jupyter-widgets/base",
          "model_name": "LayoutModel",
          "state": {
            "_view_name": "LayoutView",
            "grid_template_rows": null,
            "right": null,
            "justify_content": null,
            "_view_module": "@jupyter-widgets/base",
            "overflow": null,
            "_model_module_version": "1.2.0",
            "_view_count": null,
            "flex_flow": null,
            "width": null,
            "min_width": null,
            "border": null,
            "align_items": null,
            "bottom": null,
            "_model_module": "@jupyter-widgets/base",
            "top": null,
            "grid_column": null,
            "overflow_y": null,
            "overflow_x": null,
            "grid_auto_flow": null,
            "grid_area": null,
            "grid_template_columns": null,
            "flex": null,
            "_model_name": "LayoutModel",
            "justify_items": null,
            "grid_row": null,
            "max_height": null,
            "align_content": null,
            "visibility": null,
            "align_self": null,
            "height": null,
            "min_height": null,
            "padding": null,
            "grid_auto_rows": null,
            "grid_gap": null,
            "max_width": null,
            "order": null,
            "_view_module_version": "1.2.0",
            "grid_template_areas": null,
            "object_position": null,
            "object_fit": null,
            "grid_auto_columns": null,
            "margin": null,
            "display": null,
            "left": null
          }
        },
        "041551ef418c49e8b6d16f054cf41769": {
          "model_module": "@jupyter-widgets/controls",
          "model_name": "FloatProgressModel",
          "state": {
            "_view_name": "ProgressView",
            "style": "IPY_MODEL_903e2d39c17b4dea8ce72f0069abf916",
            "_dom_classes": [],
            "description": "Downloading: ",
            "_model_name": "FloatProgressModel",
            "bar_style": "success",
            "max": 1930,
            "_view_module": "@jupyter-widgets/controls",
            "_model_module_version": "1.5.0",
            "value": 1930,
            "_view_count": null,
            "_view_module_version": "1.5.0",
            "orientation": "horizontal",
            "min": 0,
            "description_tooltip": null,
            "_model_module": "@jupyter-widgets/controls",
            "layout": "IPY_MODEL_d53aa6ca9da64101b00dca67c002ef85"
          }
        },
        "56a12318623e4b17ae8b790abc85514c": {
          "model_module": "@jupyter-widgets/controls",
          "model_name": "HTMLModel",
          "state": {
            "_view_name": "HTMLView",
            "style": "IPY_MODEL_f6ee3e0f7f4241d1a5dff8e3ee05f142",
            "_dom_classes": [],
            "description": "",
            "_model_name": "HTMLModel",
            "placeholder": "​",
            "_view_module": "@jupyter-widgets/controls",
            "_model_module_version": "1.5.0",
            "value": " 5.16k/? [00:42&lt;00:00, 121B/s]",
            "_view_count": null,
            "_view_module_version": "1.5.0",
            "description_tooltip": null,
            "_model_module": "@jupyter-widgets/controls",
            "layout": "IPY_MODEL_7d4e208a607f43f08b45839e8258b031"
          }
        },
        "903e2d39c17b4dea8ce72f0069abf916": {
          "model_module": "@jupyter-widgets/controls",
          "model_name": "ProgressStyleModel",
          "state": {
            "_view_name": "StyleView",
            "_model_name": "ProgressStyleModel",
            "description_width": "initial",
            "_view_module": "@jupyter-widgets/base",
            "_model_module_version": "1.5.0",
            "_view_count": null,
            "_view_module_version": "1.2.0",
            "bar_color": null,
            "_model_module": "@jupyter-widgets/controls"
          }
        },
        "d53aa6ca9da64101b00dca67c002ef85": {
          "model_module": "@jupyter-widgets/base",
          "model_name": "LayoutModel",
          "state": {
            "_view_name": "LayoutView",
            "grid_template_rows": null,
            "right": null,
            "justify_content": null,
            "_view_module": "@jupyter-widgets/base",
            "overflow": null,
            "_model_module_version": "1.2.0",
            "_view_count": null,
            "flex_flow": null,
            "width": null,
            "min_width": null,
            "border": null,
            "align_items": null,
            "bottom": null,
            "_model_module": "@jupyter-widgets/base",
            "top": null,
            "grid_column": null,
            "overflow_y": null,
            "overflow_x": null,
            "grid_auto_flow": null,
            "grid_area": null,
            "grid_template_columns": null,
            "flex": null,
            "_model_name": "LayoutModel",
            "justify_items": null,
            "grid_row": null,
            "max_height": null,
            "align_content": null,
            "visibility": null,
            "align_self": null,
            "height": null,
            "min_height": null,
            "padding": null,
            "grid_auto_rows": null,
            "grid_gap": null,
            "max_width": null,
            "order": null,
            "_view_module_version": "1.2.0",
            "grid_template_areas": null,
            "object_position": null,
            "object_fit": null,
            "grid_auto_columns": null,
            "margin": null,
            "display": null,
            "left": null
          }
        },
        "f6ee3e0f7f4241d1a5dff8e3ee05f142": {
          "model_module": "@jupyter-widgets/controls",
          "model_name": "DescriptionStyleModel",
          "state": {
            "_view_name": "StyleView",
            "_model_name": "DescriptionStyleModel",
            "description_width": "",
            "_view_module": "@jupyter-widgets/base",
            "_model_module_version": "1.5.0",
            "_view_count": null,
            "_view_module_version": "1.2.0",
            "_model_module": "@jupyter-widgets/controls"
          }
        },
        "7d4e208a607f43f08b45839e8258b031": {
          "model_module": "@jupyter-widgets/base",
          "model_name": "LayoutModel",
          "state": {
            "_view_name": "LayoutView",
            "grid_template_rows": null,
            "right": null,
            "justify_content": null,
            "_view_module": "@jupyter-widgets/base",
            "overflow": null,
            "_model_module_version": "1.2.0",
            "_view_count": null,
            "flex_flow": null,
            "width": null,
            "min_width": null,
            "border": null,
            "align_items": null,
            "bottom": null,
            "_model_module": "@jupyter-widgets/base",
            "top": null,
            "grid_column": null,
            "overflow_y": null,
            "overflow_x": null,
            "grid_auto_flow": null,
            "grid_area": null,
            "grid_template_columns": null,
            "flex": null,
            "_model_name": "LayoutModel",
            "justify_items": null,
            "grid_row": null,
            "max_height": null,
            "align_content": null,
            "visibility": null,
            "align_self": null,
            "height": null,
            "min_height": null,
            "padding": null,
            "grid_auto_rows": null,
            "grid_gap": null,
            "max_width": null,
            "order": null,
            "_view_module_version": "1.2.0",
            "grid_template_areas": null,
            "object_position": null,
            "object_fit": null,
            "grid_auto_columns": null,
            "margin": null,
            "display": null,
            "left": null
          }
        },
        "f17aef7a71a3464bb6230acd0004a7ce": {
          "model_module": "@jupyter-widgets/controls",
          "model_name": "HBoxModel",
          "state": {
            "_view_name": "HBoxView",
            "_dom_classes": [],
            "_model_name": "HBoxModel",
            "_view_module": "@jupyter-widgets/controls",
            "_model_module_version": "1.5.0",
            "_view_count": null,
            "_view_module_version": "1.5.0",
            "box_style": "",
            "layout": "IPY_MODEL_8fd3fea065374735ab4a103e019d9465",
            "_model_module": "@jupyter-widgets/controls",
            "children": [
              "IPY_MODEL_5723b5b6e76140938026d180742bba9c",
              "IPY_MODEL_b701fdb8380a4c29816c282e2becb4c0"
            ]
          }
        },
        "8fd3fea065374735ab4a103e019d9465": {
          "model_module": "@jupyter-widgets/base",
          "model_name": "LayoutModel",
          "state": {
            "_view_name": "LayoutView",
            "grid_template_rows": null,
            "right": null,
            "justify_content": null,
            "_view_module": "@jupyter-widgets/base",
            "overflow": null,
            "_model_module_version": "1.2.0",
            "_view_count": null,
            "flex_flow": null,
            "width": null,
            "min_width": null,
            "border": null,
            "align_items": null,
            "bottom": null,
            "_model_module": "@jupyter-widgets/base",
            "top": null,
            "grid_column": null,
            "overflow_y": null,
            "overflow_x": null,
            "grid_auto_flow": null,
            "grid_area": null,
            "grid_template_columns": null,
            "flex": null,
            "_model_name": "LayoutModel",
            "justify_items": null,
            "grid_row": null,
            "max_height": null,
            "align_content": null,
            "visibility": null,
            "align_self": null,
            "height": null,
            "min_height": null,
            "padding": null,
            "grid_auto_rows": null,
            "grid_gap": null,
            "max_width": null,
            "order": null,
            "_view_module_version": "1.2.0",
            "grid_template_areas": null,
            "object_position": null,
            "object_fit": null,
            "grid_auto_columns": null,
            "margin": null,
            "display": null,
            "left": null
          }
        },
        "5723b5b6e76140938026d180742bba9c": {
          "model_module": "@jupyter-widgets/controls",
          "model_name": "FloatProgressModel",
          "state": {
            "_view_name": "ProgressView",
            "style": "IPY_MODEL_a111c33113a6459aaf7f02f54fe52398",
            "_dom_classes": [],
            "description": "Downloading: ",
            "_model_name": "FloatProgressModel",
            "bar_style": "success",
            "max": 954,
            "_view_module": "@jupyter-widgets/controls",
            "_model_module_version": "1.5.0",
            "value": 954,
            "_view_count": null,
            "_view_module_version": "1.5.0",
            "orientation": "horizontal",
            "min": 0,
            "description_tooltip": null,
            "_model_module": "@jupyter-widgets/controls",
            "layout": "IPY_MODEL_bbfa43c31d3741a18d86ff0cdd3ad303"
          }
        },
        "b701fdb8380a4c29816c282e2becb4c0": {
          "model_module": "@jupyter-widgets/controls",
          "model_name": "HTMLModel",
          "state": {
            "_view_name": "HTMLView",
            "style": "IPY_MODEL_e5c9556e14294b5d96e7efa5befec30b",
            "_dom_classes": [],
            "description": "",
            "_model_name": "HTMLModel",
            "placeholder": "​",
            "_view_module": "@jupyter-widgets/controls",
            "_model_module_version": "1.5.0",
            "value": " 1.91k/? [00:00&lt;00:00, 26.6kB/s]",
            "_view_count": null,
            "_view_module_version": "1.5.0",
            "description_tooltip": null,
            "_model_module": "@jupyter-widgets/controls",
            "layout": "IPY_MODEL_1fa1dc800fe944d1bacdb6160a837620"
          }
        },
        "a111c33113a6459aaf7f02f54fe52398": {
          "model_module": "@jupyter-widgets/controls",
          "model_name": "ProgressStyleModel",
          "state": {
            "_view_name": "StyleView",
            "_model_name": "ProgressStyleModel",
            "description_width": "initial",
            "_view_module": "@jupyter-widgets/base",
            "_model_module_version": "1.5.0",
            "_view_count": null,
            "_view_module_version": "1.2.0",
            "bar_color": null,
            "_model_module": "@jupyter-widgets/controls"
          }
        },
        "bbfa43c31d3741a18d86ff0cdd3ad303": {
          "model_module": "@jupyter-widgets/base",
          "model_name": "LayoutModel",
          "state": {
            "_view_name": "LayoutView",
            "grid_template_rows": null,
            "right": null,
            "justify_content": null,
            "_view_module": "@jupyter-widgets/base",
            "overflow": null,
            "_model_module_version": "1.2.0",
            "_view_count": null,
            "flex_flow": null,
            "width": null,
            "min_width": null,
            "border": null,
            "align_items": null,
            "bottom": null,
            "_model_module": "@jupyter-widgets/base",
            "top": null,
            "grid_column": null,
            "overflow_y": null,
            "overflow_x": null,
            "grid_auto_flow": null,
            "grid_area": null,
            "grid_template_columns": null,
            "flex": null,
            "_model_name": "LayoutModel",
            "justify_items": null,
            "grid_row": null,
            "max_height": null,
            "align_content": null,
            "visibility": null,
            "align_self": null,
            "height": null,
            "min_height": null,
            "padding": null,
            "grid_auto_rows": null,
            "grid_gap": null,
            "max_width": null,
            "order": null,
            "_view_module_version": "1.2.0",
            "grid_template_areas": null,
            "object_position": null,
            "object_fit": null,
            "grid_auto_columns": null,
            "margin": null,
            "display": null,
            "left": null
          }
        },
        "e5c9556e14294b5d96e7efa5befec30b": {
          "model_module": "@jupyter-widgets/controls",
          "model_name": "DescriptionStyleModel",
          "state": {
            "_view_name": "StyleView",
            "_model_name": "DescriptionStyleModel",
            "description_width": "",
            "_view_module": "@jupyter-widgets/base",
            "_model_module_version": "1.5.0",
            "_view_count": null,
            "_view_module_version": "1.2.0",
            "_model_module": "@jupyter-widgets/controls"
          }
        },
        "1fa1dc800fe944d1bacdb6160a837620": {
          "model_module": "@jupyter-widgets/base",
          "model_name": "LayoutModel",
          "state": {
            "_view_name": "LayoutView",
            "grid_template_rows": null,
            "right": null,
            "justify_content": null,
            "_view_module": "@jupyter-widgets/base",
            "overflow": null,
            "_model_module_version": "1.2.0",
            "_view_count": null,
            "flex_flow": null,
            "width": null,
            "min_width": null,
            "border": null,
            "align_items": null,
            "bottom": null,
            "_model_module": "@jupyter-widgets/base",
            "top": null,
            "grid_column": null,
            "overflow_y": null,
            "overflow_x": null,
            "grid_auto_flow": null,
            "grid_area": null,
            "grid_template_columns": null,
            "flex": null,
            "_model_name": "LayoutModel",
            "justify_items": null,
            "grid_row": null,
            "max_height": null,
            "align_content": null,
            "visibility": null,
            "align_self": null,
            "height": null,
            "min_height": null,
            "padding": null,
            "grid_auto_rows": null,
            "grid_gap": null,
            "max_width": null,
            "order": null,
            "_view_module_version": "1.2.0",
            "grid_template_areas": null,
            "object_position": null,
            "object_fit": null,
            "grid_auto_columns": null,
            "margin": null,
            "display": null,
            "left": null
          }
        },
        "2e6bcfea9d204e2d9510eaa0a318b96d": {
          "model_module": "@jupyter-widgets/controls",
          "model_name": "HBoxModel",
          "state": {
            "_view_name": "HBoxView",
            "_dom_classes": [],
            "_model_name": "HBoxModel",
            "_view_module": "@jupyter-widgets/controls",
            "_model_module_version": "1.5.0",
            "_view_count": null,
            "_view_module_version": "1.5.0",
            "box_style": "",
            "layout": "IPY_MODEL_bb8776a67a194c5e9f817111bbb55b36",
            "_model_module": "@jupyter-widgets/controls",
            "children": [
              "IPY_MODEL_09cbcaee660f49dc9b447307597566a9",
              "IPY_MODEL_a709b53217e0422fa0bb964cb88a0841"
            ]
          }
        },
        "bb8776a67a194c5e9f817111bbb55b36": {
          "model_module": "@jupyter-widgets/base",
          "model_name": "LayoutModel",
          "state": {
            "_view_name": "LayoutView",
            "grid_template_rows": null,
            "right": null,
            "justify_content": null,
            "_view_module": "@jupyter-widgets/base",
            "overflow": null,
            "_model_module_version": "1.2.0",
            "_view_count": null,
            "flex_flow": null,
            "width": null,
            "min_width": null,
            "border": null,
            "align_items": null,
            "bottom": null,
            "_model_module": "@jupyter-widgets/base",
            "top": null,
            "grid_column": null,
            "overflow_y": null,
            "overflow_x": null,
            "grid_auto_flow": null,
            "grid_area": null,
            "grid_template_columns": null,
            "flex": null,
            "_model_name": "LayoutModel",
            "justify_items": null,
            "grid_row": null,
            "max_height": null,
            "align_content": null,
            "visibility": null,
            "align_self": null,
            "height": null,
            "min_height": null,
            "padding": null,
            "grid_auto_rows": null,
            "grid_gap": null,
            "max_width": null,
            "order": null,
            "_view_module_version": "1.2.0",
            "grid_template_areas": null,
            "object_position": null,
            "object_fit": null,
            "grid_auto_columns": null,
            "margin": null,
            "display": null,
            "left": null
          }
        },
        "09cbcaee660f49dc9b447307597566a9": {
          "model_module": "@jupyter-widgets/controls",
          "model_name": "FloatProgressModel",
          "state": {
            "_view_name": "ProgressView",
            "style": "IPY_MODEL_6d0c59f02ff64e808eb267d337375c94",
            "_dom_classes": [],
            "description": "Downloading: 100%",
            "_model_name": "FloatProgressModel",
            "bar_style": "success",
            "max": 254582292,
            "_view_module": "@jupyter-widgets/controls",
            "_model_module_version": "1.5.0",
            "value": 254582292,
            "_view_count": null,
            "_view_module_version": "1.5.0",
            "orientation": "horizontal",
            "min": 0,
            "description_tooltip": null,
            "_model_module": "@jupyter-widgets/controls",
            "layout": "IPY_MODEL_19c214928b624ef1bc416b747d22ef25"
          }
        },
        "a709b53217e0422fa0bb964cb88a0841": {
          "model_module": "@jupyter-widgets/controls",
          "model_name": "HTMLModel",
          "state": {
            "_view_name": "HTMLView",
            "style": "IPY_MODEL_b79c54dd71924c98b6fbd5deec7ce2a7",
            "_dom_classes": [],
            "description": "",
            "_model_name": "HTMLModel",
            "placeholder": "​",
            "_view_module": "@jupyter-widgets/controls",
            "_model_module_version": "1.5.0",
            "value": " 255M/255M [00:26&lt;00:00, 9.74MB/s]",
            "_view_count": null,
            "_view_module_version": "1.5.0",
            "description_tooltip": null,
            "_model_module": "@jupyter-widgets/controls",
            "layout": "IPY_MODEL_9778c2d21707475b885ebdad7b7e11f3"
          }
        },
        "6d0c59f02ff64e808eb267d337375c94": {
          "model_module": "@jupyter-widgets/controls",
          "model_name": "ProgressStyleModel",
          "state": {
            "_view_name": "StyleView",
            "_model_name": "ProgressStyleModel",
            "description_width": "initial",
            "_view_module": "@jupyter-widgets/base",
            "_model_module_version": "1.5.0",
            "_view_count": null,
            "_view_module_version": "1.2.0",
            "bar_color": null,
            "_model_module": "@jupyter-widgets/controls"
          }
        },
        "19c214928b624ef1bc416b747d22ef25": {
          "model_module": "@jupyter-widgets/base",
          "model_name": "LayoutModel",
          "state": {
            "_view_name": "LayoutView",
            "grid_template_rows": null,
            "right": null,
            "justify_content": null,
            "_view_module": "@jupyter-widgets/base",
            "overflow": null,
            "_model_module_version": "1.2.0",
            "_view_count": null,
            "flex_flow": null,
            "width": null,
            "min_width": null,
            "border": null,
            "align_items": null,
            "bottom": null,
            "_model_module": "@jupyter-widgets/base",
            "top": null,
            "grid_column": null,
            "overflow_y": null,
            "overflow_x": null,
            "grid_auto_flow": null,
            "grid_area": null,
            "grid_template_columns": null,
            "flex": null,
            "_model_name": "LayoutModel",
            "justify_items": null,
            "grid_row": null,
            "max_height": null,
            "align_content": null,
            "visibility": null,
            "align_self": null,
            "height": null,
            "min_height": null,
            "padding": null,
            "grid_auto_rows": null,
            "grid_gap": null,
            "max_width": null,
            "order": null,
            "_view_module_version": "1.2.0",
            "grid_template_areas": null,
            "object_position": null,
            "object_fit": null,
            "grid_auto_columns": null,
            "margin": null,
            "display": null,
            "left": null
          }
        },
        "b79c54dd71924c98b6fbd5deec7ce2a7": {
          "model_module": "@jupyter-widgets/controls",
          "model_name": "DescriptionStyleModel",
          "state": {
            "_view_name": "StyleView",
            "_model_name": "DescriptionStyleModel",
            "description_width": "",
            "_view_module": "@jupyter-widgets/base",
            "_model_module_version": "1.5.0",
            "_view_count": null,
            "_view_module_version": "1.2.0",
            "_model_module": "@jupyter-widgets/controls"
          }
        },
        "9778c2d21707475b885ebdad7b7e11f3": {
          "model_module": "@jupyter-widgets/base",
          "model_name": "LayoutModel",
          "state": {
            "_view_name": "LayoutView",
            "grid_template_rows": null,
            "right": null,
            "justify_content": null,
            "_view_module": "@jupyter-widgets/base",
            "overflow": null,
            "_model_module_version": "1.2.0",
            "_view_count": null,
            "flex_flow": null,
            "width": null,
            "min_width": null,
            "border": null,
            "align_items": null,
            "bottom": null,
            "_model_module": "@jupyter-widgets/base",
            "top": null,
            "grid_column": null,
            "overflow_y": null,
            "overflow_x": null,
            "grid_auto_flow": null,
            "grid_area": null,
            "grid_template_columns": null,
            "flex": null,
            "_model_name": "LayoutModel",
            "justify_items": null,
            "grid_row": null,
            "max_height": null,
            "align_content": null,
            "visibility": null,
            "align_self": null,
            "height": null,
            "min_height": null,
            "padding": null,
            "grid_auto_rows": null,
            "grid_gap": null,
            "max_width": null,
            "order": null,
            "_view_module_version": "1.2.0",
            "grid_template_areas": null,
            "object_position": null,
            "object_fit": null,
            "grid_auto_columns": null,
            "margin": null,
            "display": null,
            "left": null
          }
        },
        "ed0f0a498aeb4e0da224e4d98bfdcca6": {
          "model_module": "@jupyter-widgets/controls",
          "model_name": "HBoxModel",
          "state": {
            "_view_name": "HBoxView",
            "_dom_classes": [],
            "_model_name": "HBoxModel",
            "_view_module": "@jupyter-widgets/controls",
            "_model_module_version": "1.5.0",
            "_view_count": null,
            "_view_module_version": "1.5.0",
            "box_style": "",
            "layout": "IPY_MODEL_4fe6865d35c74ffa949dfc6ddf439f46",
            "_model_module": "@jupyter-widgets/controls",
            "children": [
              "IPY_MODEL_d481b59c19f9465eb72a8957cdca2c24",
              "IPY_MODEL_6cd94e3655a84f57b159862250c22524"
            ]
          }
        },
        "4fe6865d35c74ffa949dfc6ddf439f46": {
          "model_module": "@jupyter-widgets/base",
          "model_name": "LayoutModel",
          "state": {
            "_view_name": "LayoutView",
            "grid_template_rows": null,
            "right": null,
            "justify_content": null,
            "_view_module": "@jupyter-widgets/base",
            "overflow": null,
            "_model_module_version": "1.2.0",
            "_view_count": null,
            "flex_flow": null,
            "width": null,
            "min_width": null,
            "border": null,
            "align_items": null,
            "bottom": null,
            "_model_module": "@jupyter-widgets/base",
            "top": null,
            "grid_column": null,
            "overflow_y": null,
            "overflow_x": null,
            "grid_auto_flow": null,
            "grid_area": null,
            "grid_template_columns": null,
            "flex": null,
            "_model_name": "LayoutModel",
            "justify_items": null,
            "grid_row": null,
            "max_height": null,
            "align_content": null,
            "visibility": null,
            "align_self": null,
            "height": null,
            "min_height": null,
            "padding": null,
            "grid_auto_rows": null,
            "grid_gap": null,
            "max_width": null,
            "order": null,
            "_view_module_version": "1.2.0",
            "grid_template_areas": null,
            "object_position": null,
            "object_fit": null,
            "grid_auto_columns": null,
            "margin": null,
            "display": null,
            "left": null
          }
        },
        "d481b59c19f9465eb72a8957cdca2c24": {
          "model_module": "@jupyter-widgets/controls",
          "model_name": "FloatProgressModel",
          "state": {
            "_view_name": "ProgressView",
            "style": "IPY_MODEL_af2942d17d914b7a932989b531396b8d",
            "_dom_classes": [],
            "description": "Downloading: ",
            "_model_name": "FloatProgressModel",
            "bar_style": "success",
            "max": 1001503,
            "_view_module": "@jupyter-widgets/controls",
            "_model_module_version": "1.5.0",
            "value": 1001503,
            "_view_count": null,
            "_view_module_version": "1.5.0",
            "orientation": "horizontal",
            "min": 0,
            "description_tooltip": null,
            "_model_module": "@jupyter-widgets/controls",
            "layout": "IPY_MODEL_971a4ca0392e475b96125e85ac9aeef5"
          }
        },
        "6cd94e3655a84f57b159862250c22524": {
          "model_module": "@jupyter-widgets/controls",
          "model_name": "HTMLModel",
          "state": {
            "_view_name": "HTMLView",
            "style": "IPY_MODEL_d45dae55010a4416b5917d6a03f7e3e2",
            "_dom_classes": [],
            "description": "",
            "_model_name": "HTMLModel",
            "placeholder": "​",
            "_view_module": "@jupyter-widgets/controls",
            "_model_module_version": "1.5.0",
            "value": " 2.72M/? [00:00&lt;00:00, 3.03MB/s]",
            "_view_count": null,
            "_view_module_version": "1.5.0",
            "description_tooltip": null,
            "_model_module": "@jupyter-widgets/controls",
            "layout": "IPY_MODEL_f2108267677147cc9be7a12858183f70"
          }
        },
        "af2942d17d914b7a932989b531396b8d": {
          "model_module": "@jupyter-widgets/controls",
          "model_name": "ProgressStyleModel",
          "state": {
            "_view_name": "StyleView",
            "_model_name": "ProgressStyleModel",
            "description_width": "initial",
            "_view_module": "@jupyter-widgets/base",
            "_model_module_version": "1.5.0",
            "_view_count": null,
            "_view_module_version": "1.2.0",
            "bar_color": null,
            "_model_module": "@jupyter-widgets/controls"
          }
        },
        "971a4ca0392e475b96125e85ac9aeef5": {
          "model_module": "@jupyter-widgets/base",
          "model_name": "LayoutModel",
          "state": {
            "_view_name": "LayoutView",
            "grid_template_rows": null,
            "right": null,
            "justify_content": null,
            "_view_module": "@jupyter-widgets/base",
            "overflow": null,
            "_model_module_version": "1.2.0",
            "_view_count": null,
            "flex_flow": null,
            "width": null,
            "min_width": null,
            "border": null,
            "align_items": null,
            "bottom": null,
            "_model_module": "@jupyter-widgets/base",
            "top": null,
            "grid_column": null,
            "overflow_y": null,
            "overflow_x": null,
            "grid_auto_flow": null,
            "grid_area": null,
            "grid_template_columns": null,
            "flex": null,
            "_model_name": "LayoutModel",
            "justify_items": null,
            "grid_row": null,
            "max_height": null,
            "align_content": null,
            "visibility": null,
            "align_self": null,
            "height": null,
            "min_height": null,
            "padding": null,
            "grid_auto_rows": null,
            "grid_gap": null,
            "max_width": null,
            "order": null,
            "_view_module_version": "1.2.0",
            "grid_template_areas": null,
            "object_position": null,
            "object_fit": null,
            "grid_auto_columns": null,
            "margin": null,
            "display": null,
            "left": null
          }
        },
        "d45dae55010a4416b5917d6a03f7e3e2": {
          "model_module": "@jupyter-widgets/controls",
          "model_name": "DescriptionStyleModel",
          "state": {
            "_view_name": "StyleView",
            "_model_name": "DescriptionStyleModel",
            "description_width": "",
            "_view_module": "@jupyter-widgets/base",
            "_model_module_version": "1.5.0",
            "_view_count": null,
            "_view_module_version": "1.2.0",
            "_model_module": "@jupyter-widgets/controls"
          }
        },
        "f2108267677147cc9be7a12858183f70": {
          "model_module": "@jupyter-widgets/base",
          "model_name": "LayoutModel",
          "state": {
            "_view_name": "LayoutView",
            "grid_template_rows": null,
            "right": null,
            "justify_content": null,
            "_view_module": "@jupyter-widgets/base",
            "overflow": null,
            "_model_module_version": "1.2.0",
            "_view_count": null,
            "flex_flow": null,
            "width": null,
            "min_width": null,
            "border": null,
            "align_items": null,
            "bottom": null,
            "_model_module": "@jupyter-widgets/base",
            "top": null,
            "grid_column": null,
            "overflow_y": null,
            "overflow_x": null,
            "grid_auto_flow": null,
            "grid_area": null,
            "grid_template_columns": null,
            "flex": null,
            "_model_name": "LayoutModel",
            "justify_items": null,
            "grid_row": null,
            "max_height": null,
            "align_content": null,
            "visibility": null,
            "align_self": null,
            "height": null,
            "min_height": null,
            "padding": null,
            "grid_auto_rows": null,
            "grid_gap": null,
            "max_width": null,
            "order": null,
            "_view_module_version": "1.2.0",
            "grid_template_areas": null,
            "object_position": null,
            "object_fit": null,
            "grid_auto_columns": null,
            "margin": null,
            "display": null,
            "left": null
          }
        },
        "46fbd86a0d0e4cd792a8d506a304ab31": {
          "model_module": "@jupyter-widgets/controls",
          "model_name": "HBoxModel",
          "state": {
            "_view_name": "HBoxView",
            "_dom_classes": [],
            "_model_name": "HBoxModel",
            "_view_module": "@jupyter-widgets/controls",
            "_model_module_version": "1.5.0",
            "_view_count": null,
            "_view_module_version": "1.5.0",
            "box_style": "",
            "layout": "IPY_MODEL_6083673f567f4ad2bacefa30d809b79b",
            "_model_module": "@jupyter-widgets/controls",
            "children": [
              "IPY_MODEL_51b249b385ac4a82a60c75b5d36f27f1",
              "IPY_MODEL_4104573d186245abb3c2cf14886f9b1f"
            ]
          }
        },
        "6083673f567f4ad2bacefa30d809b79b": {
          "model_module": "@jupyter-widgets/base",
          "model_name": "LayoutModel",
          "state": {
            "_view_name": "LayoutView",
            "grid_template_rows": null,
            "right": null,
            "justify_content": null,
            "_view_module": "@jupyter-widgets/base",
            "overflow": null,
            "_model_module_version": "1.2.0",
            "_view_count": null,
            "flex_flow": null,
            "width": null,
            "min_width": null,
            "border": null,
            "align_items": null,
            "bottom": null,
            "_model_module": "@jupyter-widgets/base",
            "top": null,
            "grid_column": null,
            "overflow_y": null,
            "overflow_x": null,
            "grid_auto_flow": null,
            "grid_area": null,
            "grid_template_columns": null,
            "flex": null,
            "_model_name": "LayoutModel",
            "justify_items": null,
            "grid_row": null,
            "max_height": null,
            "align_content": null,
            "visibility": null,
            "align_self": null,
            "height": null,
            "min_height": null,
            "padding": null,
            "grid_auto_rows": null,
            "grid_gap": null,
            "max_width": null,
            "order": null,
            "_view_module_version": "1.2.0",
            "grid_template_areas": null,
            "object_position": null,
            "object_fit": null,
            "grid_auto_columns": null,
            "margin": null,
            "display": null,
            "left": null
          }
        },
        "51b249b385ac4a82a60c75b5d36f27f1": {
          "model_module": "@jupyter-widgets/controls",
          "model_name": "FloatProgressModel",
          "state": {
            "_view_name": "ProgressView",
            "style": "IPY_MODEL_055351767dac44bd81bfa48104ffe69e",
            "_dom_classes": [],
            "description": "",
            "_model_name": "FloatProgressModel",
            "bar_style": "info",
            "max": 1,
            "_view_module": "@jupyter-widgets/controls",
            "_model_module_version": "1.5.0",
            "value": 1,
            "_view_count": null,
            "_view_module_version": "1.5.0",
            "orientation": "horizontal",
            "min": 0,
            "description_tooltip": null,
            "_model_module": "@jupyter-widgets/controls",
            "layout": "IPY_MODEL_8cf950cac23147e091f5fab851fb0707"
          }
        },
        "4104573d186245abb3c2cf14886f9b1f": {
          "model_module": "@jupyter-widgets/controls",
          "model_name": "HTMLModel",
          "state": {
            "_view_name": "HTMLView",
            "style": "IPY_MODEL_f1ca479fb7e4444e9b93a96638ee3011",
            "_dom_classes": [],
            "description": "",
            "_model_name": "HTMLModel",
            "placeholder": "​",
            "_view_module": "@jupyter-widgets/controls",
            "_model_module_version": "1.5.0",
            "value": " 204045/0 [00:16&lt;00:00, 13416.49 examples/s]",
            "_view_count": null,
            "_view_module_version": "1.5.0",
            "description_tooltip": null,
            "_model_module": "@jupyter-widgets/controls",
            "layout": "IPY_MODEL_a4c36e0fdf564b039da2308dd90fa957"
          }
        },
        "055351767dac44bd81bfa48104ffe69e": {
          "model_module": "@jupyter-widgets/controls",
          "model_name": "ProgressStyleModel",
          "state": {
            "_view_name": "StyleView",
            "_model_name": "ProgressStyleModel",
            "description_width": "initial",
            "_view_module": "@jupyter-widgets/base",
            "_model_module_version": "1.5.0",
            "_view_count": null,
            "_view_module_version": "1.2.0",
            "bar_color": null,
            "_model_module": "@jupyter-widgets/controls"
          }
        },
        "8cf950cac23147e091f5fab851fb0707": {
          "model_module": "@jupyter-widgets/base",
          "model_name": "LayoutModel",
          "state": {
            "_view_name": "LayoutView",
            "grid_template_rows": null,
            "right": null,
            "justify_content": null,
            "_view_module": "@jupyter-widgets/base",
            "overflow": null,
            "_model_module_version": "1.2.0",
            "_view_count": null,
            "flex_flow": null,
            "width": null,
            "min_width": null,
            "border": null,
            "align_items": null,
            "bottom": null,
            "_model_module": "@jupyter-widgets/base",
            "top": null,
            "grid_column": null,
            "overflow_y": null,
            "overflow_x": null,
            "grid_auto_flow": null,
            "grid_area": null,
            "grid_template_columns": null,
            "flex": null,
            "_model_name": "LayoutModel",
            "justify_items": null,
            "grid_row": null,
            "max_height": null,
            "align_content": null,
            "visibility": null,
            "align_self": null,
            "height": null,
            "min_height": null,
            "padding": null,
            "grid_auto_rows": null,
            "grid_gap": null,
            "max_width": null,
            "order": null,
            "_view_module_version": "1.2.0",
            "grid_template_areas": null,
            "object_position": null,
            "object_fit": null,
            "grid_auto_columns": null,
            "margin": null,
            "display": null,
            "left": null
          }
        },
        "f1ca479fb7e4444e9b93a96638ee3011": {
          "model_module": "@jupyter-widgets/controls",
          "model_name": "DescriptionStyleModel",
          "state": {
            "_view_name": "StyleView",
            "_model_name": "DescriptionStyleModel",
            "description_width": "",
            "_view_module": "@jupyter-widgets/base",
            "_model_module_version": "1.5.0",
            "_view_count": null,
            "_view_module_version": "1.2.0",
            "_model_module": "@jupyter-widgets/controls"
          }
        },
        "a4c36e0fdf564b039da2308dd90fa957": {
          "model_module": "@jupyter-widgets/base",
          "model_name": "LayoutModel",
          "state": {
            "_view_name": "LayoutView",
            "grid_template_rows": null,
            "right": null,
            "justify_content": null,
            "_view_module": "@jupyter-widgets/base",
            "overflow": null,
            "_model_module_version": "1.2.0",
            "_view_count": null,
            "flex_flow": null,
            "width": null,
            "min_width": null,
            "border": null,
            "align_items": null,
            "bottom": null,
            "_model_module": "@jupyter-widgets/base",
            "top": null,
            "grid_column": null,
            "overflow_y": null,
            "overflow_x": null,
            "grid_auto_flow": null,
            "grid_area": null,
            "grid_template_columns": null,
            "flex": null,
            "_model_name": "LayoutModel",
            "justify_items": null,
            "grid_row": null,
            "max_height": null,
            "align_content": null,
            "visibility": null,
            "align_self": null,
            "height": null,
            "min_height": null,
            "padding": null,
            "grid_auto_rows": null,
            "grid_gap": null,
            "max_width": null,
            "order": null,
            "_view_module_version": "1.2.0",
            "grid_template_areas": null,
            "object_position": null,
            "object_fit": null,
            "grid_auto_columns": null,
            "margin": null,
            "display": null,
            "left": null
          }
        },
        "8ce66defd85f418181f5020968f2f5da": {
          "model_module": "@jupyter-widgets/controls",
          "model_name": "HBoxModel",
          "state": {
            "_view_name": "HBoxView",
            "_dom_classes": [],
            "_model_name": "HBoxModel",
            "_view_module": "@jupyter-widgets/controls",
            "_model_module_version": "1.5.0",
            "_view_count": null,
            "_view_module_version": "1.5.0",
            "box_style": "",
            "layout": "IPY_MODEL_101ee99d98f9476bb810bcb7319368dc",
            "_model_module": "@jupyter-widgets/controls",
            "children": [
              "IPY_MODEL_f80158e6d0cf4872bd242f503a857543",
              "IPY_MODEL_21456237dcab485c9cfc88436f64dfde"
            ]
          }
        },
        "101ee99d98f9476bb810bcb7319368dc": {
          "model_module": "@jupyter-widgets/base",
          "model_name": "LayoutModel",
          "state": {
            "_view_name": "LayoutView",
            "grid_template_rows": null,
            "right": null,
            "justify_content": null,
            "_view_module": "@jupyter-widgets/base",
            "overflow": null,
            "_model_module_version": "1.2.0",
            "_view_count": null,
            "flex_flow": null,
            "width": null,
            "min_width": null,
            "border": null,
            "align_items": null,
            "bottom": null,
            "_model_module": "@jupyter-widgets/base",
            "top": null,
            "grid_column": null,
            "overflow_y": null,
            "overflow_x": null,
            "grid_auto_flow": null,
            "grid_area": null,
            "grid_template_columns": null,
            "flex": null,
            "_model_name": "LayoutModel",
            "justify_items": null,
            "grid_row": null,
            "max_height": null,
            "align_content": null,
            "visibility": null,
            "align_self": null,
            "height": null,
            "min_height": null,
            "padding": null,
            "grid_auto_rows": null,
            "grid_gap": null,
            "max_width": null,
            "order": null,
            "_view_module_version": "1.2.0",
            "grid_template_areas": null,
            "object_position": null,
            "object_fit": null,
            "grid_auto_columns": null,
            "margin": null,
            "display": null,
            "left": null
          }
        },
        "f80158e6d0cf4872bd242f503a857543": {
          "model_module": "@jupyter-widgets/controls",
          "model_name": "FloatProgressModel",
          "state": {
            "_view_name": "ProgressView",
            "style": "IPY_MODEL_520203d1f2a043d7905772552c2aba7b",
            "_dom_classes": [],
            "description": "",
            "_model_name": "FloatProgressModel",
            "bar_style": "info",
            "max": 1,
            "_view_module": "@jupyter-widgets/controls",
            "_model_module_version": "1.5.0",
            "value": 1,
            "_view_count": null,
            "_view_module_version": "1.5.0",
            "orientation": "horizontal",
            "min": 0,
            "description_tooltip": null,
            "_model_module": "@jupyter-widgets/controls",
            "layout": "IPY_MODEL_3e8df646d9014c41828eaf6d55b5e25a"
          }
        },
        "21456237dcab485c9cfc88436f64dfde": {
          "model_module": "@jupyter-widgets/controls",
          "model_name": "HTMLModel",
          "state": {
            "_view_name": "HTMLView",
            "style": "IPY_MODEL_1ff2371395fb4c0e88b9a3bf75a13c4d",
            "_dom_classes": [],
            "description": "",
            "_model_name": "HTMLModel",
            "placeholder": "​",
            "_view_module": "@jupyter-widgets/controls",
            "_model_module_version": "1.5.0",
            "value": " 11332/0 [00:00&lt;00:00, 102.06 examples/s]",
            "_view_count": null,
            "_view_module_version": "1.5.0",
            "description_tooltip": null,
            "_model_module": "@jupyter-widgets/controls",
            "layout": "IPY_MODEL_923a9e6028ad4f2cb5e4bfafa7cdde5e"
          }
        },
        "520203d1f2a043d7905772552c2aba7b": {
          "model_module": "@jupyter-widgets/controls",
          "model_name": "ProgressStyleModel",
          "state": {
            "_view_name": "StyleView",
            "_model_name": "ProgressStyleModel",
            "description_width": "initial",
            "_view_module": "@jupyter-widgets/base",
            "_model_module_version": "1.5.0",
            "_view_count": null,
            "_view_module_version": "1.2.0",
            "bar_color": null,
            "_model_module": "@jupyter-widgets/controls"
          }
        },
        "3e8df646d9014c41828eaf6d55b5e25a": {
          "model_module": "@jupyter-widgets/base",
          "model_name": "LayoutModel",
          "state": {
            "_view_name": "LayoutView",
            "grid_template_rows": null,
            "right": null,
            "justify_content": null,
            "_view_module": "@jupyter-widgets/base",
            "overflow": null,
            "_model_module_version": "1.2.0",
            "_view_count": null,
            "flex_flow": null,
            "width": null,
            "min_width": null,
            "border": null,
            "align_items": null,
            "bottom": null,
            "_model_module": "@jupyter-widgets/base",
            "top": null,
            "grid_column": null,
            "overflow_y": null,
            "overflow_x": null,
            "grid_auto_flow": null,
            "grid_area": null,
            "grid_template_columns": null,
            "flex": null,
            "_model_name": "LayoutModel",
            "justify_items": null,
            "grid_row": null,
            "max_height": null,
            "align_content": null,
            "visibility": null,
            "align_self": null,
            "height": null,
            "min_height": null,
            "padding": null,
            "grid_auto_rows": null,
            "grid_gap": null,
            "max_width": null,
            "order": null,
            "_view_module_version": "1.2.0",
            "grid_template_areas": null,
            "object_position": null,
            "object_fit": null,
            "grid_auto_columns": null,
            "margin": null,
            "display": null,
            "left": null
          }
        },
        "1ff2371395fb4c0e88b9a3bf75a13c4d": {
          "model_module": "@jupyter-widgets/controls",
          "model_name": "DescriptionStyleModel",
          "state": {
            "_view_name": "StyleView",
            "_model_name": "DescriptionStyleModel",
            "description_width": "",
            "_view_module": "@jupyter-widgets/base",
            "_model_module_version": "1.5.0",
            "_view_count": null,
            "_view_module_version": "1.2.0",
            "_model_module": "@jupyter-widgets/controls"
          }
        },
        "923a9e6028ad4f2cb5e4bfafa7cdde5e": {
          "model_module": "@jupyter-widgets/base",
          "model_name": "LayoutModel",
          "state": {
            "_view_name": "LayoutView",
            "grid_template_rows": null,
            "right": null,
            "justify_content": null,
            "_view_module": "@jupyter-widgets/base",
            "overflow": null,
            "_model_module_version": "1.2.0",
            "_view_count": null,
            "flex_flow": null,
            "width": null,
            "min_width": null,
            "border": null,
            "align_items": null,
            "bottom": null,
            "_model_module": "@jupyter-widgets/base",
            "top": null,
            "grid_column": null,
            "overflow_y": null,
            "overflow_x": null,
            "grid_auto_flow": null,
            "grid_area": null,
            "grid_template_columns": null,
            "flex": null,
            "_model_name": "LayoutModel",
            "justify_items": null,
            "grid_row": null,
            "max_height": null,
            "align_content": null,
            "visibility": null,
            "align_self": null,
            "height": null,
            "min_height": null,
            "padding": null,
            "grid_auto_rows": null,
            "grid_gap": null,
            "max_width": null,
            "order": null,
            "_view_module_version": "1.2.0",
            "grid_template_areas": null,
            "object_position": null,
            "object_fit": null,
            "grid_auto_columns": null,
            "margin": null,
            "display": null,
            "left": null
          }
        },
        "067a34db8b7a4a4ea70f78b86faba4f4": {
          "model_module": "@jupyter-widgets/controls",
          "model_name": "HBoxModel",
          "state": {
            "_view_name": "HBoxView",
            "_dom_classes": [],
            "_model_name": "HBoxModel",
            "_view_module": "@jupyter-widgets/controls",
            "_model_module_version": "1.5.0",
            "_view_count": null,
            "_view_module_version": "1.5.0",
            "box_style": "",
            "layout": "IPY_MODEL_6776dba173514de89f2be9195d8a2aa2",
            "_model_module": "@jupyter-widgets/controls",
            "children": [
              "IPY_MODEL_5c2661c5955143cfba11fee275b494c7",
              "IPY_MODEL_3c486344be3140ca92c31d60e09a2951"
            ]
          }
        },
        "6776dba173514de89f2be9195d8a2aa2": {
          "model_module": "@jupyter-widgets/base",
          "model_name": "LayoutModel",
          "state": {
            "_view_name": "LayoutView",
            "grid_template_rows": null,
            "right": null,
            "justify_content": null,
            "_view_module": "@jupyter-widgets/base",
            "overflow": null,
            "_model_module_version": "1.2.0",
            "_view_count": null,
            "flex_flow": null,
            "width": null,
            "min_width": null,
            "border": null,
            "align_items": null,
            "bottom": null,
            "_model_module": "@jupyter-widgets/base",
            "top": null,
            "grid_column": null,
            "overflow_y": null,
            "overflow_x": null,
            "grid_auto_flow": null,
            "grid_area": null,
            "grid_template_columns": null,
            "flex": null,
            "_model_name": "LayoutModel",
            "justify_items": null,
            "grid_row": null,
            "max_height": null,
            "align_content": null,
            "visibility": null,
            "align_self": null,
            "height": null,
            "min_height": null,
            "padding": null,
            "grid_auto_rows": null,
            "grid_gap": null,
            "max_width": null,
            "order": null,
            "_view_module_version": "1.2.0",
            "grid_template_areas": null,
            "object_position": null,
            "object_fit": null,
            "grid_auto_columns": null,
            "margin": null,
            "display": null,
            "left": null
          }
        },
        "5c2661c5955143cfba11fee275b494c7": {
          "model_module": "@jupyter-widgets/controls",
          "model_name": "FloatProgressModel",
          "state": {
            "_view_name": "ProgressView",
            "style": "IPY_MODEL_e88b41fa76834d81877ddef401eb995a",
            "_dom_classes": [],
            "description": "",
            "_model_name": "FloatProgressModel",
            "bar_style": "info",
            "max": 1,
            "_view_module": "@jupyter-widgets/controls",
            "_model_module_version": "1.5.0",
            "value": 1,
            "_view_count": null,
            "_view_module_version": "1.5.0",
            "orientation": "horizontal",
            "min": 0,
            "description_tooltip": null,
            "_model_module": "@jupyter-widgets/controls",
            "layout": "IPY_MODEL_fb4faade68944852a8c03c4066b8148f"
          }
        },
        "3c486344be3140ca92c31d60e09a2951": {
          "model_module": "@jupyter-widgets/controls",
          "model_name": "HTMLModel",
          "state": {
            "_view_name": "HTMLView",
            "style": "IPY_MODEL_78ef8f3df426400d970f091bbdca28b4",
            "_dom_classes": [],
            "description": "",
            "_model_name": "HTMLModel",
            "placeholder": "​",
            "_view_module": "@jupyter-widgets/controls",
            "_model_module_version": "1.5.0",
            "value": " 11334/0 [00:00&lt;00:00, 11718.35 examples/s]",
            "_view_count": null,
            "_view_module_version": "1.5.0",
            "description_tooltip": null,
            "_model_module": "@jupyter-widgets/controls",
            "layout": "IPY_MODEL_80a7c0f1b811432fb6a20bb2da802b11"
          }
        },
        "e88b41fa76834d81877ddef401eb995a": {
          "model_module": "@jupyter-widgets/controls",
          "model_name": "ProgressStyleModel",
          "state": {
            "_view_name": "StyleView",
            "_model_name": "ProgressStyleModel",
            "description_width": "initial",
            "_view_module": "@jupyter-widgets/base",
            "_model_module_version": "1.5.0",
            "_view_count": null,
            "_view_module_version": "1.2.0",
            "bar_color": null,
            "_model_module": "@jupyter-widgets/controls"
          }
        },
        "fb4faade68944852a8c03c4066b8148f": {
          "model_module": "@jupyter-widgets/base",
          "model_name": "LayoutModel",
          "state": {
            "_view_name": "LayoutView",
            "grid_template_rows": null,
            "right": null,
            "justify_content": null,
            "_view_module": "@jupyter-widgets/base",
            "overflow": null,
            "_model_module_version": "1.2.0",
            "_view_count": null,
            "flex_flow": null,
            "width": null,
            "min_width": null,
            "border": null,
            "align_items": null,
            "bottom": null,
            "_model_module": "@jupyter-widgets/base",
            "top": null,
            "grid_column": null,
            "overflow_y": null,
            "overflow_x": null,
            "grid_auto_flow": null,
            "grid_area": null,
            "grid_template_columns": null,
            "flex": null,
            "_model_name": "LayoutModel",
            "justify_items": null,
            "grid_row": null,
            "max_height": null,
            "align_content": null,
            "visibility": null,
            "align_self": null,
            "height": null,
            "min_height": null,
            "padding": null,
            "grid_auto_rows": null,
            "grid_gap": null,
            "max_width": null,
            "order": null,
            "_view_module_version": "1.2.0",
            "grid_template_areas": null,
            "object_position": null,
            "object_fit": null,
            "grid_auto_columns": null,
            "margin": null,
            "display": null,
            "left": null
          }
        },
        "78ef8f3df426400d970f091bbdca28b4": {
          "model_module": "@jupyter-widgets/controls",
          "model_name": "DescriptionStyleModel",
          "state": {
            "_view_name": "StyleView",
            "_model_name": "DescriptionStyleModel",
            "description_width": "",
            "_view_module": "@jupyter-widgets/base",
            "_model_module_version": "1.5.0",
            "_view_count": null,
            "_view_module_version": "1.2.0",
            "_model_module": "@jupyter-widgets/controls"
          }
        },
        "80a7c0f1b811432fb6a20bb2da802b11": {
          "model_module": "@jupyter-widgets/base",
          "model_name": "LayoutModel",
          "state": {
            "_view_name": "LayoutView",
            "grid_template_rows": null,
            "right": null,
            "justify_content": null,
            "_view_module": "@jupyter-widgets/base",
            "overflow": null,
            "_model_module_version": "1.2.0",
            "_view_count": null,
            "flex_flow": null,
            "width": null,
            "min_width": null,
            "border": null,
            "align_items": null,
            "bottom": null,
            "_model_module": "@jupyter-widgets/base",
            "top": null,
            "grid_column": null,
            "overflow_y": null,
            "overflow_x": null,
            "grid_auto_flow": null,
            "grid_area": null,
            "grid_template_columns": null,
            "flex": null,
            "_model_name": "LayoutModel",
            "justify_items": null,
            "grid_row": null,
            "max_height": null,
            "align_content": null,
            "visibility": null,
            "align_self": null,
            "height": null,
            "min_height": null,
            "padding": null,
            "grid_auto_rows": null,
            "grid_gap": null,
            "max_width": null,
            "order": null,
            "_view_module_version": "1.2.0",
            "grid_template_areas": null,
            "object_position": null,
            "object_fit": null,
            "grid_auto_columns": null,
            "margin": null,
            "display": null,
            "left": null
          }
        },
        "cd1f60a360934d21986867133f0df77f": {
          "model_module": "@jupyter-widgets/controls",
          "model_name": "HBoxModel",
          "state": {
            "_view_name": "HBoxView",
            "_dom_classes": [],
            "_model_name": "HBoxModel",
            "_view_module": "@jupyter-widgets/controls",
            "_model_module_version": "1.5.0",
            "_view_count": null,
            "_view_module_version": "1.5.0",
            "box_style": "",
            "layout": "IPY_MODEL_bbc9de2946674e8098b116ec69d28f2f",
            "_model_module": "@jupyter-widgets/controls",
            "children": [
              "IPY_MODEL_776e40b624654627992e4bb1430f1a0a",
              "IPY_MODEL_8a440059ac354903b324eedca999fbe3"
            ]
          }
        },
        "bbc9de2946674e8098b116ec69d28f2f": {
          "model_module": "@jupyter-widgets/base",
          "model_name": "LayoutModel",
          "state": {
            "_view_name": "LayoutView",
            "grid_template_rows": null,
            "right": null,
            "justify_content": null,
            "_view_module": "@jupyter-widgets/base",
            "overflow": null,
            "_model_module_version": "1.2.0",
            "_view_count": null,
            "flex_flow": null,
            "width": null,
            "min_width": null,
            "border": null,
            "align_items": null,
            "bottom": null,
            "_model_module": "@jupyter-widgets/base",
            "top": null,
            "grid_column": null,
            "overflow_y": null,
            "overflow_x": null,
            "grid_auto_flow": null,
            "grid_area": null,
            "grid_template_columns": null,
            "flex": null,
            "_model_name": "LayoutModel",
            "justify_items": null,
            "grid_row": null,
            "max_height": null,
            "align_content": null,
            "visibility": null,
            "align_self": null,
            "height": null,
            "min_height": null,
            "padding": null,
            "grid_auto_rows": null,
            "grid_gap": null,
            "max_width": null,
            "order": null,
            "_view_module_version": "1.2.0",
            "grid_template_areas": null,
            "object_position": null,
            "object_fit": null,
            "grid_auto_columns": null,
            "margin": null,
            "display": null,
            "left": null
          }
        },
        "776e40b624654627992e4bb1430f1a0a": {
          "model_module": "@jupyter-widgets/controls",
          "model_name": "FloatProgressModel",
          "state": {
            "_view_name": "ProgressView",
            "style": "IPY_MODEL_e7eeb20f1dec463abe0c75d51b7c2ef6",
            "_dom_classes": [],
            "description": "Downloading: ",
            "_model_name": "FloatProgressModel",
            "bar_style": "success",
            "max": 2170,
            "_view_module": "@jupyter-widgets/controls",
            "_model_module_version": "1.5.0",
            "value": 2170,
            "_view_count": null,
            "_view_module_version": "1.5.0",
            "orientation": "horizontal",
            "min": 0,
            "description_tooltip": null,
            "_model_module": "@jupyter-widgets/controls",
            "layout": "IPY_MODEL_2ed211b40ca84b61b0ab21306b5b4aec"
          }
        },
        "8a440059ac354903b324eedca999fbe3": {
          "model_module": "@jupyter-widgets/controls",
          "model_name": "HTMLModel",
          "state": {
            "_view_name": "HTMLView",
            "style": "IPY_MODEL_db762a3e6c4f43f781f4c95af3d73e46",
            "_dom_classes": [],
            "description": "",
            "_model_name": "HTMLModel",
            "placeholder": "​",
            "_view_module": "@jupyter-widgets/controls",
            "_model_module_version": "1.5.0",
            "value": " 5.61k/? [00:00&lt;00:00, 13.5kB/s]",
            "_view_count": null,
            "_view_module_version": "1.5.0",
            "description_tooltip": null,
            "_model_module": "@jupyter-widgets/controls",
            "layout": "IPY_MODEL_10133cfd252740098235e8b5ad46c486"
          }
        },
        "e7eeb20f1dec463abe0c75d51b7c2ef6": {
          "model_module": "@jupyter-widgets/controls",
          "model_name": "ProgressStyleModel",
          "state": {
            "_view_name": "StyleView",
            "_model_name": "ProgressStyleModel",
            "description_width": "initial",
            "_view_module": "@jupyter-widgets/base",
            "_model_module_version": "1.5.0",
            "_view_count": null,
            "_view_module_version": "1.2.0",
            "bar_color": null,
            "_model_module": "@jupyter-widgets/controls"
          }
        },
        "2ed211b40ca84b61b0ab21306b5b4aec": {
          "model_module": "@jupyter-widgets/base",
          "model_name": "LayoutModel",
          "state": {
            "_view_name": "LayoutView",
            "grid_template_rows": null,
            "right": null,
            "justify_content": null,
            "_view_module": "@jupyter-widgets/base",
            "overflow": null,
            "_model_module_version": "1.2.0",
            "_view_count": null,
            "flex_flow": null,
            "width": null,
            "min_width": null,
            "border": null,
            "align_items": null,
            "bottom": null,
            "_model_module": "@jupyter-widgets/base",
            "top": null,
            "grid_column": null,
            "overflow_y": null,
            "overflow_x": null,
            "grid_auto_flow": null,
            "grid_area": null,
            "grid_template_columns": null,
            "flex": null,
            "_model_name": "LayoutModel",
            "justify_items": null,
            "grid_row": null,
            "max_height": null,
            "align_content": null,
            "visibility": null,
            "align_self": null,
            "height": null,
            "min_height": null,
            "padding": null,
            "grid_auto_rows": null,
            "grid_gap": null,
            "max_width": null,
            "order": null,
            "_view_module_version": "1.2.0",
            "grid_template_areas": null,
            "object_position": null,
            "object_fit": null,
            "grid_auto_columns": null,
            "margin": null,
            "display": null,
            "left": null
          }
        },
        "db762a3e6c4f43f781f4c95af3d73e46": {
          "model_module": "@jupyter-widgets/controls",
          "model_name": "DescriptionStyleModel",
          "state": {
            "_view_name": "StyleView",
            "_model_name": "DescriptionStyleModel",
            "description_width": "",
            "_view_module": "@jupyter-widgets/base",
            "_model_module_version": "1.5.0",
            "_view_count": null,
            "_view_module_version": "1.2.0",
            "_model_module": "@jupyter-widgets/controls"
          }
        },
        "10133cfd252740098235e8b5ad46c486": {
          "model_module": "@jupyter-widgets/base",
          "model_name": "LayoutModel",
          "state": {
            "_view_name": "LayoutView",
            "grid_template_rows": null,
            "right": null,
            "justify_content": null,
            "_view_module": "@jupyter-widgets/base",
            "overflow": null,
            "_model_module_version": "1.2.0",
            "_view_count": null,
            "flex_flow": null,
            "width": null,
            "min_width": null,
            "border": null,
            "align_items": null,
            "bottom": null,
            "_model_module": "@jupyter-widgets/base",
            "top": null,
            "grid_column": null,
            "overflow_y": null,
            "overflow_x": null,
            "grid_auto_flow": null,
            "grid_area": null,
            "grid_template_columns": null,
            "flex": null,
            "_model_name": "LayoutModel",
            "justify_items": null,
            "grid_row": null,
            "max_height": null,
            "align_content": null,
            "visibility": null,
            "align_self": null,
            "height": null,
            "min_height": null,
            "padding": null,
            "grid_auto_rows": null,
            "grid_gap": null,
            "max_width": null,
            "order": null,
            "_view_module_version": "1.2.0",
            "grid_template_areas": null,
            "object_position": null,
            "object_fit": null,
            "grid_auto_columns": null,
            "margin": null,
            "display": null,
            "left": null
          }
        },
        "5547109f9ea84b52978aac761a60bf4c": {
          "model_module": "@jupyter-widgets/controls",
          "model_name": "HBoxModel",
          "state": {
            "_view_name": "HBoxView",
            "_dom_classes": [],
            "_model_name": "HBoxModel",
            "_view_module": "@jupyter-widgets/controls",
            "_model_module_version": "1.5.0",
            "_view_count": null,
            "_view_module_version": "1.5.0",
            "box_style": "",
            "layout": "IPY_MODEL_b12af064c014466eaa7ba40486802dbb",
            "_model_module": "@jupyter-widgets/controls",
            "children": [
              "IPY_MODEL_35b2c0ec62eb4f13ba6e787c36dd5ec7",
              "IPY_MODEL_83a77e4d588e4af997adfe3f36d3537c"
            ]
          }
        },
        "b12af064c014466eaa7ba40486802dbb": {
          "model_module": "@jupyter-widgets/base",
          "model_name": "LayoutModel",
          "state": {
            "_view_name": "LayoutView",
            "grid_template_rows": null,
            "right": null,
            "justify_content": null,
            "_view_module": "@jupyter-widgets/base",
            "overflow": null,
            "_model_module_version": "1.2.0",
            "_view_count": null,
            "flex_flow": null,
            "width": null,
            "min_width": null,
            "border": null,
            "align_items": null,
            "bottom": null,
            "_model_module": "@jupyter-widgets/base",
            "top": null,
            "grid_column": null,
            "overflow_y": null,
            "overflow_x": null,
            "grid_auto_flow": null,
            "grid_area": null,
            "grid_template_columns": null,
            "flex": null,
            "_model_name": "LayoutModel",
            "justify_items": null,
            "grid_row": null,
            "max_height": null,
            "align_content": null,
            "visibility": null,
            "align_self": null,
            "height": null,
            "min_height": null,
            "padding": null,
            "grid_auto_rows": null,
            "grid_gap": null,
            "max_width": null,
            "order": null,
            "_view_module_version": "1.2.0",
            "grid_template_areas": null,
            "object_position": null,
            "object_fit": null,
            "grid_auto_columns": null,
            "margin": null,
            "display": null,
            "left": null
          }
        },
        "35b2c0ec62eb4f13ba6e787c36dd5ec7": {
          "model_module": "@jupyter-widgets/controls",
          "model_name": "FloatProgressModel",
          "state": {
            "_view_name": "ProgressView",
            "style": "IPY_MODEL_a0ba8d6783eb447ba1035d110d829692",
            "_dom_classes": [],
            "description": "Downloading: 100%",
            "_model_name": "FloatProgressModel",
            "bar_style": "success",
            "max": 1197,
            "_view_module": "@jupyter-widgets/controls",
            "_model_module_version": "1.5.0",
            "value": 1197,
            "_view_count": null,
            "_view_module_version": "1.5.0",
            "orientation": "horizontal",
            "min": 0,
            "description_tooltip": null,
            "_model_module": "@jupyter-widgets/controls",
            "layout": "IPY_MODEL_34352135cc6c4f8588cab0fc8870bd54"
          }
        },
        "83a77e4d588e4af997adfe3f36d3537c": {
          "model_module": "@jupyter-widgets/controls",
          "model_name": "HTMLModel",
          "state": {
            "_view_name": "HTMLView",
            "style": "IPY_MODEL_b345f8021289400a804e1c4a9fe29ec7",
            "_dom_classes": [],
            "description": "",
            "_model_name": "HTMLModel",
            "placeholder": "​",
            "_view_module": "@jupyter-widgets/controls",
            "_model_module_version": "1.5.0",
            "value": " 1.20k/1.20k [00:01&lt;00:00, 1.15kB/s]",
            "_view_count": null,
            "_view_module_version": "1.5.0",
            "description_tooltip": null,
            "_model_module": "@jupyter-widgets/controls",
            "layout": "IPY_MODEL_d42ef69001c74d4e84fdd5d53d4494a5"
          }
        },
        "a0ba8d6783eb447ba1035d110d829692": {
          "model_module": "@jupyter-widgets/controls",
          "model_name": "ProgressStyleModel",
          "state": {
            "_view_name": "StyleView",
            "_model_name": "ProgressStyleModel",
            "description_width": "initial",
            "_view_module": "@jupyter-widgets/base",
            "_model_module_version": "1.5.0",
            "_view_count": null,
            "_view_module_version": "1.2.0",
            "bar_color": null,
            "_model_module": "@jupyter-widgets/controls"
          }
        },
        "34352135cc6c4f8588cab0fc8870bd54": {
          "model_module": "@jupyter-widgets/base",
          "model_name": "LayoutModel",
          "state": {
            "_view_name": "LayoutView",
            "grid_template_rows": null,
            "right": null,
            "justify_content": null,
            "_view_module": "@jupyter-widgets/base",
            "overflow": null,
            "_model_module_version": "1.2.0",
            "_view_count": null,
            "flex_flow": null,
            "width": null,
            "min_width": null,
            "border": null,
            "align_items": null,
            "bottom": null,
            "_model_module": "@jupyter-widgets/base",
            "top": null,
            "grid_column": null,
            "overflow_y": null,
            "overflow_x": null,
            "grid_auto_flow": null,
            "grid_area": null,
            "grid_template_columns": null,
            "flex": null,
            "_model_name": "LayoutModel",
            "justify_items": null,
            "grid_row": null,
            "max_height": null,
            "align_content": null,
            "visibility": null,
            "align_self": null,
            "height": null,
            "min_height": null,
            "padding": null,
            "grid_auto_rows": null,
            "grid_gap": null,
            "max_width": null,
            "order": null,
            "_view_module_version": "1.2.0",
            "grid_template_areas": null,
            "object_position": null,
            "object_fit": null,
            "grid_auto_columns": null,
            "margin": null,
            "display": null,
            "left": null
          }
        },
        "b345f8021289400a804e1c4a9fe29ec7": {
          "model_module": "@jupyter-widgets/controls",
          "model_name": "DescriptionStyleModel",
          "state": {
            "_view_name": "StyleView",
            "_model_name": "DescriptionStyleModel",
            "description_width": "",
            "_view_module": "@jupyter-widgets/base",
            "_model_module_version": "1.5.0",
            "_view_count": null,
            "_view_module_version": "1.2.0",
            "_model_module": "@jupyter-widgets/controls"
          }
        },
        "d42ef69001c74d4e84fdd5d53d4494a5": {
          "model_module": "@jupyter-widgets/base",
          "model_name": "LayoutModel",
          "state": {
            "_view_name": "LayoutView",
            "grid_template_rows": null,
            "right": null,
            "justify_content": null,
            "_view_module": "@jupyter-widgets/base",
            "overflow": null,
            "_model_module_version": "1.2.0",
            "_view_count": null,
            "flex_flow": null,
            "width": null,
            "min_width": null,
            "border": null,
            "align_items": null,
            "bottom": null,
            "_model_module": "@jupyter-widgets/base",
            "top": null,
            "grid_column": null,
            "overflow_y": null,
            "overflow_x": null,
            "grid_auto_flow": null,
            "grid_area": null,
            "grid_template_columns": null,
            "flex": null,
            "_model_name": "LayoutModel",
            "justify_items": null,
            "grid_row": null,
            "max_height": null,
            "align_content": null,
            "visibility": null,
            "align_self": null,
            "height": null,
            "min_height": null,
            "padding": null,
            "grid_auto_rows": null,
            "grid_gap": null,
            "max_width": null,
            "order": null,
            "_view_module_version": "1.2.0",
            "grid_template_areas": null,
            "object_position": null,
            "object_fit": null,
            "grid_auto_columns": null,
            "margin": null,
            "display": null,
            "left": null
          }
        },
        "6a185905d75b4704afbe1501a17ce726": {
          "model_module": "@jupyter-widgets/controls",
          "model_name": "HBoxModel",
          "state": {
            "_view_name": "HBoxView",
            "_dom_classes": [],
            "_model_name": "HBoxModel",
            "_view_module": "@jupyter-widgets/controls",
            "_model_module_version": "1.5.0",
            "_view_count": null,
            "_view_module_version": "1.5.0",
            "box_style": "",
            "layout": "IPY_MODEL_f10732b882e64b1da27b5c9de10b1acc",
            "_model_module": "@jupyter-widgets/controls",
            "children": [
              "IPY_MODEL_b583a4bf06234343940639f05a1ece15",
              "IPY_MODEL_f489f0fb6a4d45eba0d4f31ffbd9a159"
            ]
          }
        },
        "f10732b882e64b1da27b5c9de10b1acc": {
          "model_module": "@jupyter-widgets/base",
          "model_name": "LayoutModel",
          "state": {
            "_view_name": "LayoutView",
            "grid_template_rows": null,
            "right": null,
            "justify_content": null,
            "_view_module": "@jupyter-widgets/base",
            "overflow": null,
            "_model_module_version": "1.2.0",
            "_view_count": null,
            "flex_flow": null,
            "width": null,
            "min_width": null,
            "border": null,
            "align_items": null,
            "bottom": null,
            "_model_module": "@jupyter-widgets/base",
            "top": null,
            "grid_column": null,
            "overflow_y": null,
            "overflow_x": null,
            "grid_auto_flow": null,
            "grid_area": null,
            "grid_template_columns": null,
            "flex": null,
            "_model_name": "LayoutModel",
            "justify_items": null,
            "grid_row": null,
            "max_height": null,
            "align_content": null,
            "visibility": null,
            "align_self": null,
            "height": null,
            "min_height": null,
            "padding": null,
            "grid_auto_rows": null,
            "grid_gap": null,
            "max_width": null,
            "order": null,
            "_view_module_version": "1.2.0",
            "grid_template_areas": null,
            "object_position": null,
            "object_fit": null,
            "grid_auto_columns": null,
            "margin": null,
            "display": null,
            "left": null
          }
        },
        "b583a4bf06234343940639f05a1ece15": {
          "model_module": "@jupyter-widgets/controls",
          "model_name": "FloatProgressModel",
          "state": {
            "_view_name": "ProgressView",
            "style": "IPY_MODEL_e49d2c851e19479bb012ad5de9b0cd75",
            "_dom_classes": [],
            "description": "Downloading: 100%",
            "_model_name": "FloatProgressModel",
            "bar_style": "success",
            "max": 791656,
            "_view_module": "@jupyter-widgets/controls",
            "_model_module_version": "1.5.0",
            "value": 791656,
            "_view_count": null,
            "_view_module_version": "1.5.0",
            "orientation": "horizontal",
            "min": 0,
            "description_tooltip": null,
            "_model_module": "@jupyter-widgets/controls",
            "layout": "IPY_MODEL_3ba4f4d1669c4c58a4fa2962382b7bf4"
          }
        },
        "f489f0fb6a4d45eba0d4f31ffbd9a159": {
          "model_module": "@jupyter-widgets/controls",
          "model_name": "HTMLModel",
          "state": {
            "_view_name": "HTMLView",
            "style": "IPY_MODEL_e5f9010a31fd4aee98ebc82c2300883a",
            "_dom_classes": [],
            "description": "",
            "_model_name": "HTMLModel",
            "placeholder": "​",
            "_view_module": "@jupyter-widgets/controls",
            "_model_module_version": "1.5.0",
            "value": " 792k/792k [00:05&lt;00:00, 152kB/s]",
            "_view_count": null,
            "_view_module_version": "1.5.0",
            "description_tooltip": null,
            "_model_module": "@jupyter-widgets/controls",
            "layout": "IPY_MODEL_16a0b059b8824fd5955cb6ee5699e249"
          }
        },
        "e49d2c851e19479bb012ad5de9b0cd75": {
          "model_module": "@jupyter-widgets/controls",
          "model_name": "ProgressStyleModel",
          "state": {
            "_view_name": "StyleView",
            "_model_name": "ProgressStyleModel",
            "description_width": "initial",
            "_view_module": "@jupyter-widgets/base",
            "_model_module_version": "1.5.0",
            "_view_count": null,
            "_view_module_version": "1.2.0",
            "bar_color": null,
            "_model_module": "@jupyter-widgets/controls"
          }
        },
        "3ba4f4d1669c4c58a4fa2962382b7bf4": {
          "model_module": "@jupyter-widgets/base",
          "model_name": "LayoutModel",
          "state": {
            "_view_name": "LayoutView",
            "grid_template_rows": null,
            "right": null,
            "justify_content": null,
            "_view_module": "@jupyter-widgets/base",
            "overflow": null,
            "_model_module_version": "1.2.0",
            "_view_count": null,
            "flex_flow": null,
            "width": null,
            "min_width": null,
            "border": null,
            "align_items": null,
            "bottom": null,
            "_model_module": "@jupyter-widgets/base",
            "top": null,
            "grid_column": null,
            "overflow_y": null,
            "overflow_x": null,
            "grid_auto_flow": null,
            "grid_area": null,
            "grid_template_columns": null,
            "flex": null,
            "_model_name": "LayoutModel",
            "justify_items": null,
            "grid_row": null,
            "max_height": null,
            "align_content": null,
            "visibility": null,
            "align_self": null,
            "height": null,
            "min_height": null,
            "padding": null,
            "grid_auto_rows": null,
            "grid_gap": null,
            "max_width": null,
            "order": null,
            "_view_module_version": "1.2.0",
            "grid_template_areas": null,
            "object_position": null,
            "object_fit": null,
            "grid_auto_columns": null,
            "margin": null,
            "display": null,
            "left": null
          }
        },
        "e5f9010a31fd4aee98ebc82c2300883a": {
          "model_module": "@jupyter-widgets/controls",
          "model_name": "DescriptionStyleModel",
          "state": {
            "_view_name": "StyleView",
            "_model_name": "DescriptionStyleModel",
            "description_width": "",
            "_view_module": "@jupyter-widgets/base",
            "_model_module_version": "1.5.0",
            "_view_count": null,
            "_view_module_version": "1.2.0",
            "_model_module": "@jupyter-widgets/controls"
          }
        },
        "16a0b059b8824fd5955cb6ee5699e249": {
          "model_module": "@jupyter-widgets/base",
          "model_name": "LayoutModel",
          "state": {
            "_view_name": "LayoutView",
            "grid_template_rows": null,
            "right": null,
            "justify_content": null,
            "_view_module": "@jupyter-widgets/base",
            "overflow": null,
            "_model_module_version": "1.2.0",
            "_view_count": null,
            "flex_flow": null,
            "width": null,
            "min_width": null,
            "border": null,
            "align_items": null,
            "bottom": null,
            "_model_module": "@jupyter-widgets/base",
            "top": null,
            "grid_column": null,
            "overflow_y": null,
            "overflow_x": null,
            "grid_auto_flow": null,
            "grid_area": null,
            "grid_template_columns": null,
            "flex": null,
            "_model_name": "LayoutModel",
            "justify_items": null,
            "grid_row": null,
            "max_height": null,
            "align_content": null,
            "visibility": null,
            "align_self": null,
            "height": null,
            "min_height": null,
            "padding": null,
            "grid_auto_rows": null,
            "grid_gap": null,
            "max_width": null,
            "order": null,
            "_view_module_version": "1.2.0",
            "grid_template_areas": null,
            "object_position": null,
            "object_fit": null,
            "grid_auto_columns": null,
            "margin": null,
            "display": null,
            "left": null
          }
        },
        "b9a3802389544ab9a2257112845ad0bb": {
          "model_module": "@jupyter-widgets/controls",
          "model_name": "HBoxModel",
          "state": {
            "_view_name": "HBoxView",
            "_dom_classes": [],
            "_model_name": "HBoxModel",
            "_view_module": "@jupyter-widgets/controls",
            "_model_module_version": "1.5.0",
            "_view_count": null,
            "_view_module_version": "1.5.0",
            "box_style": "",
            "layout": "IPY_MODEL_633223e35f5045599c4105456d1989c3",
            "_model_module": "@jupyter-widgets/controls",
            "children": [
              "IPY_MODEL_31b81f21af354760a38861bd0a55587c",
              "IPY_MODEL_56ab97513f8b4886926f940663d2f1d2"
            ]
          }
        },
        "633223e35f5045599c4105456d1989c3": {
          "model_module": "@jupyter-widgets/base",
          "model_name": "LayoutModel",
          "state": {
            "_view_name": "LayoutView",
            "grid_template_rows": null,
            "right": null,
            "justify_content": null,
            "_view_module": "@jupyter-widgets/base",
            "overflow": null,
            "_model_module_version": "1.2.0",
            "_view_count": null,
            "flex_flow": null,
            "width": null,
            "min_width": null,
            "border": null,
            "align_items": null,
            "bottom": null,
            "_model_module": "@jupyter-widgets/base",
            "top": null,
            "grid_column": null,
            "overflow_y": null,
            "overflow_x": null,
            "grid_auto_flow": null,
            "grid_area": null,
            "grid_template_columns": null,
            "flex": null,
            "_model_name": "LayoutModel",
            "justify_items": null,
            "grid_row": null,
            "max_height": null,
            "align_content": null,
            "visibility": null,
            "align_self": null,
            "height": null,
            "min_height": null,
            "padding": null,
            "grid_auto_rows": null,
            "grid_gap": null,
            "max_width": null,
            "order": null,
            "_view_module_version": "1.2.0",
            "grid_template_areas": null,
            "object_position": null,
            "object_fit": null,
            "grid_auto_columns": null,
            "margin": null,
            "display": null,
            "left": null
          }
        },
        "31b81f21af354760a38861bd0a55587c": {
          "model_module": "@jupyter-widgets/controls",
          "model_name": "FloatProgressModel",
          "state": {
            "_view_name": "ProgressView",
            "style": "IPY_MODEL_fad53ed5e8d24de795c87fa9a63924da",
            "_dom_classes": [],
            "description": "Downloading: 100%",
            "_model_name": "FloatProgressModel",
            "bar_style": "success",
            "max": 1389353,
            "_view_module": "@jupyter-widgets/controls",
            "_model_module_version": "1.5.0",
            "value": 1389353,
            "_view_count": null,
            "_view_module_version": "1.5.0",
            "orientation": "horizontal",
            "min": 0,
            "description_tooltip": null,
            "_model_module": "@jupyter-widgets/controls",
            "layout": "IPY_MODEL_ad399007d6f54180af3daec2131f6179"
          }
        },
        "56ab97513f8b4886926f940663d2f1d2": {
          "model_module": "@jupyter-widgets/controls",
          "model_name": "HTMLModel",
          "state": {
            "_view_name": "HTMLView",
            "style": "IPY_MODEL_3cdacbc5fd3f477383e6c8a835961b9e",
            "_dom_classes": [],
            "description": "",
            "_model_name": "HTMLModel",
            "placeholder": "​",
            "_view_module": "@jupyter-widgets/controls",
            "_model_module_version": "1.5.0",
            "value": " 1.39M/1.39M [00:03&lt;00:00, 441kB/s]",
            "_view_count": null,
            "_view_module_version": "1.5.0",
            "description_tooltip": null,
            "_model_module": "@jupyter-widgets/controls",
            "layout": "IPY_MODEL_3cbbc048d35442989c7e16329ee1bcb4"
          }
        },
        "fad53ed5e8d24de795c87fa9a63924da": {
          "model_module": "@jupyter-widgets/controls",
          "model_name": "ProgressStyleModel",
          "state": {
            "_view_name": "StyleView",
            "_model_name": "ProgressStyleModel",
            "description_width": "initial",
            "_view_module": "@jupyter-widgets/base",
            "_model_module_version": "1.5.0",
            "_view_count": null,
            "_view_module_version": "1.2.0",
            "bar_color": null,
            "_model_module": "@jupyter-widgets/controls"
          }
        },
        "ad399007d6f54180af3daec2131f6179": {
          "model_module": "@jupyter-widgets/base",
          "model_name": "LayoutModel",
          "state": {
            "_view_name": "LayoutView",
            "grid_template_rows": null,
            "right": null,
            "justify_content": null,
            "_view_module": "@jupyter-widgets/base",
            "overflow": null,
            "_model_module_version": "1.2.0",
            "_view_count": null,
            "flex_flow": null,
            "width": null,
            "min_width": null,
            "border": null,
            "align_items": null,
            "bottom": null,
            "_model_module": "@jupyter-widgets/base",
            "top": null,
            "grid_column": null,
            "overflow_y": null,
            "overflow_x": null,
            "grid_auto_flow": null,
            "grid_area": null,
            "grid_template_columns": null,
            "flex": null,
            "_model_name": "LayoutModel",
            "justify_items": null,
            "grid_row": null,
            "max_height": null,
            "align_content": null,
            "visibility": null,
            "align_self": null,
            "height": null,
            "min_height": null,
            "padding": null,
            "grid_auto_rows": null,
            "grid_gap": null,
            "max_width": null,
            "order": null,
            "_view_module_version": "1.2.0",
            "grid_template_areas": null,
            "object_position": null,
            "object_fit": null,
            "grid_auto_columns": null,
            "margin": null,
            "display": null,
            "left": null
          }
        },
        "3cdacbc5fd3f477383e6c8a835961b9e": {
          "model_module": "@jupyter-widgets/controls",
          "model_name": "DescriptionStyleModel",
          "state": {
            "_view_name": "StyleView",
            "_model_name": "DescriptionStyleModel",
            "description_width": "",
            "_view_module": "@jupyter-widgets/base",
            "_model_module_version": "1.5.0",
            "_view_count": null,
            "_view_module_version": "1.2.0",
            "_model_module": "@jupyter-widgets/controls"
          }
        },
        "3cbbc048d35442989c7e16329ee1bcb4": {
          "model_module": "@jupyter-widgets/base",
          "model_name": "LayoutModel",
          "state": {
            "_view_name": "LayoutView",
            "grid_template_rows": null,
            "right": null,
            "justify_content": null,
            "_view_module": "@jupyter-widgets/base",
            "overflow": null,
            "_model_module_version": "1.2.0",
            "_view_count": null,
            "flex_flow": null,
            "width": null,
            "min_width": null,
            "border": null,
            "align_items": null,
            "bottom": null,
            "_model_module": "@jupyter-widgets/base",
            "top": null,
            "grid_column": null,
            "overflow_y": null,
            "overflow_x": null,
            "grid_auto_flow": null,
            "grid_area": null,
            "grid_template_columns": null,
            "flex": null,
            "_model_name": "LayoutModel",
            "justify_items": null,
            "grid_row": null,
            "max_height": null,
            "align_content": null,
            "visibility": null,
            "align_self": null,
            "height": null,
            "min_height": null,
            "padding": null,
            "grid_auto_rows": null,
            "grid_gap": null,
            "max_width": null,
            "order": null,
            "_view_module_version": "1.2.0",
            "grid_template_areas": null,
            "object_position": null,
            "object_fit": null,
            "grid_auto_columns": null,
            "margin": null,
            "display": null,
            "left": null
          }
        },
        "4d5fe3c7da094cc881bcc7db2dbf679b": {
          "model_module": "@jupyter-widgets/controls",
          "model_name": "HBoxModel",
          "state": {
            "_view_name": "HBoxView",
            "_dom_classes": [],
            "_model_name": "HBoxModel",
            "_view_module": "@jupyter-widgets/controls",
            "_model_module_version": "1.5.0",
            "_view_count": null,
            "_view_module_version": "1.5.0",
            "box_style": "",
            "layout": "IPY_MODEL_c47a1042bc234bf0a473e46daf0e2c37",
            "_model_module": "@jupyter-widgets/controls",
            "children": [
              "IPY_MODEL_52938f2fa6ce4b7c8ef5cce0d43715f2",
              "IPY_MODEL_b028396d7f3c4f50a233a590ddbcab4d"
            ]
          }
        },
        "c47a1042bc234bf0a473e46daf0e2c37": {
          "model_module": "@jupyter-widgets/base",
          "model_name": "LayoutModel",
          "state": {
            "_view_name": "LayoutView",
            "grid_template_rows": null,
            "right": null,
            "justify_content": null,
            "_view_module": "@jupyter-widgets/base",
            "overflow": null,
            "_model_module_version": "1.2.0",
            "_view_count": null,
            "flex_flow": null,
            "width": null,
            "min_width": null,
            "border": null,
            "align_items": null,
            "bottom": null,
            "_model_module": "@jupyter-widgets/base",
            "top": null,
            "grid_column": null,
            "overflow_y": null,
            "overflow_x": null,
            "grid_auto_flow": null,
            "grid_area": null,
            "grid_template_columns": null,
            "flex": null,
            "_model_name": "LayoutModel",
            "justify_items": null,
            "grid_row": null,
            "max_height": null,
            "align_content": null,
            "visibility": null,
            "align_self": null,
            "height": null,
            "min_height": null,
            "padding": null,
            "grid_auto_rows": null,
            "grid_gap": null,
            "max_width": null,
            "order": null,
            "_view_module_version": "1.2.0",
            "grid_template_areas": null,
            "object_position": null,
            "object_fit": null,
            "grid_auto_columns": null,
            "margin": null,
            "display": null,
            "left": null
          }
        },
        "52938f2fa6ce4b7c8ef5cce0d43715f2": {
          "model_module": "@jupyter-widgets/controls",
          "model_name": "FloatProgressModel",
          "state": {
            "_view_name": "ProgressView",
            "style": "IPY_MODEL_b6c1c2a97b7a4ced90989f7f1490cf35",
            "_dom_classes": [],
            "description": "100%",
            "_model_name": "FloatProgressModel",
            "bar_style": "success",
            "max": 10,
            "_view_module": "@jupyter-widgets/controls",
            "_model_module_version": "1.5.0",
            "value": 10,
            "_view_count": null,
            "_view_module_version": "1.5.0",
            "orientation": "horizontal",
            "min": 0,
            "description_tooltip": null,
            "_model_module": "@jupyter-widgets/controls",
            "layout": "IPY_MODEL_6015c3caeb0b4dd993b68b6fe2c98089"
          }
        },
        "b028396d7f3c4f50a233a590ddbcab4d": {
          "model_module": "@jupyter-widgets/controls",
          "model_name": "HTMLModel",
          "state": {
            "_view_name": "HTMLView",
            "style": "IPY_MODEL_6f7ead70bebd4ba8b4e5022cbe512ed3",
            "_dom_classes": [],
            "description": "",
            "_model_name": "HTMLModel",
            "placeholder": "​",
            "_view_module": "@jupyter-widgets/controls",
            "_model_module_version": "1.5.0",
            "value": " 10/10 [00:21&lt;00:00,  2.12s/ba]",
            "_view_count": null,
            "_view_module_version": "1.5.0",
            "description_tooltip": null,
            "_model_module": "@jupyter-widgets/controls",
            "layout": "IPY_MODEL_b0df7c6549564460b6a3820042b3f544"
          }
        },
        "b6c1c2a97b7a4ced90989f7f1490cf35": {
          "model_module": "@jupyter-widgets/controls",
          "model_name": "ProgressStyleModel",
          "state": {
            "_view_name": "StyleView",
            "_model_name": "ProgressStyleModel",
            "description_width": "initial",
            "_view_module": "@jupyter-widgets/base",
            "_model_module_version": "1.5.0",
            "_view_count": null,
            "_view_module_version": "1.2.0",
            "bar_color": null,
            "_model_module": "@jupyter-widgets/controls"
          }
        },
        "6015c3caeb0b4dd993b68b6fe2c98089": {
          "model_module": "@jupyter-widgets/base",
          "model_name": "LayoutModel",
          "state": {
            "_view_name": "LayoutView",
            "grid_template_rows": null,
            "right": null,
            "justify_content": null,
            "_view_module": "@jupyter-widgets/base",
            "overflow": null,
            "_model_module_version": "1.2.0",
            "_view_count": null,
            "flex_flow": null,
            "width": null,
            "min_width": null,
            "border": null,
            "align_items": null,
            "bottom": null,
            "_model_module": "@jupyter-widgets/base",
            "top": null,
            "grid_column": null,
            "overflow_y": null,
            "overflow_x": null,
            "grid_auto_flow": null,
            "grid_area": null,
            "grid_template_columns": null,
            "flex": null,
            "_model_name": "LayoutModel",
            "justify_items": null,
            "grid_row": null,
            "max_height": null,
            "align_content": null,
            "visibility": null,
            "align_self": null,
            "height": null,
            "min_height": null,
            "padding": null,
            "grid_auto_rows": null,
            "grid_gap": null,
            "max_width": null,
            "order": null,
            "_view_module_version": "1.2.0",
            "grid_template_areas": null,
            "object_position": null,
            "object_fit": null,
            "grid_auto_columns": null,
            "margin": null,
            "display": null,
            "left": null
          }
        },
        "6f7ead70bebd4ba8b4e5022cbe512ed3": {
          "model_module": "@jupyter-widgets/controls",
          "model_name": "DescriptionStyleModel",
          "state": {
            "_view_name": "StyleView",
            "_model_name": "DescriptionStyleModel",
            "description_width": "",
            "_view_module": "@jupyter-widgets/base",
            "_model_module_version": "1.5.0",
            "_view_count": null,
            "_view_module_version": "1.2.0",
            "_model_module": "@jupyter-widgets/controls"
          }
        },
        "b0df7c6549564460b6a3820042b3f544": {
          "model_module": "@jupyter-widgets/base",
          "model_name": "LayoutModel",
          "state": {
            "_view_name": "LayoutView",
            "grid_template_rows": null,
            "right": null,
            "justify_content": null,
            "_view_module": "@jupyter-widgets/base",
            "overflow": null,
            "_model_module_version": "1.2.0",
            "_view_count": null,
            "flex_flow": null,
            "width": null,
            "min_width": null,
            "border": null,
            "align_items": null,
            "bottom": null,
            "_model_module": "@jupyter-widgets/base",
            "top": null,
            "grid_column": null,
            "overflow_y": null,
            "overflow_x": null,
            "grid_auto_flow": null,
            "grid_area": null,
            "grid_template_columns": null,
            "flex": null,
            "_model_name": "LayoutModel",
            "justify_items": null,
            "grid_row": null,
            "max_height": null,
            "align_content": null,
            "visibility": null,
            "align_self": null,
            "height": null,
            "min_height": null,
            "padding": null,
            "grid_auto_rows": null,
            "grid_gap": null,
            "max_width": null,
            "order": null,
            "_view_module_version": "1.2.0",
            "grid_template_areas": null,
            "object_position": null,
            "object_fit": null,
            "grid_auto_columns": null,
            "margin": null,
            "display": null,
            "left": null
          }
        },
        "75ac9e6796314a268d94f1ae0b09a535": {
          "model_module": "@jupyter-widgets/controls",
          "model_name": "HBoxModel",
          "state": {
            "_view_name": "HBoxView",
            "_dom_classes": [],
            "_model_name": "HBoxModel",
            "_view_module": "@jupyter-widgets/controls",
            "_model_module_version": "1.5.0",
            "_view_count": null,
            "_view_module_version": "1.5.0",
            "box_style": "",
            "layout": "IPY_MODEL_6d4909eac6294a8596c8c8a8bbecc20b",
            "_model_module": "@jupyter-widgets/controls",
            "children": [
              "IPY_MODEL_b0ccfe9f6b614859a45470dc96a30ff7",
              "IPY_MODEL_8d80ad5204a5467c83dc235dd11d8969"
            ]
          }
        },
        "6d4909eac6294a8596c8c8a8bbecc20b": {
          "model_module": "@jupyter-widgets/base",
          "model_name": "LayoutModel",
          "state": {
            "_view_name": "LayoutView",
            "grid_template_rows": null,
            "right": null,
            "justify_content": null,
            "_view_module": "@jupyter-widgets/base",
            "overflow": null,
            "_model_module_version": "1.2.0",
            "_view_count": null,
            "flex_flow": null,
            "width": null,
            "min_width": null,
            "border": null,
            "align_items": null,
            "bottom": null,
            "_model_module": "@jupyter-widgets/base",
            "top": null,
            "grid_column": null,
            "overflow_y": null,
            "overflow_x": null,
            "grid_auto_flow": null,
            "grid_area": null,
            "grid_template_columns": null,
            "flex": null,
            "_model_name": "LayoutModel",
            "justify_items": null,
            "grid_row": null,
            "max_height": null,
            "align_content": null,
            "visibility": null,
            "align_self": null,
            "height": null,
            "min_height": null,
            "padding": null,
            "grid_auto_rows": null,
            "grid_gap": null,
            "max_width": null,
            "order": null,
            "_view_module_version": "1.2.0",
            "grid_template_areas": null,
            "object_position": null,
            "object_fit": null,
            "grid_auto_columns": null,
            "margin": null,
            "display": null,
            "left": null
          }
        },
        "b0ccfe9f6b614859a45470dc96a30ff7": {
          "model_module": "@jupyter-widgets/controls",
          "model_name": "FloatProgressModel",
          "state": {
            "_view_name": "ProgressView",
            "style": "IPY_MODEL_7616febc8d9e41f6a3db75b68071045b",
            "_dom_classes": [],
            "description": "100%",
            "_model_name": "FloatProgressModel",
            "bar_style": "success",
            "max": 1,
            "_view_module": "@jupyter-widgets/controls",
            "_model_module_version": "1.5.0",
            "value": 1,
            "_view_count": null,
            "_view_module_version": "1.5.0",
            "orientation": "horizontal",
            "min": 0,
            "description_tooltip": null,
            "_model_module": "@jupyter-widgets/controls",
            "layout": "IPY_MODEL_29374958a56140958f9e29f80c81c8a4"
          }
        },
        "8d80ad5204a5467c83dc235dd11d8969": {
          "model_module": "@jupyter-widgets/controls",
          "model_name": "HTMLModel",
          "state": {
            "_view_name": "HTMLView",
            "style": "IPY_MODEL_544e69556d2346dabc855ed24b9c9ef0",
            "_dom_classes": [],
            "description": "",
            "_model_name": "HTMLModel",
            "placeholder": "​",
            "_view_module": "@jupyter-widgets/controls",
            "_model_module_version": "1.5.0",
            "value": " 1/1 [00:01&lt;00:00,  1.23s/ba]",
            "_view_count": null,
            "_view_module_version": "1.5.0",
            "description_tooltip": null,
            "_model_module": "@jupyter-widgets/controls",
            "layout": "IPY_MODEL_368031345ec34a5e97d37d53b61d839d"
          }
        },
        "7616febc8d9e41f6a3db75b68071045b": {
          "model_module": "@jupyter-widgets/controls",
          "model_name": "ProgressStyleModel",
          "state": {
            "_view_name": "StyleView",
            "_model_name": "ProgressStyleModel",
            "description_width": "initial",
            "_view_module": "@jupyter-widgets/base",
            "_model_module_version": "1.5.0",
            "_view_count": null,
            "_view_module_version": "1.2.0",
            "bar_color": null,
            "_model_module": "@jupyter-widgets/controls"
          }
        },
        "29374958a56140958f9e29f80c81c8a4": {
          "model_module": "@jupyter-widgets/base",
          "model_name": "LayoutModel",
          "state": {
            "_view_name": "LayoutView",
            "grid_template_rows": null,
            "right": null,
            "justify_content": null,
            "_view_module": "@jupyter-widgets/base",
            "overflow": null,
            "_model_module_version": "1.2.0",
            "_view_count": null,
            "flex_flow": null,
            "width": null,
            "min_width": null,
            "border": null,
            "align_items": null,
            "bottom": null,
            "_model_module": "@jupyter-widgets/base",
            "top": null,
            "grid_column": null,
            "overflow_y": null,
            "overflow_x": null,
            "grid_auto_flow": null,
            "grid_area": null,
            "grid_template_columns": null,
            "flex": null,
            "_model_name": "LayoutModel",
            "justify_items": null,
            "grid_row": null,
            "max_height": null,
            "align_content": null,
            "visibility": null,
            "align_self": null,
            "height": null,
            "min_height": null,
            "padding": null,
            "grid_auto_rows": null,
            "grid_gap": null,
            "max_width": null,
            "order": null,
            "_view_module_version": "1.2.0",
            "grid_template_areas": null,
            "object_position": null,
            "object_fit": null,
            "grid_auto_columns": null,
            "margin": null,
            "display": null,
            "left": null
          }
        },
        "544e69556d2346dabc855ed24b9c9ef0": {
          "model_module": "@jupyter-widgets/controls",
          "model_name": "DescriptionStyleModel",
          "state": {
            "_view_name": "StyleView",
            "_model_name": "DescriptionStyleModel",
            "description_width": "",
            "_view_module": "@jupyter-widgets/base",
            "_model_module_version": "1.5.0",
            "_view_count": null,
            "_view_module_version": "1.2.0",
            "_model_module": "@jupyter-widgets/controls"
          }
        },
        "368031345ec34a5e97d37d53b61d839d": {
          "model_module": "@jupyter-widgets/base",
          "model_name": "LayoutModel",
          "state": {
            "_view_name": "LayoutView",
            "grid_template_rows": null,
            "right": null,
            "justify_content": null,
            "_view_module": "@jupyter-widgets/base",
            "overflow": null,
            "_model_module_version": "1.2.0",
            "_view_count": null,
            "flex_flow": null,
            "width": null,
            "min_width": null,
            "border": null,
            "align_items": null,
            "bottom": null,
            "_model_module": "@jupyter-widgets/base",
            "top": null,
            "grid_column": null,
            "overflow_y": null,
            "overflow_x": null,
            "grid_auto_flow": null,
            "grid_area": null,
            "grid_template_columns": null,
            "flex": null,
            "_model_name": "LayoutModel",
            "justify_items": null,
            "grid_row": null,
            "max_height": null,
            "align_content": null,
            "visibility": null,
            "align_self": null,
            "height": null,
            "min_height": null,
            "padding": null,
            "grid_auto_rows": null,
            "grid_gap": null,
            "max_width": null,
            "order": null,
            "_view_module_version": "1.2.0",
            "grid_template_areas": null,
            "object_position": null,
            "object_fit": null,
            "grid_auto_columns": null,
            "margin": null,
            "display": null,
            "left": null
          }
        },
        "2c6a85702c414657a01393b213295611": {
          "model_module": "@jupyter-widgets/controls",
          "model_name": "HBoxModel",
          "state": {
            "_view_name": "HBoxView",
            "_dom_classes": [],
            "_model_name": "HBoxModel",
            "_view_module": "@jupyter-widgets/controls",
            "_model_module_version": "1.5.0",
            "_view_count": null,
            "_view_module_version": "1.5.0",
            "box_style": "",
            "layout": "IPY_MODEL_1498e1cad33d47e8884f3e8ae717ef17",
            "_model_module": "@jupyter-widgets/controls",
            "children": [
              "IPY_MODEL_45a6eeda2aa641c894d3e3da0f98a36b",
              "IPY_MODEL_4d5b6dfba20c4a36a8c9f7ad6f96c8b6"
            ]
          }
        },
        "1498e1cad33d47e8884f3e8ae717ef17": {
          "model_module": "@jupyter-widgets/base",
          "model_name": "LayoutModel",
          "state": {
            "_view_name": "LayoutView",
            "grid_template_rows": null,
            "right": null,
            "justify_content": null,
            "_view_module": "@jupyter-widgets/base",
            "overflow": null,
            "_model_module_version": "1.2.0",
            "_view_count": null,
            "flex_flow": null,
            "width": null,
            "min_width": null,
            "border": null,
            "align_items": null,
            "bottom": null,
            "_model_module": "@jupyter-widgets/base",
            "top": null,
            "grid_column": null,
            "overflow_y": null,
            "overflow_x": null,
            "grid_auto_flow": null,
            "grid_area": null,
            "grid_template_columns": null,
            "flex": null,
            "_model_name": "LayoutModel",
            "justify_items": null,
            "grid_row": null,
            "max_height": null,
            "align_content": null,
            "visibility": null,
            "align_self": null,
            "height": null,
            "min_height": null,
            "padding": null,
            "grid_auto_rows": null,
            "grid_gap": null,
            "max_width": null,
            "order": null,
            "_view_module_version": "1.2.0",
            "grid_template_areas": null,
            "object_position": null,
            "object_fit": null,
            "grid_auto_columns": null,
            "margin": null,
            "display": null,
            "left": null
          }
        },
        "45a6eeda2aa641c894d3e3da0f98a36b": {
          "model_module": "@jupyter-widgets/controls",
          "model_name": "FloatProgressModel",
          "state": {
            "_view_name": "ProgressView",
            "style": "IPY_MODEL_7796134016a0423aac2518694ad80779",
            "_dom_classes": [],
            "description": "100%",
            "_model_name": "FloatProgressModel",
            "bar_style": "success",
            "max": 1,
            "_view_module": "@jupyter-widgets/controls",
            "_model_module_version": "1.5.0",
            "value": 1,
            "_view_count": null,
            "_view_module_version": "1.5.0",
            "orientation": "horizontal",
            "min": 0,
            "description_tooltip": null,
            "_model_module": "@jupyter-widgets/controls",
            "layout": "IPY_MODEL_c8373b24ae5e4e25b57a7e0ff810d95c"
          }
        },
        "4d5b6dfba20c4a36a8c9f7ad6f96c8b6": {
          "model_module": "@jupyter-widgets/controls",
          "model_name": "HTMLModel",
          "state": {
            "_view_name": "HTMLView",
            "style": "IPY_MODEL_b74610b1337f4a9b93c3aa83982366ff",
            "_dom_classes": [],
            "description": "",
            "_model_name": "HTMLModel",
            "placeholder": "​",
            "_view_module": "@jupyter-widgets/controls",
            "_model_module_version": "1.5.0",
            "value": " 1/1 [00:08&lt;00:00,  8.23s/ba]",
            "_view_count": null,
            "_view_module_version": "1.5.0",
            "description_tooltip": null,
            "_model_module": "@jupyter-widgets/controls",
            "layout": "IPY_MODEL_9706069efb0f4c7e9237fce433640b94"
          }
        },
        "7796134016a0423aac2518694ad80779": {
          "model_module": "@jupyter-widgets/controls",
          "model_name": "ProgressStyleModel",
          "state": {
            "_view_name": "StyleView",
            "_model_name": "ProgressStyleModel",
            "description_width": "initial",
            "_view_module": "@jupyter-widgets/base",
            "_model_module_version": "1.5.0",
            "_view_count": null,
            "_view_module_version": "1.2.0",
            "bar_color": null,
            "_model_module": "@jupyter-widgets/controls"
          }
        },
        "c8373b24ae5e4e25b57a7e0ff810d95c": {
          "model_module": "@jupyter-widgets/base",
          "model_name": "LayoutModel",
          "state": {
            "_view_name": "LayoutView",
            "grid_template_rows": null,
            "right": null,
            "justify_content": null,
            "_view_module": "@jupyter-widgets/base",
            "overflow": null,
            "_model_module_version": "1.2.0",
            "_view_count": null,
            "flex_flow": null,
            "width": null,
            "min_width": null,
            "border": null,
            "align_items": null,
            "bottom": null,
            "_model_module": "@jupyter-widgets/base",
            "top": null,
            "grid_column": null,
            "overflow_y": null,
            "overflow_x": null,
            "grid_auto_flow": null,
            "grid_area": null,
            "grid_template_columns": null,
            "flex": null,
            "_model_name": "LayoutModel",
            "justify_items": null,
            "grid_row": null,
            "max_height": null,
            "align_content": null,
            "visibility": null,
            "align_self": null,
            "height": null,
            "min_height": null,
            "padding": null,
            "grid_auto_rows": null,
            "grid_gap": null,
            "max_width": null,
            "order": null,
            "_view_module_version": "1.2.0",
            "grid_template_areas": null,
            "object_position": null,
            "object_fit": null,
            "grid_auto_columns": null,
            "margin": null,
            "display": null,
            "left": null
          }
        },
        "b74610b1337f4a9b93c3aa83982366ff": {
          "model_module": "@jupyter-widgets/controls",
          "model_name": "DescriptionStyleModel",
          "state": {
            "_view_name": "StyleView",
            "_model_name": "DescriptionStyleModel",
            "description_width": "",
            "_view_module": "@jupyter-widgets/base",
            "_model_module_version": "1.5.0",
            "_view_count": null,
            "_view_module_version": "1.2.0",
            "_model_module": "@jupyter-widgets/controls"
          }
        },
        "9706069efb0f4c7e9237fce433640b94": {
          "model_module": "@jupyter-widgets/base",
          "model_name": "LayoutModel",
          "state": {
            "_view_name": "LayoutView",
            "grid_template_rows": null,
            "right": null,
            "justify_content": null,
            "_view_module": "@jupyter-widgets/base",
            "overflow": null,
            "_model_module_version": "1.2.0",
            "_view_count": null,
            "flex_flow": null,
            "width": null,
            "min_width": null,
            "border": null,
            "align_items": null,
            "bottom": null,
            "_model_module": "@jupyter-widgets/base",
            "top": null,
            "grid_column": null,
            "overflow_y": null,
            "overflow_x": null,
            "grid_auto_flow": null,
            "grid_area": null,
            "grid_template_columns": null,
            "flex": null,
            "_model_name": "LayoutModel",
            "justify_items": null,
            "grid_row": null,
            "max_height": null,
            "align_content": null,
            "visibility": null,
            "align_self": null,
            "height": null,
            "min_height": null,
            "padding": null,
            "grid_auto_rows": null,
            "grid_gap": null,
            "max_width": null,
            "order": null,
            "_view_module_version": "1.2.0",
            "grid_template_areas": null,
            "object_position": null,
            "object_fit": null,
            "grid_auto_columns": null,
            "margin": null,
            "display": null,
            "left": null
          }
        },
        "eb5d7f4032164aaa9da84fe43441e0ba": {
          "model_module": "@jupyter-widgets/controls",
          "model_name": "HBoxModel",
          "state": {
            "_view_name": "HBoxView",
            "_dom_classes": [],
            "_model_name": "HBoxModel",
            "_view_module": "@jupyter-widgets/controls",
            "_model_module_version": "1.5.0",
            "_view_count": null,
            "_view_module_version": "1.5.0",
            "box_style": "",
            "layout": "IPY_MODEL_eb1cc8f4e3274d66b8c5a1b6b87e0d69",
            "_model_module": "@jupyter-widgets/controls",
            "children": [
              "IPY_MODEL_254eaded6a554eeba79300383b2c7969",
              "IPY_MODEL_21423e8263e9434baf753d7f9a762d57"
            ]
          }
        },
        "eb1cc8f4e3274d66b8c5a1b6b87e0d69": {
          "model_module": "@jupyter-widgets/base",
          "model_name": "LayoutModel",
          "state": {
            "_view_name": "LayoutView",
            "grid_template_rows": null,
            "right": null,
            "justify_content": null,
            "_view_module": "@jupyter-widgets/base",
            "overflow": null,
            "_model_module_version": "1.2.0",
            "_view_count": null,
            "flex_flow": null,
            "width": null,
            "min_width": null,
            "border": null,
            "align_items": null,
            "bottom": null,
            "_model_module": "@jupyter-widgets/base",
            "top": null,
            "grid_column": null,
            "overflow_y": null,
            "overflow_x": null,
            "grid_auto_flow": null,
            "grid_area": null,
            "grid_template_columns": null,
            "flex": null,
            "_model_name": "LayoutModel",
            "justify_items": null,
            "grid_row": null,
            "max_height": null,
            "align_content": null,
            "visibility": null,
            "align_self": null,
            "height": null,
            "min_height": null,
            "padding": null,
            "grid_auto_rows": null,
            "grid_gap": null,
            "max_width": null,
            "order": null,
            "_view_module_version": "1.2.0",
            "grid_template_areas": null,
            "object_position": null,
            "object_fit": null,
            "grid_auto_columns": null,
            "margin": null,
            "display": null,
            "left": null
          }
        },
        "254eaded6a554eeba79300383b2c7969": {
          "model_module": "@jupyter-widgets/controls",
          "model_name": "FloatProgressModel",
          "state": {
            "_view_name": "ProgressView",
            "style": "IPY_MODEL_bb56d6726dd74adda89be32b7bf774d4",
            "_dom_classes": [],
            "description": "Downloading: 100%",
            "_model_name": "FloatProgressModel",
            "bar_style": "success",
            "max": 242065649,
            "_view_module": "@jupyter-widgets/controls",
            "_model_module_version": "1.5.0",
            "value": 242065649,
            "_view_count": null,
            "_view_module_version": "1.5.0",
            "orientation": "horizontal",
            "min": 0,
            "description_tooltip": null,
            "_model_module": "@jupyter-widgets/controls",
            "layout": "IPY_MODEL_78c625ed5f6b4fb2a86b8ec8997ab129"
          }
        },
        "21423e8263e9434baf753d7f9a762d57": {
          "model_module": "@jupyter-widgets/controls",
          "model_name": "HTMLModel",
          "state": {
            "_view_name": "HTMLView",
            "style": "IPY_MODEL_71e538aa13724e90be299a99b28b84e0",
            "_dom_classes": [],
            "description": "",
            "_model_name": "HTMLModel",
            "placeholder": "​",
            "_view_module": "@jupyter-widgets/controls",
            "_model_module_version": "1.5.0",
            "value": " 242M/242M [00:17&lt;00:00, 13.6MB/s]",
            "_view_count": null,
            "_view_module_version": "1.5.0",
            "description_tooltip": null,
            "_model_module": "@jupyter-widgets/controls",
            "layout": "IPY_MODEL_a34536a05d684e07bb9dda615c99f4c0"
          }
        },
        "bb56d6726dd74adda89be32b7bf774d4": {
          "model_module": "@jupyter-widgets/controls",
          "model_name": "ProgressStyleModel",
          "state": {
            "_view_name": "StyleView",
            "_model_name": "ProgressStyleModel",
            "description_width": "initial",
            "_view_module": "@jupyter-widgets/base",
            "_model_module_version": "1.5.0",
            "_view_count": null,
            "_view_module_version": "1.2.0",
            "bar_color": null,
            "_model_module": "@jupyter-widgets/controls"
          }
        },
        "78c625ed5f6b4fb2a86b8ec8997ab129": {
          "model_module": "@jupyter-widgets/base",
          "model_name": "LayoutModel",
          "state": {
            "_view_name": "LayoutView",
            "grid_template_rows": null,
            "right": null,
            "justify_content": null,
            "_view_module": "@jupyter-widgets/base",
            "overflow": null,
            "_model_module_version": "1.2.0",
            "_view_count": null,
            "flex_flow": null,
            "width": null,
            "min_width": null,
            "border": null,
            "align_items": null,
            "bottom": null,
            "_model_module": "@jupyter-widgets/base",
            "top": null,
            "grid_column": null,
            "overflow_y": null,
            "overflow_x": null,
            "grid_auto_flow": null,
            "grid_area": null,
            "grid_template_columns": null,
            "flex": null,
            "_model_name": "LayoutModel",
            "justify_items": null,
            "grid_row": null,
            "max_height": null,
            "align_content": null,
            "visibility": null,
            "align_self": null,
            "height": null,
            "min_height": null,
            "padding": null,
            "grid_auto_rows": null,
            "grid_gap": null,
            "max_width": null,
            "order": null,
            "_view_module_version": "1.2.0",
            "grid_template_areas": null,
            "object_position": null,
            "object_fit": null,
            "grid_auto_columns": null,
            "margin": null,
            "display": null,
            "left": null
          }
        },
        "71e538aa13724e90be299a99b28b84e0": {
          "model_module": "@jupyter-widgets/controls",
          "model_name": "DescriptionStyleModel",
          "state": {
            "_view_name": "StyleView",
            "_model_name": "DescriptionStyleModel",
            "description_width": "",
            "_view_module": "@jupyter-widgets/base",
            "_model_module_version": "1.5.0",
            "_view_count": null,
            "_view_module_version": "1.2.0",
            "_model_module": "@jupyter-widgets/controls"
          }
        },
        "a34536a05d684e07bb9dda615c99f4c0": {
          "model_module": "@jupyter-widgets/base",
          "model_name": "LayoutModel",
          "state": {
            "_view_name": "LayoutView",
            "grid_template_rows": null,
            "right": null,
            "justify_content": null,
            "_view_module": "@jupyter-widgets/base",
            "overflow": null,
            "_model_module_version": "1.2.0",
            "_view_count": null,
            "flex_flow": null,
            "width": null,
            "min_width": null,
            "border": null,
            "align_items": null,
            "bottom": null,
            "_model_module": "@jupyter-widgets/base",
            "top": null,
            "grid_column": null,
            "overflow_y": null,
            "overflow_x": null,
            "grid_auto_flow": null,
            "grid_area": null,
            "grid_template_columns": null,
            "flex": null,
            "_model_name": "LayoutModel",
            "justify_items": null,
            "grid_row": null,
            "max_height": null,
            "align_content": null,
            "visibility": null,
            "align_self": null,
            "height": null,
            "min_height": null,
            "padding": null,
            "grid_auto_rows": null,
            "grid_gap": null,
            "max_width": null,
            "order": null,
            "_view_module_version": "1.2.0",
            "grid_template_areas": null,
            "object_position": null,
            "object_fit": null,
            "grid_auto_columns": null,
            "margin": null,
            "display": null,
            "left": null
          }
        }
      }
    }
  },
  "cells": [
    {
      "cell_type": "markdown",
      "metadata": {
        "id": "view-in-github",
        "colab_type": "text"
      },
      "source": [
        "<a href=\"https://colab.research.google.com/github/surajsrivathsa/NL2SQL/blob/main/deepspeed_transformers.ipynb\" target=\"_parent\"><img src=\"https://colab.research.google.com/assets/colab-badge.svg\" alt=\"Open In Colab\"/></a>"
      ]
    },
    {
      "cell_type": "markdown",
      "metadata": {
        "id": "3NAP1aNgtAoP"
      },
      "source": [
        "# Preamble\n",
        "\n",
        "* Install Libraries and initial setup"
      ]
    },
    {
      "cell_type": "code",
      "metadata": {
        "colab": {
          "base_uri": "https://localhost:8080/"
        },
        "id": "F7foMbY2pyIz",
        "outputId": "3b3015a7-9ace-4b7d-e9f0-39ae44e7648f"
      },
      "source": [
        "!pip install datasets transformers rouge-score nltk"
      ],
      "execution_count": 1,
      "outputs": [
        {
          "output_type": "stream",
          "text": [
            "Collecting datasets\n",
            "\u001b[?25l  Downloading https://files.pythonhosted.org/packages/df/4f/8ef6e4df6e92fc02da620ccfac249112619e5c21273a836958160d6e96fb/datasets-1.6.1-py3-none-any.whl (220kB)\n",
            "\u001b[K     |████████████████████████████████| 225kB 5.8MB/s \n",
            "\u001b[?25hCollecting transformers\n",
            "\u001b[?25l  Downloading https://files.pythonhosted.org/packages/d8/b2/57495b5309f09fa501866e225c84532d1fd89536ea62406b2181933fb418/transformers-4.5.1-py3-none-any.whl (2.1MB)\n",
            "\u001b[K     |████████████████████████████████| 2.1MB 26.9MB/s \n",
            "\u001b[?25hCollecting rouge-score\n",
            "  Downloading https://files.pythonhosted.org/packages/1f/56/a81022436c08b9405a5247b71635394d44fe7e1dbedc4b28c740e09c2840/rouge_score-0.0.4-py2.py3-none-any.whl\n",
            "Requirement already satisfied: nltk in /usr/local/lib/python3.7/dist-packages (3.2.5)\n",
            "Requirement already satisfied: importlib-metadata; python_version < \"3.8\" in /usr/local/lib/python3.7/dist-packages (from datasets) (3.10.1)\n",
            "Requirement already satisfied: packaging in /usr/local/lib/python3.7/dist-packages (from datasets) (20.9)\n",
            "Collecting xxhash\n",
            "\u001b[?25l  Downloading https://files.pythonhosted.org/packages/7d/4f/0a862cad26aa2ed7a7cd87178cbbfa824fc1383e472d63596a0d018374e7/xxhash-2.0.2-cp37-cp37m-manylinux2010_x86_64.whl (243kB)\n",
            "\u001b[K     |████████████████████████████████| 245kB 50.4MB/s \n",
            "\u001b[?25hRequirement already satisfied: dill in /usr/local/lib/python3.7/dist-packages (from datasets) (0.3.3)\n",
            "Requirement already satisfied: tqdm<4.50.0,>=4.27 in /usr/local/lib/python3.7/dist-packages (from datasets) (4.41.1)\n",
            "Collecting fsspec\n",
            "\u001b[?25l  Downloading https://files.pythonhosted.org/packages/e9/91/2ef649137816850fa4f4c97c6f2eabb1a79bf0aa2c8ed198e387e373455e/fsspec-2021.4.0-py3-none-any.whl (108kB)\n",
            "\u001b[K     |████████████████████████████████| 112kB 49.5MB/s \n",
            "\u001b[?25hCollecting huggingface-hub<0.1.0\n",
            "  Downloading https://files.pythonhosted.org/packages/a1/88/7b1e45720ecf59c6c6737ff332f41c955963090a18e72acbcbeac6b25e86/huggingface_hub-0.0.8-py3-none-any.whl\n",
            "Requirement already satisfied: requests>=2.19.0 in /usr/local/lib/python3.7/dist-packages (from datasets) (2.23.0)\n",
            "Requirement already satisfied: pyarrow>=1.0.0 in /usr/local/lib/python3.7/dist-packages (from datasets) (3.0.0)\n",
            "Requirement already satisfied: multiprocess in /usr/local/lib/python3.7/dist-packages (from datasets) (0.70.11.1)\n",
            "Requirement already satisfied: pandas in /usr/local/lib/python3.7/dist-packages (from datasets) (1.1.5)\n",
            "Requirement already satisfied: numpy>=1.17 in /usr/local/lib/python3.7/dist-packages (from datasets) (1.19.5)\n",
            "Collecting sacremoses\n",
            "\u001b[?25l  Downloading https://files.pythonhosted.org/packages/75/ee/67241dc87f266093c533a2d4d3d69438e57d7a90abb216fa076e7d475d4a/sacremoses-0.0.45-py3-none-any.whl (895kB)\n",
            "\u001b[K     |████████████████████████████████| 901kB 52.4MB/s \n",
            "\u001b[?25hRequirement already satisfied: filelock in /usr/local/lib/python3.7/dist-packages (from transformers) (3.0.12)\n",
            "Collecting tokenizers<0.11,>=0.10.1\n",
            "\u001b[?25l  Downloading https://files.pythonhosted.org/packages/ae/04/5b870f26a858552025a62f1649c20d29d2672c02ff3c3fb4c688ca46467a/tokenizers-0.10.2-cp37-cp37m-manylinux2010_x86_64.whl (3.3MB)\n",
            "\u001b[K     |████████████████████████████████| 3.3MB 49.8MB/s \n",
            "\u001b[?25hRequirement already satisfied: regex!=2019.12.17 in /usr/local/lib/python3.7/dist-packages (from transformers) (2019.12.20)\n",
            "Requirement already satisfied: absl-py in /usr/local/lib/python3.7/dist-packages (from rouge-score) (0.12.0)\n",
            "Requirement already satisfied: six>=1.14.0 in /usr/local/lib/python3.7/dist-packages (from rouge-score) (1.15.0)\n",
            "Requirement already satisfied: typing-extensions>=3.6.4; python_version < \"3.8\" in /usr/local/lib/python3.7/dist-packages (from importlib-metadata; python_version < \"3.8\"->datasets) (3.7.4.3)\n",
            "Requirement already satisfied: zipp>=0.5 in /usr/local/lib/python3.7/dist-packages (from importlib-metadata; python_version < \"3.8\"->datasets) (3.4.1)\n",
            "Requirement already satisfied: pyparsing>=2.0.2 in /usr/local/lib/python3.7/dist-packages (from packaging->datasets) (2.4.7)\n",
            "Requirement already satisfied: certifi>=2017.4.17 in /usr/local/lib/python3.7/dist-packages (from requests>=2.19.0->datasets) (2020.12.5)\n",
            "Requirement already satisfied: chardet<4,>=3.0.2 in /usr/local/lib/python3.7/dist-packages (from requests>=2.19.0->datasets) (3.0.4)\n",
            "Requirement already satisfied: idna<3,>=2.5 in /usr/local/lib/python3.7/dist-packages (from requests>=2.19.0->datasets) (2.10)\n",
            "Requirement already satisfied: urllib3!=1.25.0,!=1.25.1,<1.26,>=1.21.1 in /usr/local/lib/python3.7/dist-packages (from requests>=2.19.0->datasets) (1.24.3)\n",
            "Requirement already satisfied: python-dateutil>=2.7.3 in /usr/local/lib/python3.7/dist-packages (from pandas->datasets) (2.8.1)\n",
            "Requirement already satisfied: pytz>=2017.2 in /usr/local/lib/python3.7/dist-packages (from pandas->datasets) (2018.9)\n",
            "Requirement already satisfied: click in /usr/local/lib/python3.7/dist-packages (from sacremoses->transformers) (7.1.2)\n",
            "Requirement already satisfied: joblib in /usr/local/lib/python3.7/dist-packages (from sacremoses->transformers) (1.0.1)\n",
            "Installing collected packages: xxhash, fsspec, huggingface-hub, datasets, sacremoses, tokenizers, transformers, rouge-score\n",
            "Successfully installed datasets-1.6.1 fsspec-2021.4.0 huggingface-hub-0.0.8 rouge-score-0.0.4 sacremoses-0.0.45 tokenizers-0.10.2 transformers-4.5.1 xxhash-2.0.2\n"
          ],
          "name": "stdout"
        }
      ]
    },
    {
      "cell_type": "code",
      "metadata": {
        "colab": {
          "base_uri": "https://localhost:8080/"
        },
        "id": "Wg0kvrzv7V8T",
        "outputId": "71270700-acf0-4b4c-de31-1b471e44284c"
      },
      "source": [
        "!pip install nvidia-ml-py3 "
      ],
      "execution_count": 2,
      "outputs": [
        {
          "output_type": "stream",
          "text": [
            "Requirement already satisfied: nvidia-ml-py3 in /usr/local/lib/python3.7/dist-packages (7.352.0)\n"
          ],
          "name": "stdout"
        }
      ]
    },
    {
      "cell_type": "code",
      "metadata": {
        "colab": {
          "base_uri": "https://localhost:8080/"
        },
        "id": "gz_b5GeFD7aR",
        "outputId": "baee7d7c-812f-4665-e0f8-ecd964937166"
      },
      "source": [
        "!pip install deepspeed\n",
        "!pip install mpi4py"
      ],
      "execution_count": 3,
      "outputs": [
        {
          "output_type": "stream",
          "text": [
            "Collecting deepspeed\n",
            "\u001b[?25l  Downloading https://files.pythonhosted.org/packages/23/f8/9f38a1aaaca697b8b359473eb299972386ab6cf880d8ca89a9a142f46cce/deepspeed-0.3.15.tar.gz (382kB)\n",
            "\u001b[K     |████████████████████████████████| 389kB 4.3MB/s \n",
            "\u001b[?25hRequirement already satisfied: torch>=1.2 in /usr/local/lib/python3.7/dist-packages (from deepspeed) (1.8.1+cu101)\n",
            "Requirement already satisfied: torchvision>=0.4.0 in /usr/local/lib/python3.7/dist-packages (from deepspeed) (0.9.1+cu101)\n",
            "Requirement already satisfied: tqdm in /usr/local/lib/python3.7/dist-packages (from deepspeed) (4.41.1)\n",
            "Collecting tensorboardX==1.8\n",
            "\u001b[?25l  Downloading https://files.pythonhosted.org/packages/c3/12/dcaf67e1312475b26db9e45e7bb6f32b540671a9ee120b3a72d9e09bc517/tensorboardX-1.8-py2.py3-none-any.whl (216kB)\n",
            "\u001b[K     |████████████████████████████████| 225kB 36.6MB/s \n",
            "\u001b[?25hCollecting ninja\n",
            "\u001b[?25l  Downloading https://files.pythonhosted.org/packages/1d/de/393468f2a37fc2c1dc3a06afc37775e27fde2d16845424141d4da62c686d/ninja-1.10.0.post2-py3-none-manylinux1_x86_64.whl (107kB)\n",
            "\u001b[K     |████████████████████████████████| 112kB 36.9MB/s \n",
            "\u001b[?25hRequirement already satisfied: numpy in /usr/local/lib/python3.7/dist-packages (from deepspeed) (1.19.5)\n",
            "Requirement already satisfied: psutil in /usr/local/lib/python3.7/dist-packages (from deepspeed) (5.4.8)\n",
            "Requirement already satisfied: typing-extensions in /usr/local/lib/python3.7/dist-packages (from torch>=1.2->deepspeed) (3.7.4.3)\n",
            "Requirement already satisfied: pillow>=4.1.1 in /usr/local/lib/python3.7/dist-packages (from torchvision>=0.4.0->deepspeed) (7.1.2)\n",
            "Requirement already satisfied: six in /usr/local/lib/python3.7/dist-packages (from tensorboardX==1.8->deepspeed) (1.15.0)\n",
            "Requirement already satisfied: protobuf>=3.2.0 in /usr/local/lib/python3.7/dist-packages (from tensorboardX==1.8->deepspeed) (3.12.4)\n",
            "Requirement already satisfied: setuptools in /usr/local/lib/python3.7/dist-packages (from protobuf>=3.2.0->tensorboardX==1.8->deepspeed) (56.0.0)\n",
            "Building wheels for collected packages: deepspeed\n",
            "  Building wheel for deepspeed (setup.py) ... \u001b[?25l\u001b[?25hdone\n",
            "  Created wheel for deepspeed: filename=deepspeed-0.3.15-cp37-none-any.whl size=386045 sha256=8f71a7ee101c10426835babfb2969169d26c679667db83da7db45ae91b6d0de9\n",
            "  Stored in directory: /root/.cache/pip/wheels/e8/5e/3a/6d463184b2131b05d8f5cd20182cd02deb002a5924f7249763\n",
            "Successfully built deepspeed\n",
            "Installing collected packages: tensorboardX, ninja, deepspeed\n",
            "Successfully installed deepspeed-0.3.15 ninja-1.10.0.post2 tensorboardX-1.8\n",
            "Collecting mpi4py\n",
            "\u001b[?25l  Downloading https://files.pythonhosted.org/packages/ec/8f/bbd8de5ba566dd77e408d8136e2bab7fdf2b97ce06cab830ba8b50a2f588/mpi4py-3.0.3.tar.gz (1.4MB)\n",
            "\u001b[K     |████████████████████████████████| 1.4MB 5.5MB/s \n",
            "\u001b[?25hBuilding wheels for collected packages: mpi4py\n",
            "  Building wheel for mpi4py (setup.py) ... \u001b[?25l\u001b[?25hdone\n",
            "  Created wheel for mpi4py: filename=mpi4py-3.0.3-cp37-cp37m-linux_x86_64.whl size=2065197 sha256=dbf002918d8d1f85bc28060c3b4982bc7bedf2be0549a6195493a52d7e29229a\n",
            "  Stored in directory: /root/.cache/pip/wheels/18/e0/86/2b713dd512199096012ceca61429e12b960888de59818871d6\n",
            "Successfully built mpi4py\n",
            "Installing collected packages: mpi4py\n",
            "Successfully installed mpi4py-3.0.3\n"
          ],
          "name": "stdout"
        }
      ]
    },
    {
      "cell_type": "markdown",
      "metadata": {
        "id": "8d3uuSiXOPiV"
      },
      "source": [
        "# Revert to gpu version 10.1 to provide compatibility between deepspeeds compiled binaries(v10.1) vs local cuda(v11)"
      ]
    },
    {
      "cell_type": "code",
      "metadata": {
        "colab": {
          "base_uri": "https://localhost:8080/"
        },
        "id": "9zv5cx19J86V",
        "outputId": "fd259b95-5e2d-4930-ec47-b3c3afb88d63"
      },
      "source": [
        "!nvcc --version"
      ],
      "execution_count": 4,
      "outputs": [
        {
          "output_type": "stream",
          "text": [
            "nvcc: NVIDIA (R) Cuda compiler driver\n",
            "Copyright (c) 2005-2020 NVIDIA Corporation\n",
            "Built on Wed_Jul_22_19:09:09_PDT_2020\n",
            "Cuda compilation tools, release 11.0, V11.0.221\n",
            "Build cuda_11.0_bu.TC445_37.28845127_0\n"
          ],
          "name": "stdout"
        }
      ]
    },
    {
      "cell_type": "code",
      "metadata": {
        "colab": {
          "base_uri": "https://localhost:8080/"
        },
        "id": "tRh1-tI_K2Sd",
        "outputId": "681ad119-18ec-4686-a662-63deb1280711"
      },
      "source": [
        "!ls /usr/local/"
      ],
      "execution_count": 5,
      "outputs": [
        {
          "output_type": "stream",
          "text": [
            "bin\t   cuda-10.1  games\t\t  lib\t       man\t  share\n",
            "cuda\t   cuda-11.0  _gcs_config_ops.so  LICENSE.txt  sbin\t  src\n",
            "cuda-10.0  etc\t      include\t\t  licensing    setup.cfg  xgboost\n"
          ],
          "name": "stdout"
        }
      ]
    },
    {
      "cell_type": "code",
      "metadata": {
        "colab": {
          "base_uri": "https://localhost:8080/"
        },
        "id": "poYzBV1ALNRi",
        "outputId": "22e93281-c993-4f2c-d9ca-a3fd91c07c61"
      },
      "source": [
        "!stat /usr/local/cuda"
      ],
      "execution_count": 7,
      "outputs": [
        {
          "output_type": "stream",
          "text": [
            "  File: /usr/local/cuda -> cuda-11.0\n",
            "  Size: 9         \tBlocks: 0          IO Block: 4096   symbolic link\n",
            "Device: 32h/50d\tInode: 1056905     Links: 1\n",
            "Access: (0777/lrwxrwxrwx)  Uid: (    0/    root)   Gid: (    0/    root)\n",
            "Access: 2021-04-21 13:32:00.000000000 +0000\n",
            "Modify: 2021-04-21 13:32:00.000000000 +0000\n",
            "Change: 2021-04-27 14:00:40.609379163 +0000\n",
            " Birth: -\n"
          ],
          "name": "stdout"
        }
      ]
    },
    {
      "cell_type": "code",
      "metadata": {
        "colab": {
          "base_uri": "https://localhost:8080/"
        },
        "id": "LMJIFLU8LZnc",
        "outputId": "b36a4be6-595f-4126-8b78-f02dcec0d500"
      },
      "source": [
        "%cat /usr/local/cuda/version.txt"
      ],
      "execution_count": 8,
      "outputs": [
        {
          "output_type": "stream",
          "text": [
            "CUDA Version 11.0.228\n"
          ],
          "name": "stdout"
        }
      ]
    },
    {
      "cell_type": "code",
      "metadata": {
        "id": "KvW5bF_kLqLI"
      },
      "source": [
        "!rm -rf /usr/local/cuda"
      ],
      "execution_count": 9,
      "outputs": []
    },
    {
      "cell_type": "code",
      "metadata": {
        "id": "r67vxG7vLwyp"
      },
      "source": [
        "!ln -s /usr/local/cuda-10.1 /usr/local/cuda"
      ],
      "execution_count": 10,
      "outputs": []
    },
    {
      "cell_type": "code",
      "metadata": {
        "colab": {
          "base_uri": "https://localhost:8080/"
        },
        "id": "RUmchemoL1vY",
        "outputId": "5731f6bd-2ba7-46f5-c4a5-1a575c80de25"
      },
      "source": [
        "!stat cuda"
      ],
      "execution_count": 11,
      "outputs": [
        {
          "output_type": "stream",
          "text": [
            "stat: cannot stat 'cuda': No such file or directory\n"
          ],
          "name": "stdout"
        }
      ]
    },
    {
      "cell_type": "markdown",
      "metadata": {
        "id": "7jygTF9_9BFt"
      },
      "source": [
        "# Setup Datasets and modelcheckpoints"
      ]
    },
    {
      "cell_type": "code",
      "metadata": {
        "id": "CuQeYJbLzL1H"
      },
      "source": [
        "model_checkpoint = \"t5-small\""
      ],
      "execution_count": 12,
      "outputs": []
    },
    {
      "cell_type": "code",
      "metadata": {
        "colab": {
          "base_uri": "https://localhost:8080/"
        },
        "id": "oHPxAEaH8s5z",
        "outputId": "67ec4b5d-f0e2-4ba3-8464-452bca6e22bb"
      },
      "source": [
        "import nltk\n",
        "nltk.download('punkt')"
      ],
      "execution_count": 13,
      "outputs": [
        {
          "output_type": "stream",
          "text": [
            "[nltk_data] Downloading package punkt to /root/nltk_data...\n",
            "[nltk_data]   Unzipping tokenizers/punkt.zip.\n"
          ],
          "name": "stdout"
        },
        {
          "output_type": "execute_result",
          "data": {
            "text/plain": [
              "True"
            ]
          },
          "metadata": {
            "tags": []
          },
          "execution_count": 13
        }
      ]
    },
    {
      "cell_type": "code",
      "metadata": {
        "colab": {
          "base_uri": "https://localhost:8080/",
          "height": 328,
          "referenced_widgets": [
            "e0a6de4d4b7d46d9a4898394c47bd1e8",
            "ce1b6549bb0a4478951791603517bac7",
            "041551ef418c49e8b6d16f054cf41769",
            "56a12318623e4b17ae8b790abc85514c",
            "903e2d39c17b4dea8ce72f0069abf916",
            "d53aa6ca9da64101b00dca67c002ef85",
            "f6ee3e0f7f4241d1a5dff8e3ee05f142",
            "7d4e208a607f43f08b45839e8258b031",
            "f17aef7a71a3464bb6230acd0004a7ce",
            "8fd3fea065374735ab4a103e019d9465",
            "5723b5b6e76140938026d180742bba9c",
            "b701fdb8380a4c29816c282e2becb4c0",
            "a111c33113a6459aaf7f02f54fe52398",
            "bbfa43c31d3741a18d86ff0cdd3ad303",
            "e5c9556e14294b5d96e7efa5befec30b",
            "1fa1dc800fe944d1bacdb6160a837620",
            "2e6bcfea9d204e2d9510eaa0a318b96d",
            "bb8776a67a194c5e9f817111bbb55b36",
            "09cbcaee660f49dc9b447307597566a9",
            "a709b53217e0422fa0bb964cb88a0841",
            "6d0c59f02ff64e808eb267d337375c94",
            "19c214928b624ef1bc416b747d22ef25",
            "b79c54dd71924c98b6fbd5deec7ce2a7",
            "9778c2d21707475b885ebdad7b7e11f3",
            "ed0f0a498aeb4e0da224e4d98bfdcca6",
            "4fe6865d35c74ffa949dfc6ddf439f46",
            "d481b59c19f9465eb72a8957cdca2c24",
            "6cd94e3655a84f57b159862250c22524",
            "af2942d17d914b7a932989b531396b8d",
            "971a4ca0392e475b96125e85ac9aeef5",
            "d45dae55010a4416b5917d6a03f7e3e2",
            "f2108267677147cc9be7a12858183f70",
            "46fbd86a0d0e4cd792a8d506a304ab31",
            "6083673f567f4ad2bacefa30d809b79b",
            "51b249b385ac4a82a60c75b5d36f27f1",
            "4104573d186245abb3c2cf14886f9b1f",
            "055351767dac44bd81bfa48104ffe69e",
            "8cf950cac23147e091f5fab851fb0707",
            "f1ca479fb7e4444e9b93a96638ee3011",
            "a4c36e0fdf564b039da2308dd90fa957",
            "8ce66defd85f418181f5020968f2f5da",
            "101ee99d98f9476bb810bcb7319368dc",
            "f80158e6d0cf4872bd242f503a857543",
            "21456237dcab485c9cfc88436f64dfde",
            "520203d1f2a043d7905772552c2aba7b",
            "3e8df646d9014c41828eaf6d55b5e25a",
            "1ff2371395fb4c0e88b9a3bf75a13c4d",
            "923a9e6028ad4f2cb5e4bfafa7cdde5e",
            "067a34db8b7a4a4ea70f78b86faba4f4",
            "6776dba173514de89f2be9195d8a2aa2",
            "5c2661c5955143cfba11fee275b494c7",
            "3c486344be3140ca92c31d60e09a2951",
            "e88b41fa76834d81877ddef401eb995a",
            "fb4faade68944852a8c03c4066b8148f",
            "78ef8f3df426400d970f091bbdca28b4",
            "80a7c0f1b811432fb6a20bb2da802b11",
            "cd1f60a360934d21986867133f0df77f",
            "bbc9de2946674e8098b116ec69d28f2f",
            "776e40b624654627992e4bb1430f1a0a",
            "8a440059ac354903b324eedca999fbe3",
            "e7eeb20f1dec463abe0c75d51b7c2ef6",
            "2ed211b40ca84b61b0ab21306b5b4aec",
            "db762a3e6c4f43f781f4c95af3d73e46",
            "10133cfd252740098235e8b5ad46c486"
          ]
        },
        "id": "AVbPtBsszL5B",
        "outputId": "ca28e9f0-d18d-4737-fef9-eafef9c24e3f"
      },
      "source": [
        "from datasets import load_dataset, load_metric\n",
        "\n",
        "raw_datasets = load_dataset(\"xsum\")\n",
        "metric = load_metric(\"rouge\")"
      ],
      "execution_count": 14,
      "outputs": [
        {
          "output_type": "display_data",
          "data": {
            "application/vnd.jupyter.widget-view+json": {
              "model_id": "e0a6de4d4b7d46d9a4898394c47bd1e8",
              "version_minor": 0,
              "version_major": 2
            },
            "text/plain": [
              "HBox(children=(FloatProgress(value=0.0, description='Downloading', max=1930.0, style=ProgressStyle(description…"
            ]
          },
          "metadata": {
            "tags": []
          }
        },
        {
          "output_type": "stream",
          "text": [
            "\n"
          ],
          "name": "stdout"
        },
        {
          "output_type": "display_data",
          "data": {
            "application/vnd.jupyter.widget-view+json": {
              "model_id": "f17aef7a71a3464bb6230acd0004a7ce",
              "version_minor": 0,
              "version_major": 2
            },
            "text/plain": [
              "HBox(children=(FloatProgress(value=0.0, description='Downloading', max=954.0, style=ProgressStyle(description_…"
            ]
          },
          "metadata": {
            "tags": []
          }
        },
        {
          "output_type": "stream",
          "text": [
            "Using custom data configuration default\n"
          ],
          "name": "stderr"
        },
        {
          "output_type": "stream",
          "text": [
            "\n",
            "Downloading and preparing dataset xsum/default (download: 245.38 MiB, generated: 507.60 MiB, post-processed: Unknown size, total: 752.98 MiB) to /root/.cache/huggingface/datasets/xsum/default/1.2.0/4957825a982999fbf80bca0b342793b01b2611e021ef589fb7c6250b3577b499...\n"
          ],
          "name": "stdout"
        },
        {
          "output_type": "display_data",
          "data": {
            "application/vnd.jupyter.widget-view+json": {
              "model_id": "2e6bcfea9d204e2d9510eaa0a318b96d",
              "version_minor": 0,
              "version_major": 2
            },
            "text/plain": [
              "HBox(children=(FloatProgress(value=0.0, description='Downloading', max=254582292.0, style=ProgressStyle(descri…"
            ]
          },
          "metadata": {
            "tags": []
          }
        },
        {
          "output_type": "stream",
          "text": [
            "\n"
          ],
          "name": "stdout"
        },
        {
          "output_type": "display_data",
          "data": {
            "application/vnd.jupyter.widget-view+json": {
              "model_id": "ed0f0a498aeb4e0da224e4d98bfdcca6",
              "version_minor": 0,
              "version_major": 2
            },
            "text/plain": [
              "HBox(children=(FloatProgress(value=0.0, description='Downloading', max=1001503.0, style=ProgressStyle(descript…"
            ]
          },
          "metadata": {
            "tags": []
          }
        },
        {
          "output_type": "stream",
          "text": [
            "\n"
          ],
          "name": "stdout"
        },
        {
          "output_type": "display_data",
          "data": {
            "application/vnd.jupyter.widget-view+json": {
              "model_id": "46fbd86a0d0e4cd792a8d506a304ab31",
              "version_minor": 0,
              "version_major": 2
            },
            "text/plain": [
              "HBox(children=(FloatProgress(value=1.0, bar_style='info', max=1.0), HTML(value='')))"
            ]
          },
          "metadata": {
            "tags": []
          }
        },
        {
          "output_type": "stream",
          "text": [
            "\r"
          ],
          "name": "stdout"
        },
        {
          "output_type": "display_data",
          "data": {
            "application/vnd.jupyter.widget-view+json": {
              "model_id": "8ce66defd85f418181f5020968f2f5da",
              "version_minor": 0,
              "version_major": 2
            },
            "text/plain": [
              "HBox(children=(FloatProgress(value=1.0, bar_style='info', max=1.0), HTML(value='')))"
            ]
          },
          "metadata": {
            "tags": []
          }
        },
        {
          "output_type": "stream",
          "text": [
            "\r"
          ],
          "name": "stdout"
        },
        {
          "output_type": "display_data",
          "data": {
            "application/vnd.jupyter.widget-view+json": {
              "model_id": "067a34db8b7a4a4ea70f78b86faba4f4",
              "version_minor": 0,
              "version_major": 2
            },
            "text/plain": [
              "HBox(children=(FloatProgress(value=1.0, bar_style='info', max=1.0), HTML(value='')))"
            ]
          },
          "metadata": {
            "tags": []
          }
        },
        {
          "output_type": "stream",
          "text": [
            "\rDataset xsum downloaded and prepared to /root/.cache/huggingface/datasets/xsum/default/1.2.0/4957825a982999fbf80bca0b342793b01b2611e021ef589fb7c6250b3577b499. Subsequent calls will reuse this data.\n"
          ],
          "name": "stdout"
        },
        {
          "output_type": "display_data",
          "data": {
            "application/vnd.jupyter.widget-view+json": {
              "model_id": "cd1f60a360934d21986867133f0df77f",
              "version_minor": 0,
              "version_major": 2
            },
            "text/plain": [
              "HBox(children=(FloatProgress(value=0.0, description='Downloading', max=2170.0, style=ProgressStyle(description…"
            ]
          },
          "metadata": {
            "tags": []
          }
        },
        {
          "output_type": "stream",
          "text": [
            "\n"
          ],
          "name": "stdout"
        }
      ]
    },
    {
      "cell_type": "code",
      "metadata": {
        "colab": {
          "base_uri": "https://localhost:8080/"
        },
        "id": "Suf1tMGNzL9F",
        "outputId": "435be9d9-f1a5-4c0e-ca23-633047110526"
      },
      "source": [
        "raw_datasets"
      ],
      "execution_count": 15,
      "outputs": [
        {
          "output_type": "execute_result",
          "data": {
            "text/plain": [
              "DatasetDict({\n",
              "    train: Dataset({\n",
              "        features: ['document', 'summary', 'id'],\n",
              "        num_rows: 204045\n",
              "    })\n",
              "    validation: Dataset({\n",
              "        features: ['document', 'summary', 'id'],\n",
              "        num_rows: 11332\n",
              "    })\n",
              "    test: Dataset({\n",
              "        features: ['document', 'summary', 'id'],\n",
              "        num_rows: 11334\n",
              "    })\n",
              "})"
            ]
          },
          "metadata": {
            "tags": []
          },
          "execution_count": 15
        }
      ]
    },
    {
      "cell_type": "code",
      "metadata": {
        "colab": {
          "base_uri": "https://localhost:8080/"
        },
        "id": "V2oCjWojzMBF",
        "outputId": "5b3a3492-2c89-470a-cc1c-65e8460504fb"
      },
      "source": [
        "raw_datasets[\"train\"][1]"
      ],
      "execution_count": 16,
      "outputs": [
        {
          "output_type": "execute_result",
          "data": {
            "text/plain": [
              "{'document': 'Army explosives experts were called out to deal with a suspect package at the offices on the Newtownards Road on Friday night.\\nRoads were sealed off and traffic diverted as a controlled explosion was carried out.\\nThe premises, used by East Belfast MP Naomi Long, have been targeted a number of times.\\nMost recently, petrol bomb attacks were carried out on the offices on consecutive nights in April and May.\\nThe attacks began following a Belfast City Council vote in December 2012 restricting the flying of the union flag at the City Hall.\\nCondemning the latest hoax, Alliance MLA Chris Lyttle said: \"It is a serious incident for the local area, it causes serious disruption, it puts people\\'s lives at risk, it can prevent emergency services reaching the area.\\n\"Ultimately we need people with information to share that with the police in order for them to do their job and bring these people to justice.\"',\n",
              " 'id': '28381580',\n",
              " 'summary': 'A suspicious package left outside an Alliance Party office in east Belfast has been declared a hoax.'}"
            ]
          },
          "metadata": {
            "tags": []
          },
          "execution_count": 16
        }
      ]
    },
    {
      "cell_type": "code",
      "metadata": {
        "id": "HeRHgs9XzMET"
      },
      "source": [
        "\n",
        "import datasets\n",
        "import random\n",
        "import pandas as pd\n",
        "from IPython.display import display, HTML\n",
        "\n",
        "def show_random_elements(dataset, num_examples=5):\n",
        "    assert num_examples <= len(dataset), \"Can't pick more elements than there are in the dataset.\"\n",
        "    picks = []\n",
        "    for _ in range(num_examples):\n",
        "        pick = random.randint(0, len(dataset)-1)\n",
        "        while pick in picks:\n",
        "            pick = random.randint(0, len(dataset)-1)\n",
        "        picks.append(pick)\n",
        "    \n",
        "    df = pd.DataFrame(dataset[picks])\n",
        "    for column, typ in dataset.features.items():\n",
        "        if isinstance(typ, datasets.ClassLabel):\n",
        "            df[column] = df[column].transform(lambda i: typ.names[i])\n",
        "    display(HTML(df.to_html()))"
      ],
      "execution_count": 17,
      "outputs": []
    },
    {
      "cell_type": "code",
      "metadata": {
        "colab": {
          "base_uri": "https://localhost:8080/",
          "height": 1000
        },
        "id": "j0d889J-2BSF",
        "outputId": "c1c90b6b-a3e8-4ff3-acdd-3f1d3bf9ad17"
      },
      "source": [
        "show_random_elements(raw_datasets[\"train\"])"
      ],
      "execution_count": 18,
      "outputs": [
        {
          "output_type": "display_data",
          "data": {
            "text/html": [
              "<table border=\"1\" class=\"dataframe\">\n",
              "  <thead>\n",
              "    <tr style=\"text-align: right;\">\n",
              "      <th></th>\n",
              "      <th>document</th>\n",
              "      <th>id</th>\n",
              "      <th>summary</th>\n",
              "    </tr>\n",
              "  </thead>\n",
              "  <tbody>\n",
              "    <tr>\n",
              "      <th>0</th>\n",
              "      <td>Nicholas Churton, 67, former owner of Churtons wine bar in Rossett, was found dead on Monday, 27 March.\\nJordan Davidson has also been charged with three counts of robbery, two burglary offences, assaulting a police officer and attempting to inflict grievous bodily harm on an officer.\\nMr Davidson from Wrexham was remanded in custody until a hearing in June.\\nA provisional trial date has been set for 18 September.</td>\n",
              "      <td>39493217</td>\n",
              "      <td>A 27-year-old man has appeared in court charged with the murder of former restaurateur at his home in Wrexham.</td>\n",
              "    </tr>\n",
              "    <tr>\n",
              "      <th>1</th>\n",
              "      <td>This is the Atlantic edge of the European Union. Westwards from the Butt of Lewis, it is next stop America.\\nWaves crash on to the rocks. Seabirds squabble. There's a tang of salt on the breeze.\\nThe beauty and isolation of this place is striking.\\nThe Western Isles are a world away from decision-making in Edinburgh and London, never mind Brussels.\\nYet the EU has a big impact here.\\nAt the Harris Tweed Hebrides mill, the machinery is working at full clatter.\\nThe hard-wearing fabric produced here is exported worldwide - about a third of it to EU countries outside the UK.\\nIn a quieter corner of the factory, surrounded by large multi-coloured rolls of tweed, Margaret Ann Macleod shares her concerns about the looming referendum.\\nAs a company director she is worried that a vote to leave the EU could make it harder to access the single market.\\n\"We hope the vote will go for staying within Europe and for staying with what we have,\" she says. \"The ability to trade with our partners and neighbours in Europe.\"\\nFishing is another major industry in the Western Isles that relies on free trade.\\nHow the UK is affected by the Common Agricultural Policy and EU fishing policies. \\nMost of the scallops and langoustines landed here are sold to France and Spain.\\nYet many in the local fishing industry are fed up with EU regulation under the Common Fisheries Policy.\\nAt the Islander Shellfish shop on Stornoway harbour Ronnie Scott is filleting fish with the speed and skill of a man with decades of experience.\\nRonnie wants to cut the EU out of deciding who can catch what.\\n\"There are people over in Europe that don't know where we are,\" he says. \"They don't understand our fishing.\"\\nHe is frustrated with rules requiring some fish to be thrown back into the sea, forcing him to buy from the Scottish mainland.\\nRonnie adds: \"It doesn't add up - but we have to do it.\"\\nHe believes the Western Isles fleet would be better off outside the EU.\\n\"The boats here would be allowed to land what they catch,\" he says. \"A sensible fishing rather than this EU regulation.\"\\nEuroscepticism is not new here. It is something of a tradition.\\nIn 1975, when the UK voted firmly in favour of continuing in what was then the European Economic Community, the Western Isles dissented.\\nIt was one of only two regions to vote \"no\" - along with Shetland. Islanders in the Western Isles were seven to three against.\\nForty-one years have passed since that referendum and a great deal has changed in  the Outer Hebrides.\\nIslanders are very, very resistant to interference from the outside.\"\\nIt's so alien to me - things happening in Brussels and a whole lot of people from Germany and France.\"\\nAt WJ MacDonald butchers in Stornoway, they still make black pudding to a traditional island recipe but now it is afforded EU protection.\\nLike Champagne or Parma ham, Stornoway black pudding has what is called a geographical indication on its label.\\nOnly blood, fat and oatmeal blended in the capital of the Western Isles is allowed to use the Stornoway brand.\\nThat has boosted sales, according to the butcher Derek Smith but he has wider reasons for backing a vote to remain in the EU.\\n\"Our massive infrastructure projects…have all been EU subsidised\" he says.\\n\"Would any other government be in a position to fund these in such a rural part of the country?\" he wonders, with a doubting look on his face.\\nThe infrastructure he refers to includes roads, causeways and ferry ports that have made the islands far more accessible.\\nOne of the best examples is the bridge linking the tiny island of Scalpay to Harris.\\nIt is widely credited for helping to sustain the community on Scalpay, which has fewer than 300 inhabitants.\\nEU funds have also helped develop a community-owned shop and café on the island.\\nYet, even here, it is not hard to find unease with the European Union.\\nMorag Macleod is a retired academic who was born and brought up on Scalpay and serves on the island shop committee.\\nShe has decided not to vote in the referendum but she is not keen on the EU.\\nMorag explains: \"It's so alien to me, things happening in Brussels and a whole lot of people from Germany and France...deciding what's going to happen here.\"\\nSitting in the garden at Morag's home overlooking Scalpay's pretty fishing harbour, I ask if islanders dislike being told what to do by outsiders.\\n\"I think that's right,\" she says with a little laughter.\\nAs my travels continue, I explore this theme further with Western Isles councillor Uisdean Robertson, at his home on North Uist.\\nHe couldn't be clearer: \"Islanders are very, very resistant to interference from the outside.\"\\n\"Unfortunately, we tend to get it all the time,\" he adds with more than a hint of exasperation.\\nUisdean explains that development cash is harder to come by now that the EU has expanded eastwards.\\n\"The days of manna from Europe have gone, everything's getting more competitive,\" he says.\\nUisdean is minded to vote to leave.\\nFor some, this debate is about identity and where power lies. For others, there's financial calculation.\\nAt the boatyard in Kallin, North Uist, men are painting and patching vessels.\\nNineteen year old Connor Ewen is the only one prepared to speak and he tells me the EU referendum has left him \"torn\".\\nIf he made his living entirely from the sea, he would vote to leave. That, he says, is what many of his fellow fishermen intend to do.\\nBut Connor is also working the land to make ends meet. As a crofter, he receives subsidies under the EU's Common Agricultural Policy.\\n\"No matter how little or how big, they do help a lot of people,\" he says.\\nHe is worried about what would replace these payments if the UK leaves the EU.\\nThat is why he is thinking of voting to stay. He describes it as the \"safer option\" before resuming work on his boat.\\nFurther south, on the isle of Barra, there are cousins who have reached different conclusions.\\nGerard MacDonald is feeding potatoes to his cows. He's a crofter and oyster farmer and a supporter of the EU.\\nHe told me: \"There's a lot of benefit that comes to our community through rural development that occurs through EU funding.\"\\nNearby, at Barratlantic's shellfish processing plant, the general manager Christina MacNeil, takes the opposite view.\\n\"On a fisherman's perspective - out,\" she says. \"Because they're not listened to - the fishermen - what their needs are.\"\\nAt Barra airport, there's barely time to gulp down some coffee before I'm invited to board the 18-seat plane for Glasgow.\\nWe hurtle along the beach, which is the runway here, and rise gently into the sky.\\nAs I look out of the window, it is as clear as the waters that wash the shores below, that the UK's future relationship with the EU really matters on the Western Isles.</td>\n",
              "      <td>36425386</td>\n",
              "      <td>The red-brick lighthouse towers into a clear blue sky with the ocean stretching before it as far as the eye can see.</td>\n",
              "    </tr>\n",
              "    <tr>\n",
              "      <th>2</th>\n",
              "      <td>Luke Harlow, 28, of Ibstock, Leicestershire, admitted grooming and sexually touching Kayleigh Haywood but had denied taking her captive.\\nStephen Beadman, 29, who admitted raping and murdering Kayleigh, was found guilty of imprisonment on Monday.\\nBoth men are due to be sentenced at Nottingham Crown Court on Friday.\\nMore on this story and other news in Leicestershire\\nKayleigh's body was found in a field, five days after she was dropped off outside Ibstock Community College, on Friday 13 November.\\nHer family thought she was joining a friend but she was actually meeting Harlow, who had been grooming her through social media and text messages.\\nKayleigh, from Measham, was given \"substantial amounts of alcohol\" and \"sexually touched\" by Harlow, according to the prosecution, on that Friday evening.\\nThe following day, Beadman arrived at the flat and the jury agreed Kayleigh was kept prisoner by both men between about 21:00 BST and 03:00 the next morning.\\nSpeaking outside court after the final verdict, Kayleigh's parents said they were \"heartbroken and devastated\".\\n\"Our hearts have been torn apart,\" they said in a statement.\\n\"We ask ourselves every day, why? Why Kayleigh? Why did this happen to our beautiful daughter?\\n\"Today, we have got justice for our beautiful daughter. But that doesn't change anything for us. We have to live with this heartache forever.\\n\"The public have been and continue to be a great support and comfort to us, and we want to thank each and every one of you.\"\\nThe court heard how Harlow became Facebook friends with Kayleigh just two weeks before her death.\\nHe had more than 2,200 friends on Facebook, and police believe many of these were girls and young women he was trying to groom.\\nHe admitted two charges of attempting to meet children following sexual grooming, in relation to two other 15-year-old girls he tried and failed to meet.\\nJanine Smith, Chief Crown Prosecutor at CPS East Midlands, said Kayleigh suffered \"a terrifying ordeal\" at the hands of Beadman, but was only in that position because she had been groomed by Harlow before being kept against her will.\\n\"Beadman callously raped and took the life of an innocent teenage girl,\" said Ms Smith.\\n\"Harlow pursued a succession of underage girls in a sinister manner, talking about 'kidnapping' them and making them 'slaves'.\\n\"I would like to offer my heartfelt sympathy to Kayleigh's family and I hope the conviction of these highly dangerous men will in some way help them start to cope with their loss.\"\\nThe NSPCC said the \"shocking\" case was a \"stark reminder of the dangers that young people face on social media\" - and called for more resources to help police tackle the problem.\\n\"Last week, the NSPCC revealed that more than 3,000 sex crimes using the internet were committed against children last year, and Kayleigh's tragic death is an example of the way the online world is increasingly being used by abusers,\" an NSPCC spokesman said.\\n\"In the coming years, it is vital that police are given the resources to tackle this rapidly developing, 21st century crime, and that we continue to help our children stay safe online.\"\\nPaul Burnett, independent chairman of the Leicestershire and Rutland Local Safeguarding Children Board, said a serious case review is under way \"to see if any lessons can be learned and action taken\".\\n31 October - Luke Harlow begins grooming Kayleigh Haywood on Facebook, sending her a message reading: \"Hey, how's it going?\" Further electronic messaging, which she kept from her parents, then takes place on Facebook and WhatsApp.\\n13 November - Kayleigh's father drops her off outside Ibstock Community College at about 18:00 GMT, after she agrees to spend the weekend at Harlow's home in George Avenue, Ibstock. At Harlow's request, Kayleigh tells her parents she is staying with a friend.\\n14 November - Kayleigh speaks to her parents on her iPhone in the morning. At about 21:00, Kayleigh's mobile phone ceases to send messages to her friends.\\n15 November - Between 03:00 and 03:30 a witness sees a young woman being pinned to the ground by a man who is wrongly assumed to be a policeman because of a reflective strip on his coat. A loud frightened scream of \"mummy\" is heard by another witness as Kayleigh is attacked by Stephen Beadman and then killed on farmland.\\nAt about 9:30 Kayleigh's smashed iPhone is found on a main road near the defendants' homes. A passerby who finds the handset uses the Sim card to dial the last number called and gets through to a friend of Kayleigh, who in turn contacts the schoolgirl's mother. Kayleigh is then reported missing.\\n16 November - Detectives arrest Harlow and Beadman in connection with Kayleigh's disappearance as officers search for her on parkland and at a property.\\n17 November - Police appeal for anyone with information or sightings of the schoolgirl to come forward. Later the same day, Kayleigh's parents - Stephanie Haywood and Martin Whitby - make an emotional appeal through police for her to come home.\\n18 November - Leicestershire Police announce that officers are treating the disappearance of Kayleigh as murder after finding items of clothing they believe belonged to the teenager in Ibstock and Diseworth. Police find Kayleigh's body in undergrowth near a stream at about 22:00.\\n19 November - Leicestershire Police charge Beadman, then aged 28, with the murder of Kayleigh Haywood. Harlow, 27, is accused of grooming and two counts of sexual activity with a child.</td>\n",
              "      <td>36651220</td>\n",
              "      <td>A man who used Facebook to groom a 15-year-old girl who was later raped and murdered has been found guilty of false imprisonment.</td>\n",
              "    </tr>\n",
              "    <tr>\n",
              "      <th>3</th>\n",
              "      <td>An Australian court in December had blocked the company from accessing details of customers who illegally downloaded the movie.\\nA deadline to appeal against the court decision lapsed at noon on Thursday.\\nThe ruling had prevented the company from so-called speculative invoicing.\\nThis is where account holders accused of piracy are threatened with court cases that could result in large damages unless smaller settlement fees are paid.\\nThe lawyers representing Dallas Buyers Club LLC (DBC) said the decision not to appeal was a commercial one, as it was uneconomical and impractical to pursue the case under the terms set by the court.\\n\"Our client considered the costs and benefits of taking this particular application further and decided against it,\" Michael Bradley of Marque Lawyers told the BBC.\\nMr Bradley pointed out, however, that \"the case hasn't finally determined any of the underlying legal issues\".\\nDBC says it identified 4,726 unique IP addresses from which the film was shared online using BitTorrent, a peer-to-peer file sharing network.\\nThe ruling by the Federal Court of Australia had said that for A$600,000 ($442,000; Â£283,000), DBC was allowed to obtain the details of those alleged infringers from network provider iiNet.\\nHowever, it would only be able to seek damages for the cost of purchasing the movie legally and the expenses of obtaining the individual's details.\\nInitially, an April 2015 court decision had ordered the iiNet to hand over the details of those customers.\\nBut in May, that order was put on hold, as the court asked DBC for details of the letters it wanted to send to customers.\\nThe next court decision in December said that even after the court had seen the proposed letters, as well as the scripts that DBC staff would follow in phone conversations with alleged infringers, it was unclear how much money the company would ask customers to pay.\\nAccording to the court, DBC had wanted to pursue alleged infringers for:\\nThe court said the second and third requests were \"untenable\".</td>\n",
              "      <td>35547045</td>\n",
              "      <td>The Hollywood studio behind the US film Dallas Buyers Club is no longer pursuing its piracy case against Australians accused of illegally downloading the movie.</td>\n",
              "    </tr>\n",
              "    <tr>\n",
              "      <th>4</th>\n",
              "      <td>Online poker was legalised in the state in February. And states across the US, probably starting with New Jersey and Delaware, look likely to follow suit.\\nThe Nevada Gaming Control Board has issued a 30-day licence to allow websites to compete for customers, with UltimatePoker.com the first to go live.\\nOnline gambling is expected to generate billions of dollars for US authorities.\\nEach year an estimated 10 million Americans play online poker, but the sites are currently based offshore, meaning state and federal authorities make no money from them.\\nInternet gambling was banned by Congress in 2006, but states across the US now hope to relax the rules.\\nUnder the terms of the Nevada licence, players must be at least 21 years old and residents of the state. Initially, only online poker will be played.\\nUltimatePoker is a subsidiary of Station Casinos, which operates 16 casinos across Las Vegas.\\nUS group Stop Predatory Gambling has said the alliance between government and the gambling industry is \"actively encouraging people to lose money\".\\nThe UK is often cited as a leader in gambling regulation. Online sites are required to verify identities and link and provide support to help services for addicts.\\nButt there has been a big increase in the number gambling addicts in the UK, where online betting is a Â£2bn industry.\\nIn 2010, research from the Gambling Commission estimated there were 450,000 problem gamblers in the UK, with an average debt of Â£17,500, 200,000 more than in 2007.\\nMicrogaming Software Systems, based in the Isle of Man, created the world's first online casino 20 years ago.</td>\n",
              "      <td>22365832</td>\n",
              "      <td>Nevada has become the first US state to allow residents to play poker online for money.</td>\n",
              "    </tr>\n",
              "  </tbody>\n",
              "</table>"
            ],
            "text/plain": [
              "<IPython.core.display.HTML object>"
            ]
          },
          "metadata": {
            "tags": []
          }
        }
      ]
    },
    {
      "cell_type": "code",
      "metadata": {
        "colab": {
          "base_uri": "https://localhost:8080/"
        },
        "id": "KuDh3uRv2BVa",
        "outputId": "ba0486fb-064b-4259-b4dd-15a83ce60da2"
      },
      "source": [
        "metric"
      ],
      "execution_count": 19,
      "outputs": [
        {
          "output_type": "execute_result",
          "data": {
            "text/plain": [
              "Metric(name: \"rouge\", features: {'predictions': Value(dtype='string', id='sequence'), 'references': Value(dtype='string', id='sequence')}, usage: \"\"\"\n",
              "Calculates average rouge scores for a list of hypotheses and references\n",
              "Args:\n",
              "    predictions: list of predictions to score. Each predictions\n",
              "        should be a string with tokens separated by spaces.\n",
              "    references: list of reference for each prediction. Each\n",
              "        reference should be a string with tokens separated by spaces.\n",
              "    rouge_types: A list of rouge types to calculate.\n",
              "        Valid names:\n",
              "        `\"rouge{n}\"` (e.g. `\"rouge1\"`, `\"rouge2\"`) where: {n} is the n-gram based scoring,\n",
              "        `\"rougeL\"`: Longest common subsequence based scoring.\n",
              "        `\"rougeLSum\"`: rougeLsum splits text using `\"\n",
              "\"`.\n",
              "        See details in https://github.com/huggingface/datasets/issues/617\n",
              "    use_stemmer: Bool indicating whether Porter stemmer should be used to strip word suffixes.\n",
              "    use_agregator: Return aggregates if this is set to True\n",
              "Returns:\n",
              "    rouge1: rouge_1 (precision, recall, f1),\n",
              "    rouge2: rouge_2 (precision, recall, f1),\n",
              "    rougeL: rouge_l (precision, recall, f1),\n",
              "    rougeLsum: rouge_lsum (precision, recall, f1)\n",
              "Examples:\n",
              "\n",
              "    >>> rouge = datasets.load_metric('rouge')\n",
              "    >>> predictions = [\"hello there\", \"general kenobi\"]\n",
              "    >>> references = [\"hello there\", \"general kenobi\"]\n",
              "    >>> results = rouge.compute(predictions=predictions, references=references)\n",
              "    >>> print(list(results.keys()))\n",
              "    ['rouge1', 'rouge2', 'rougeL', 'rougeLsum']\n",
              "    >>> print(results[\"rouge1\"])\n",
              "    AggregateScore(low=Score(precision=1.0, recall=1.0, fmeasure=1.0), mid=Score(precision=1.0, recall=1.0, fmeasure=1.0), high=Score(precision=1.0, recall=1.0, fmeasure=1.0))\n",
              "    >>> print(results[\"rouge1\"].mid.fmeasure)\n",
              "    1.0\n",
              "\"\"\", stored examples: 0)"
            ]
          },
          "metadata": {
            "tags": []
          },
          "execution_count": 19
        }
      ]
    },
    {
      "cell_type": "code",
      "metadata": {
        "colab": {
          "base_uri": "https://localhost:8080/"
        },
        "id": "FGE9l7CS2BYm",
        "outputId": "9e95d639-67c3-466d-d803-97cb648e7cdf"
      },
      "source": [
        "fake_preds = [\"hello there\", \"general obi wan kenosha\"]\n",
        "fake_labels = [\"hello there\", \"general obi kenobi\"]\n",
        "metric.compute(predictions=fake_preds, references=fake_labels)"
      ],
      "execution_count": 20,
      "outputs": [
        {
          "output_type": "execute_result",
          "data": {
            "text/plain": [
              "{'rouge1': AggregateScore(low=Score(precision=0.5, recall=0.6666666666666666, fmeasure=0.5714285714285715), mid=Score(precision=0.75, recall=0.8333333333333333, fmeasure=0.7857142857142858), high=Score(precision=1.0, recall=1.0, fmeasure=1.0)),\n",
              " 'rouge2': AggregateScore(low=Score(precision=0.3333333333333333, recall=0.5, fmeasure=0.4), mid=Score(precision=0.6666666666666666, recall=0.75, fmeasure=0.7), high=Score(precision=1.0, recall=1.0, fmeasure=1.0)),\n",
              " 'rougeL': AggregateScore(low=Score(precision=0.5, recall=0.6666666666666666, fmeasure=0.5714285714285715), mid=Score(precision=0.75, recall=0.8333333333333333, fmeasure=0.7857142857142858), high=Score(precision=1.0, recall=1.0, fmeasure=1.0)),\n",
              " 'rougeLsum': AggregateScore(low=Score(precision=0.5, recall=0.6666666666666666, fmeasure=0.5714285714285715), mid=Score(precision=0.75, recall=0.8333333333333333, fmeasure=0.7857142857142858), high=Score(precision=1.0, recall=1.0, fmeasure=1.0))}"
            ]
          },
          "metadata": {
            "tags": []
          },
          "execution_count": 20
        }
      ]
    },
    {
      "cell_type": "code",
      "metadata": {
        "colab": {
          "base_uri": "https://localhost:8080/",
          "height": 162,
          "referenced_widgets": [
            "5547109f9ea84b52978aac761a60bf4c",
            "b12af064c014466eaa7ba40486802dbb",
            "35b2c0ec62eb4f13ba6e787c36dd5ec7",
            "83a77e4d588e4af997adfe3f36d3537c",
            "a0ba8d6783eb447ba1035d110d829692",
            "34352135cc6c4f8588cab0fc8870bd54",
            "b345f8021289400a804e1c4a9fe29ec7",
            "d42ef69001c74d4e84fdd5d53d4494a5",
            "6a185905d75b4704afbe1501a17ce726",
            "f10732b882e64b1da27b5c9de10b1acc",
            "b583a4bf06234343940639f05a1ece15",
            "f489f0fb6a4d45eba0d4f31ffbd9a159",
            "e49d2c851e19479bb012ad5de9b0cd75",
            "3ba4f4d1669c4c58a4fa2962382b7bf4",
            "e5f9010a31fd4aee98ebc82c2300883a",
            "16a0b059b8824fd5955cb6ee5699e249",
            "b9a3802389544ab9a2257112845ad0bb",
            "633223e35f5045599c4105456d1989c3",
            "31b81f21af354760a38861bd0a55587c",
            "56ab97513f8b4886926f940663d2f1d2",
            "fad53ed5e8d24de795c87fa9a63924da",
            "ad399007d6f54180af3daec2131f6179",
            "3cdacbc5fd3f477383e6c8a835961b9e",
            "3cbbc048d35442989c7e16329ee1bcb4"
          ]
        },
        "id": "dQSwrxeK2BbP",
        "outputId": "1c8df01a-b1ac-4604-9cf0-b09e7200a568"
      },
      "source": [
        "from transformers import AutoTokenizer\n",
        "    \n",
        "tokenizer = AutoTokenizer.from_pretrained(model_checkpoint)"
      ],
      "execution_count": 21,
      "outputs": [
        {
          "output_type": "display_data",
          "data": {
            "application/vnd.jupyter.widget-view+json": {
              "model_id": "5547109f9ea84b52978aac761a60bf4c",
              "version_minor": 0,
              "version_major": 2
            },
            "text/plain": [
              "HBox(children=(FloatProgress(value=0.0, description='Downloading', max=1197.0, style=ProgressStyle(description…"
            ]
          },
          "metadata": {
            "tags": []
          }
        },
        {
          "output_type": "stream",
          "text": [
            "\n"
          ],
          "name": "stdout"
        },
        {
          "output_type": "display_data",
          "data": {
            "application/vnd.jupyter.widget-view+json": {
              "model_id": "6a185905d75b4704afbe1501a17ce726",
              "version_minor": 0,
              "version_major": 2
            },
            "text/plain": [
              "HBox(children=(FloatProgress(value=0.0, description='Downloading', max=791656.0, style=ProgressStyle(descripti…"
            ]
          },
          "metadata": {
            "tags": []
          }
        },
        {
          "output_type": "stream",
          "text": [
            "\n"
          ],
          "name": "stdout"
        },
        {
          "output_type": "display_data",
          "data": {
            "application/vnd.jupyter.widget-view+json": {
              "model_id": "b9a3802389544ab9a2257112845ad0bb",
              "version_minor": 0,
              "version_major": 2
            },
            "text/plain": [
              "HBox(children=(FloatProgress(value=0.0, description='Downloading', max=1389353.0, style=ProgressStyle(descript…"
            ]
          },
          "metadata": {
            "tags": []
          }
        },
        {
          "output_type": "stream",
          "text": [
            "\n"
          ],
          "name": "stdout"
        }
      ]
    },
    {
      "cell_type": "code",
      "metadata": {
        "id": "KZtLydnDzMIC"
      },
      "source": [
        "if model_checkpoint in [\"t5-small\", \"t5-base\", \"t5-larg\", \"t5-3b\", \"t5-11b\"]:\n",
        "    prefix = \"summarize: \"\n",
        "else:\n",
        "    prefix = \"\""
      ],
      "execution_count": 22,
      "outputs": []
    },
    {
      "cell_type": "code",
      "metadata": {
        "id": "D6ZcO0VW2M98"
      },
      "source": [
        "max_input_length = 1024\n",
        "max_target_length = 128\n",
        "\n",
        "def preprocess_function(examples):\n",
        "    inputs = [prefix + doc for doc in examples[\"document\"]]\n",
        "    model_inputs = tokenizer(inputs, max_length=max_input_length, truncation=True)\n",
        "\n",
        "    # Setup the tokenizer for targets\n",
        "    with tokenizer.as_target_tokenizer():\n",
        "        labels = tokenizer(examples[\"summary\"], max_length=max_target_length, truncation=True)\n",
        "\n",
        "    model_inputs[\"labels\"] = labels[\"input_ids\"]\n",
        "    return model_inputs"
      ],
      "execution_count": 23,
      "outputs": []
    },
    {
      "cell_type": "code",
      "metadata": {
        "id": "yltvnvgE-_rR"
      },
      "source": [
        "newtraindataset = raw_datasets[\"train\"].select([i for i in range(10000)])\n",
        "newvalidationdataset = raw_datasets[\"validation\"].select([i for i in range(500)])\n",
        "newtestdataset = raw_datasets[\"test\"].select([i for i in range(500)])"
      ],
      "execution_count": 24,
      "outputs": []
    },
    {
      "cell_type": "code",
      "metadata": {
        "id": "RDl7hBHo_FDq"
      },
      "source": [
        "new_raw_dataset = datasets.dataset_dict.DatasetDict({\"train\": newtraindataset, \"validation\": newvalidationdataset, \"test\": newtestdataset})"
      ],
      "execution_count": 25,
      "outputs": []
    },
    {
      "cell_type": "code",
      "metadata": {
        "colab": {
          "base_uri": "https://localhost:8080/"
        },
        "id": "cnPt7rmw2NAq",
        "outputId": "3cf3002b-36f9-4652-8f8e-e751f357fe87"
      },
      "source": [
        "preprocess_function(new_raw_dataset['train'][:2])"
      ],
      "execution_count": 26,
      "outputs": [
        {
          "output_type": "execute_result",
          "data": {
            "text/plain": [
              "{'input_ids': [[21603, 10, 17716, 2279, 43, 5229, 128, 1410, 18, 390, 1508, 28, 5146, 12, 10256, 5, 96, 196, 31, 162, 373, 1800, 3, 18, 11, 48, 19, 28, 82, 22209, 3, 547, 30, 230, 117, 48, 19, 59, 1719, 42, 549, 8503, 3, 18, 27, 31, 26, 1066, 1492, 24, 540, 30, 2627, 1508, 16, 10256, 976, 243, 28571, 5, 37, 549, 8503, 795, 17586, 51, 12, 8, 3069, 11, 3996, 13606, 51, 639, 45, 8, 6266, 5, 18263, 10256, 11, 2390, 11, 7262, 10371, 7, 3971, 18, 17114, 28571, 1632, 549, 8503, 13404, 30, 2818, 1401, 1797, 6, 7229, 53, 20, 12151, 1955, 8356, 49, 53, 826, 3, 19585, 643, 9768, 5, 216, 19, 230, 3122, 3, 9, 2103, 1059, 12, 1175, 112, 1075, 38, 24260, 350, 16103, 10282, 7, 5752, 4297, 227, 271, 3, 11060, 30, 12, 8, 549, 8503, 1476, 16, 1600, 5, 28571, 47, 859, 8, 1374, 5638, 859, 10282, 7, 6, 411, 7, 2026, 63, 7, 6, 14586, 7677, 11, 26911, 2419, 7, 4298, 113, 130, 10960, 52, 26786, 16, 3, 9, 813, 11674, 11044, 28, 8, 549, 8503, 24, 3492, 16, 3, 9, 3996, 3328, 51, 1154, 16, 1660, 48, 215, 5, 86, 8, 7178, 13, 24, 1154, 271, 612, 6, 28571, 243, 8, 3996, 19660, 51, 225, 36, 1869, 30, 3, 5833, 750, 10256, 18, 390, 4811, 2367, 132, 5, 86, 1100, 1274, 6, 16046, 10730, 24397, 49, 2744, 31914, 17, 15, 47, 5229, 28, 7646, 12, 10256, 5, 3, 21322, 8, 1919, 1886, 31, 7, 14667, 440, 18, 17114, 4794, 16202, 7, 11, 2050, 17845, 2715, 7, 130, 92, 2633, 26, 21, 487, 5146, 5, 10256, 3763, 16700, 2776, 17, 40, 232, 65, 243, 10, 96, 1326, 43, 29, 31, 17, 16, 7, 2880, 920, 574, 28, 8, 1508, 5, 96, 11836, 62, 33, 2718, 24, 80, 42, 192, 13, 135, 33, 9805, 12, 1205, 12, 10256, 14159, 1066, 145, 865, 535, 14734, 12, 4712, 2781, 584, 30, 9938, 5061, 10256, 6, 28571, 3, 60, 18, 155, 15, 4094, 112, 3, 8389, 6, 2145, 2627, 1508, 224, 38, 14586, 7677, 423, 18, 1549, 1414, 265, 6060, 11, 411, 7, 2026, 63, 7, 24397, 49, 12446, 2262, 3791, 447, 16, 10256, 225, 240, 20799, 1433, 5, 96, 196, 17, 31, 7, 6865, 3, 9, 1643, 866, 13, 540, 784, 28843, 4275, 37, 7021, 33, 12932, 15436, 13, 24, 1696, 11, 8, 6266, 33, 3, 3131, 3996, 13606, 51, 16, 5, 96, 5231, 34, 31, 7, 3, 9, 792, 815, 13, 131, 147, 23395, 51, 11, 3, 99, 25, 320, 44, 8, 10549, 13, 21331, 24, 8, 233, 3413, 233, 43, 118, 3, 22765, 12, 281, 10055, 21, 784, 355, 908, 1516, 6201, 13, 540, 5, 96, 5231, 3, 99, 62, 130, 12, 830, 8, 1508, 223, 6, 62, 31, 26, 1077, 129, 874, 42, 1296, 1508, 5, 96, 7175, 27, 31, 162, 373, 1800, 3, 18, 11, 48, 19, 28, 82, 22209, 3, 547, 30, 230, 117, 48, 19, 59, 1719, 42, 549, 8503, 3, 18, 27, 31, 26, 1066, 1492, 24, 540, 30, 2627, 1508, 16, 10256, 5, 96, 7238, 33, 1508, 1107, 91, 13, 1696, 6, 2361, 16, 8, 416, 215, 42, 78, 233, 25, 31, 60, 479, 44, 39, 1414, 265, 6060, 31, 13, 8, 296, 117, 12446, 2262, 3791, 447, 21, 677, 3, 18, 62, 174, 12, 453, 175, 3413, 16, 10256, 5, 96, 1326, 700, 241, 135, 132, 5, 328, 33, 8, 2102, 113, 33, 352, 12, 18514, 8, 1021, 1082, 6, 21, 677, 5, 96, 10273, 33, 8, 1843, 13, 17736, 24, 69, 1021, 1082, 241, 12, 29953, 5, 96, 5231, 27, 133, 456, 326, 784, 969, 2145, 908, 28, 8, 1643, 815, 13, 540, 6, 62, 43, 12, 7365, 1508, 16, 10256, 5, 96, 17527, 6, 3, 99, 24, 54, 36, 612, 11, 132, 31, 7, 128, 8179, 3, 26413, 347, 44, 8, 414, 6, 4273, 6, 752, 31, 7, 320, 12, 830, 1508, 223, 5, 96, 11836, 34, 31, 7, 3, 9, 23958, 296, 6, 19, 29, 31, 17, 34, 58, 96, 196, 17, 31, 7, 1399, 12, 240, 8, 3, 13863, 11, 281, 6, 68, 248, 3, 99, 25, 54, 129, 135, 223, 38, 168, 6, 937, 132, 31, 7, 631, 540, 535, 2390, 11, 7262, 10371, 7, 2050, 2715, 7, 65, 16, 15777, 3, 88, 56, 217, 91, 112, 16046, 10730, 1696, 5, 216, 11, 16202, 7, 92, 2283, 19664, 8, 800, 13, 3140, 1919, 5, 2715, 7, 92, 10246, 271, 4781, 57, 2622, 16, 2379, 29494, 301, 31, 427, 23067, 15, 3, 20923, 12, 16046, 9493, 9906, 17, 325, 2360, 822, 53, 70, 9570, 5, 2969, 2715, 7, 11, 24397, 49, 31914, 17, 15, 3311, 16046, 2177, 13, 8, 2038, 11590, 774, 298, 14667, 440, 18, 17114, 16202, 7, 2301, 132, 16, 1882, 2038, 227, 271, 19664, 21, 3, 15471, 2081, 57, 1798, 1886, 2474, 5993, 5, 1], [21603, 10, 6788, 19758, 7, 2273, 130, 718, 91, 12, 1154, 28, 3, 9, 6220, 2642, 44, 8, 6036, 30, 8, 368, 3540, 986, 7, 2409, 30, 1701, 706, 5, 2409, 7, 130, 16645, 326, 11, 2117, 12355, 1054, 38, 3, 9, 6478, 16813, 47, 4006, 91, 5, 37, 12787, 6, 261, 57, 1932, 27874, 5220, 31195, 3230, 6, 43, 118, 7774, 3, 9, 381, 13, 648, 5, 1377, 1310, 6, 17602, 6417, 6032, 130, 4006, 91, 30, 8, 6036, 30, 12096, 8348, 16, 1186, 11, 932, 5, 37, 6032, 1553, 826, 3, 9, 27874, 896, 2063, 2902, 16, 1882, 1673, 18395, 53, 8, 7070, 13, 8, 7021, 5692, 44, 8, 896, 2501, 5, 1193, 1778, 29, 53, 8, 1251, 3534, 9, 226, 6, 11529, 283, 4569, 4409, 5225, 8692, 243, 10, 96, 196, 17, 19, 3, 9, 2261, 5415, 21, 8, 415, 616, 6, 34, 4110, 2261, 17879, 6, 34, 10762, 151, 31, 7, 1342, 44, 1020, 6, 34, 54, 1709, 3583, 364, 7232, 8, 616, 5, 96, 19494, 62, 174, 151, 28, 251, 12, 698, 24, 28, 8, 2095, 16, 455, 21, 135, 12, 103, 70, 613, 11, 830, 175, 151, 12, 4831, 535, 1]], 'attention_mask': [[1, 1, 1, 1, 1, 1, 1, 1, 1, 1, 1, 1, 1, 1, 1, 1, 1, 1, 1, 1, 1, 1, 1, 1, 1, 1, 1, 1, 1, 1, 1, 1, 1, 1, 1, 1, 1, 1, 1, 1, 1, 1, 1, 1, 1, 1, 1, 1, 1, 1, 1, 1, 1, 1, 1, 1, 1, 1, 1, 1, 1, 1, 1, 1, 1, 1, 1, 1, 1, 1, 1, 1, 1, 1, 1, 1, 1, 1, 1, 1, 1, 1, 1, 1, 1, 1, 1, 1, 1, 1, 1, 1, 1, 1, 1, 1, 1, 1, 1, 1, 1, 1, 1, 1, 1, 1, 1, 1, 1, 1, 1, 1, 1, 1, 1, 1, 1, 1, 1, 1, 1, 1, 1, 1, 1, 1, 1, 1, 1, 1, 1, 1, 1, 1, 1, 1, 1, 1, 1, 1, 1, 1, 1, 1, 1, 1, 1, 1, 1, 1, 1, 1, 1, 1, 1, 1, 1, 1, 1, 1, 1, 1, 1, 1, 1, 1, 1, 1, 1, 1, 1, 1, 1, 1, 1, 1, 1, 1, 1, 1, 1, 1, 1, 1, 1, 1, 1, 1, 1, 1, 1, 1, 1, 1, 1, 1, 1, 1, 1, 1, 1, 1, 1, 1, 1, 1, 1, 1, 1, 1, 1, 1, 1, 1, 1, 1, 1, 1, 1, 1, 1, 1, 1, 1, 1, 1, 1, 1, 1, 1, 1, 1, 1, 1, 1, 1, 1, 1, 1, 1, 1, 1, 1, 1, 1, 1, 1, 1, 1, 1, 1, 1, 1, 1, 1, 1, 1, 1, 1, 1, 1, 1, 1, 1, 1, 1, 1, 1, 1, 1, 1, 1, 1, 1, 1, 1, 1, 1, 1, 1, 1, 1, 1, 1, 1, 1, 1, 1, 1, 1, 1, 1, 1, 1, 1, 1, 1, 1, 1, 1, 1, 1, 1, 1, 1, 1, 1, 1, 1, 1, 1, 1, 1, 1, 1, 1, 1, 1, 1, 1, 1, 1, 1, 1, 1, 1, 1, 1, 1, 1, 1, 1, 1, 1, 1, 1, 1, 1, 1, 1, 1, 1, 1, 1, 1, 1, 1, 1, 1, 1, 1, 1, 1, 1, 1, 1, 1, 1, 1, 1, 1, 1, 1, 1, 1, 1, 1, 1, 1, 1, 1, 1, 1, 1, 1, 1, 1, 1, 1, 1, 1, 1, 1, 1, 1, 1, 1, 1, 1, 1, 1, 1, 1, 1, 1, 1, 1, 1, 1, 1, 1, 1, 1, 1, 1, 1, 1, 1, 1, 1, 1, 1, 1, 1, 1, 1, 1, 1, 1, 1, 1, 1, 1, 1, 1, 1, 1, 1, 1, 1, 1, 1, 1, 1, 1, 1, 1, 1, 1, 1, 1, 1, 1, 1, 1, 1, 1, 1, 1, 1, 1, 1, 1, 1, 1, 1, 1, 1, 1, 1, 1, 1, 1, 1, 1, 1, 1, 1, 1, 1, 1, 1, 1, 1, 1, 1, 1, 1, 1, 1, 1, 1, 1, 1, 1, 1, 1, 1, 1, 1, 1, 1, 1, 1, 1, 1, 1, 1, 1, 1, 1, 1, 1, 1, 1, 1, 1, 1, 1, 1, 1, 1, 1, 1, 1, 1, 1, 1, 1, 1, 1, 1, 1, 1, 1, 1, 1, 1, 1, 1, 1, 1, 1, 1, 1, 1, 1, 1, 1, 1, 1, 1, 1, 1, 1, 1, 1, 1, 1, 1, 1, 1, 1, 1, 1, 1, 1, 1, 1, 1, 1, 1, 1, 1, 1, 1, 1, 1, 1, 1, 1, 1, 1, 1, 1, 1, 1, 1, 1, 1, 1, 1, 1, 1, 1, 1, 1, 1, 1, 1, 1, 1, 1, 1, 1, 1, 1, 1, 1, 1, 1, 1, 1, 1, 1, 1, 1, 1, 1, 1, 1, 1, 1, 1, 1, 1, 1, 1, 1, 1, 1, 1, 1, 1, 1, 1, 1, 1, 1, 1, 1, 1, 1, 1, 1, 1, 1, 1, 1, 1, 1, 1, 1, 1, 1, 1, 1, 1, 1, 1, 1, 1, 1, 1, 1, 1, 1, 1, 1, 1, 1, 1, 1, 1, 1, 1, 1, 1, 1, 1, 1, 1, 1, 1, 1, 1, 1, 1, 1, 1, 1, 1, 1, 1, 1, 1, 1, 1, 1, 1, 1, 1, 1, 1, 1, 1, 1, 1, 1, 1, 1, 1, 1, 1, 1, 1, 1, 1, 1, 1, 1, 1, 1, 1, 1, 1, 1, 1, 1, 1, 1, 1, 1, 1, 1, 1, 1, 1, 1, 1, 1, 1, 1, 1, 1, 1, 1, 1, 1, 1, 1, 1, 1, 1, 1, 1, 1, 1, 1, 1, 1, 1, 1, 1, 1, 1, 1, 1, 1, 1, 1, 1, 1, 1, 1, 1, 1, 1, 1, 1, 1, 1, 1, 1, 1, 1, 1, 1, 1, 1, 1, 1, 1, 1, 1, 1, 1, 1, 1, 1, 1, 1, 1, 1, 1, 1, 1, 1, 1, 1, 1, 1, 1, 1, 1, 1, 1, 1, 1, 1, 1, 1, 1, 1, 1, 1], [1, 1, 1, 1, 1, 1, 1, 1, 1, 1, 1, 1, 1, 1, 1, 1, 1, 1, 1, 1, 1, 1, 1, 1, 1, 1, 1, 1, 1, 1, 1, 1, 1, 1, 1, 1, 1, 1, 1, 1, 1, 1, 1, 1, 1, 1, 1, 1, 1, 1, 1, 1, 1, 1, 1, 1, 1, 1, 1, 1, 1, 1, 1, 1, 1, 1, 1, 1, 1, 1, 1, 1, 1, 1, 1, 1, 1, 1, 1, 1, 1, 1, 1, 1, 1, 1, 1, 1, 1, 1, 1, 1, 1, 1, 1, 1, 1, 1, 1, 1, 1, 1, 1, 1, 1, 1, 1, 1, 1, 1, 1, 1, 1, 1, 1, 1, 1, 1, 1, 1, 1, 1, 1, 1, 1, 1, 1, 1, 1, 1, 1, 1, 1, 1, 1, 1, 1, 1, 1, 1, 1, 1, 1, 1, 1, 1, 1, 1, 1, 1, 1, 1, 1, 1, 1, 1, 1, 1, 1, 1, 1, 1, 1, 1, 1, 1, 1, 1, 1, 1, 1, 1, 1, 1, 1, 1, 1, 1, 1, 1, 1, 1, 1, 1, 1, 1, 1, 1, 1, 1, 1, 1, 1, 1, 1, 1, 1]], 'labels': [[368, 22982, 24895, 3545, 13404, 3121, 15, 189, 28571, 7228, 3, 9, 4494, 3996, 19660, 51, 549, 8503, 18, 18145, 7, 3069, 225, 36, 261, 12, 7365, 234, 18, 390, 3683, 224, 38, 1414, 265, 6060, 6, 59, 830, 223, 1215, 699, 26, 4811, 5, 1], [71, 21641, 2642, 646, 1067, 46, 11529, 3450, 828, 16, 5727, 27874, 65, 118, 10126, 3, 9, 3534, 9, 226, 5, 1]]}"
            ]
          },
          "metadata": {
            "tags": []
          },
          "execution_count": 26
        }
      ]
    },
    {
      "cell_type": "code",
      "metadata": {
        "colab": {
          "base_uri": "https://localhost:8080/"
        },
        "id": "W1W2ihR-_o4j",
        "outputId": "0b7a2909-9571-4ae6-c6bb-192164afc45b"
      },
      "source": [
        "raw_datasets"
      ],
      "execution_count": 27,
      "outputs": [
        {
          "output_type": "execute_result",
          "data": {
            "text/plain": [
              "DatasetDict({\n",
              "    train: Dataset({\n",
              "        features: ['document', 'summary', 'id'],\n",
              "        num_rows: 204045\n",
              "    })\n",
              "    validation: Dataset({\n",
              "        features: ['document', 'summary', 'id'],\n",
              "        num_rows: 11332\n",
              "    })\n",
              "    test: Dataset({\n",
              "        features: ['document', 'summary', 'id'],\n",
              "        num_rows: 11334\n",
              "    })\n",
              "})"
            ]
          },
          "metadata": {
            "tags": []
          },
          "execution_count": 27
        }
      ]
    },
    {
      "cell_type": "code",
      "metadata": {
        "colab": {
          "base_uri": "https://localhost:8080/"
        },
        "id": "B2aC-7nz_rd2",
        "outputId": "98722d5c-fd40-410c-e635-0b8e3566a843"
      },
      "source": [
        "new_raw_dataset"
      ],
      "execution_count": 28,
      "outputs": [
        {
          "output_type": "execute_result",
          "data": {
            "text/plain": [
              "DatasetDict({\n",
              "    train: Dataset({\n",
              "        features: ['document', 'summary', 'id'],\n",
              "        num_rows: 10000\n",
              "    })\n",
              "    validation: Dataset({\n",
              "        features: ['document', 'summary', 'id'],\n",
              "        num_rows: 500\n",
              "    })\n",
              "    test: Dataset({\n",
              "        features: ['document', 'summary', 'id'],\n",
              "        num_rows: 500\n",
              "    })\n",
              "})"
            ]
          },
          "metadata": {
            "tags": []
          },
          "execution_count": 28
        }
      ]
    },
    {
      "cell_type": "code",
      "metadata": {
        "colab": {
          "base_uri": "https://localhost:8080/",
          "height": 162,
          "referenced_widgets": [
            "4d5fe3c7da094cc881bcc7db2dbf679b",
            "c47a1042bc234bf0a473e46daf0e2c37",
            "52938f2fa6ce4b7c8ef5cce0d43715f2",
            "b028396d7f3c4f50a233a590ddbcab4d",
            "b6c1c2a97b7a4ced90989f7f1490cf35",
            "6015c3caeb0b4dd993b68b6fe2c98089",
            "6f7ead70bebd4ba8b4e5022cbe512ed3",
            "b0df7c6549564460b6a3820042b3f544",
            "75ac9e6796314a268d94f1ae0b09a535",
            "6d4909eac6294a8596c8c8a8bbecc20b",
            "b0ccfe9f6b614859a45470dc96a30ff7",
            "8d80ad5204a5467c83dc235dd11d8969",
            "7616febc8d9e41f6a3db75b68071045b",
            "29374958a56140958f9e29f80c81c8a4",
            "544e69556d2346dabc855ed24b9c9ef0",
            "368031345ec34a5e97d37d53b61d839d",
            "2c6a85702c414657a01393b213295611",
            "1498e1cad33d47e8884f3e8ae717ef17",
            "45a6eeda2aa641c894d3e3da0f98a36b",
            "4d5b6dfba20c4a36a8c9f7ad6f96c8b6",
            "7796134016a0423aac2518694ad80779",
            "c8373b24ae5e4e25b57a7e0ff810d95c",
            "b74610b1337f4a9b93c3aa83982366ff",
            "9706069efb0f4c7e9237fce433640b94"
          ]
        },
        "id": "47I8MXeJO4yO",
        "outputId": "7af136fa-1329-4f95-80d0-02a4fd7d184c"
      },
      "source": [
        "tokenized_datasets = new_raw_dataset.map(preprocess_function, batched=True)"
      ],
      "execution_count": 29,
      "outputs": [
        {
          "output_type": "display_data",
          "data": {
            "application/vnd.jupyter.widget-view+json": {
              "model_id": "4d5fe3c7da094cc881bcc7db2dbf679b",
              "version_minor": 0,
              "version_major": 2
            },
            "text/plain": [
              "HBox(children=(FloatProgress(value=0.0, max=10.0), HTML(value='')))"
            ]
          },
          "metadata": {
            "tags": []
          }
        },
        {
          "output_type": "stream",
          "text": [
            "\n"
          ],
          "name": "stdout"
        },
        {
          "output_type": "display_data",
          "data": {
            "application/vnd.jupyter.widget-view+json": {
              "model_id": "75ac9e6796314a268d94f1ae0b09a535",
              "version_minor": 0,
              "version_major": 2
            },
            "text/plain": [
              "HBox(children=(FloatProgress(value=0.0, max=1.0), HTML(value='')))"
            ]
          },
          "metadata": {
            "tags": []
          }
        },
        {
          "output_type": "stream",
          "text": [
            "\n"
          ],
          "name": "stdout"
        },
        {
          "output_type": "display_data",
          "data": {
            "application/vnd.jupyter.widget-view+json": {
              "model_id": "2c6a85702c414657a01393b213295611",
              "version_minor": 0,
              "version_major": 2
            },
            "text/plain": [
              "HBox(children=(FloatProgress(value=0.0, max=1.0), HTML(value='')))"
            ]
          },
          "metadata": {
            "tags": []
          }
        },
        {
          "output_type": "stream",
          "text": [
            "\n"
          ],
          "name": "stdout"
        }
      ]
    },
    {
      "cell_type": "markdown",
      "metadata": {
        "id": "WXO8dnsc5j2J"
      },
      "source": [
        "# TToo large of dataset, reduce size for checking\n",
        "* Training will have 1000 samples and testing 50 samples"
      ]
    },
    {
      "cell_type": "code",
      "metadata": {
        "colab": {
          "base_uri": "https://localhost:8080/"
        },
        "id": "fjtlwNWgzb_L",
        "outputId": "2c339ba2-d55e-4f72-f3a1-ac038ac9986e"
      },
      "source": [
        "tokenized_datasets"
      ],
      "execution_count": 30,
      "outputs": [
        {
          "output_type": "execute_result",
          "data": {
            "text/plain": [
              "DatasetDict({\n",
              "    train: Dataset({\n",
              "        features: ['attention_mask', 'document', 'id', 'input_ids', 'labels', 'summary'],\n",
              "        num_rows: 10000\n",
              "    })\n",
              "    validation: Dataset({\n",
              "        features: ['attention_mask', 'document', 'id', 'input_ids', 'labels', 'summary'],\n",
              "        num_rows: 500\n",
              "    })\n",
              "    test: Dataset({\n",
              "        features: ['attention_mask', 'document', 'id', 'input_ids', 'labels', 'summary'],\n",
              "        num_rows: 500\n",
              "    })\n",
              "})"
            ]
          },
          "metadata": {
            "tags": []
          },
          "execution_count": 30
        }
      ]
    },
    {
      "cell_type": "code",
      "metadata": {
        "id": "8Z-oVooY2iJ3"
      },
      "source": [
        "validation_dataset = tokenized_datasets[\"validation\"]"
      ],
      "execution_count": null,
      "outputs": []
    },
    {
      "cell_type": "code",
      "metadata": {
        "id": "hKViQoNy4dqw"
      },
      "source": [
        "mylst = [i for i in range(1000)]"
      ],
      "execution_count": null,
      "outputs": []
    },
    {
      "cell_type": "code",
      "metadata": {
        "id": "Mb7QHR_A2yHZ"
      },
      "source": [
        "mylst = [i for i in range(1000)]\n",
        "mydataset = validation_dataset.select(mylst)"
      ],
      "execution_count": null,
      "outputs": []
    },
    {
      "cell_type": "code",
      "metadata": {
        "id": "7o6G9Th54yxt"
      },
      "source": [
        "newtraindataset = tokenized_datasets[\"train\"].select([i for i in range(1000)])\n",
        "newvalidationdataset = tokenized_datasets[\"validation\"].select([i for i in range(50)])\n",
        "newtestdataset = tokenized_datasets[\"test\"].select([i for i in range(50)])"
      ],
      "execution_count": null,
      "outputs": []
    },
    {
      "cell_type": "code",
      "metadata": {
        "id": "S-4Cl8BK5ONI"
      },
      "source": [
        "new_tokenized_datasets = {\"train\": newtraindataset, \"validation\": newvalidationdataset, \"test\": newtestdataset}"
      ],
      "execution_count": null,
      "outputs": []
    },
    {
      "cell_type": "code",
      "metadata": {
        "colab": {
          "base_uri": "https://localhost:8080/"
        },
        "id": "KaIYC0qt5fHn",
        "outputId": "aa4f4e6f-17e3-4094-bd34-539ceb8755e0"
      },
      "source": [
        "new_tokenized_datasets"
      ],
      "execution_count": null,
      "outputs": [
        {
          "output_type": "execute_result",
          "data": {
            "text/plain": [
              "{'test': Dataset({\n",
              "     features: ['attention_mask', 'document', 'id', 'input_ids', 'labels', 'summary'],\n",
              "     num_rows: 30\n",
              " }), 'train': Dataset({\n",
              "     features: ['attention_mask', 'document', 'id', 'input_ids', 'labels', 'summary'],\n",
              "     num_rows: 200\n",
              " }), 'validation': Dataset({\n",
              "     features: ['attention_mask', 'document', 'id', 'input_ids', 'labels', 'summary'],\n",
              "     num_rows: 30\n",
              " })}"
            ]
          },
          "metadata": {
            "tags": []
          },
          "execution_count": 73
        }
      ]
    },
    {
      "cell_type": "code",
      "metadata": {
        "colab": {
          "base_uri": "https://localhost:8080/"
        },
        "id": "lAYw_TFczEO7",
        "outputId": "5ebb5adb-5c4c-4764-c2ad-e07bb8fcdd23"
      },
      "source": [
        "for i in range(4):\n",
        "  print(\"Number of tokens in summary label, input big para and attention mask are : {}, {}, {}\".format(len(tokenized_datasets[\"train\"][i][\"labels\"]), len(tokenized_datasets[\"train\"][i][\"input_ids\"]), len(tokenized_datasets[\"train\"][i][\"attention_mask\"])))\n",
        "\n"
      ],
      "execution_count": null,
      "outputs": [
        {
          "output_type": "stream",
          "text": [
            "Number of tokens in summary label, input big para and attention mask are : 46, 816, 816\n",
            "Number of tokens in summary label, input big para and attention mask are : 22, 197, 197\n",
            "Number of tokens in summary label, input big para and attention mask are : 24, 680, 680\n",
            "Number of tokens in summary label, input big para and attention mask are : 19, 167, 167\n"
          ],
          "name": "stdout"
        }
      ]
    },
    {
      "cell_type": "markdown",
      "metadata": {
        "id": "h0KGg8TP5yO5"
      },
      "source": [
        "# Model Training"
      ]
    },
    {
      "cell_type": "code",
      "metadata": {
        "colab": {
          "base_uri": "https://localhost:8080/",
          "height": 65,
          "referenced_widgets": [
            "eb5d7f4032164aaa9da84fe43441e0ba",
            "eb1cc8f4e3274d66b8c5a1b6b87e0d69",
            "254eaded6a554eeba79300383b2c7969",
            "21423e8263e9434baf753d7f9a762d57",
            "bb56d6726dd74adda89be32b7bf774d4",
            "78c625ed5f6b4fb2a86b8ec8997ab129",
            "71e538aa13724e90be299a99b28b84e0",
            "a34536a05d684e07bb9dda615c99f4c0"
          ]
        },
        "id": "qE3WN14I2NHD",
        "outputId": "482c996a-db53-4795-e2c7-efddc08f4ae0"
      },
      "source": [
        "from transformers import AutoModelForSeq2SeqLM, DataCollatorForSeq2Seq, Seq2SeqTrainingArguments, Seq2SeqTrainer\n",
        "\n",
        "model = AutoModelForSeq2SeqLM.from_pretrained(model_checkpoint)"
      ],
      "execution_count": 31,
      "outputs": [
        {
          "output_type": "display_data",
          "data": {
            "application/vnd.jupyter.widget-view+json": {
              "model_id": "eb5d7f4032164aaa9da84fe43441e0ba",
              "version_minor": 0,
              "version_major": 2
            },
            "text/plain": [
              "HBox(children=(FloatProgress(value=0.0, description='Downloading', max=242065649.0, style=ProgressStyle(descri…"
            ]
          },
          "metadata": {
            "tags": []
          }
        },
        {
          "output_type": "stream",
          "text": [
            "\n"
          ],
          "name": "stdout"
        }
      ]
    },
    {
      "cell_type": "code",
      "metadata": {
        "id": "ZrTuS8hG-TVO"
      },
      "source": [
        "data_collator = DataCollatorForSeq2Seq(tokenizer, model=model)"
      ],
      "execution_count": 34,
      "outputs": []
    },
    {
      "cell_type": "code",
      "metadata": {
        "id": "doPGWfj6-TYz"
      },
      "source": [
        "import nltk\n",
        "import numpy as np\n",
        "\n",
        "def compute_metrics(eval_pred):\n",
        "    predictions, labels = eval_pred\n",
        "    decoded_preds = tokenizer.batch_decode(predictions, skip_special_tokens=True)\n",
        "    # Replace -100 in the labels as we can't decode them.\n",
        "    labels = np.where(labels != -100, labels, tokenizer.pad_token_id)\n",
        "    decoded_labels = tokenizer.batch_decode(labels, skip_special_tokens=True)\n",
        "    \n",
        "    # Rouge expects a newline after each sentence\n",
        "    decoded_preds = [\"\\n\".join(nltk.sent_tokenize(pred.strip())) for pred in decoded_preds]\n",
        "    decoded_labels = [\"\\n\".join(nltk.sent_tokenize(label.strip())) for label in decoded_labels]\n",
        "    \n",
        "    result = metric.compute(predictions=decoded_preds, references=decoded_labels, use_stemmer=True)\n",
        "    # Extract a few results\n",
        "    result = {key: value.mid.fmeasure * 100 for key, value in result.items()}\n",
        "    \n",
        "    # Add mean generated length\n",
        "    prediction_lens = [np.count_nonzero(pred != tokenizer.pad_token_id) for pred in predictions]\n",
        "    result[\"gen_len\"] = np.mean(prediction_lens)\n",
        "    \n",
        "    return {k: round(v, 4) for k, v in result.items()}"
      ],
      "execution_count": 35,
      "outputs": []
    },
    {
      "cell_type": "markdown",
      "metadata": {
        "id": "CsuDiYwQ8K3s"
      },
      "source": [
        "# Without Deepspeed\n",
        "\n",
        "12 seconds per epoch for batch size of 16"
      ]
    },
    {
      "cell_type": "code",
      "metadata": {
        "id": "4RPqfIvdP8SF"
      },
      "source": [
        "batch_size = 16\n",
        "args = Seq2SeqTrainingArguments(\n",
        "    \"test-summarization\",\n",
        "    evaluation_strategy = \"epoch\",\n",
        "    learning_rate=2e-5,\n",
        "    per_device_train_batch_size=batch_size,\n",
        "    per_device_eval_batch_size=batch_size,\n",
        "    weight_decay=0.01,\n",
        "    save_total_limit=3,\n",
        "    num_train_epochs=1,\n",
        "    predict_with_generate=True,\n",
        "    fp16=True,\n",
        ")"
      ],
      "execution_count": null,
      "outputs": []
    },
    {
      "cell_type": "code",
      "metadata": {
        "id": "1pkE348P-Tci"
      },
      "source": [
        "\n",
        "trainer = Seq2SeqTrainer(\n",
        "    model,\n",
        "    args,\n",
        "    train_dataset=new_tokenized_datasets[\"train\"],\n",
        "    eval_dataset=new_tokenized_datasets[\"validation\"],\n",
        "    data_collator=data_collator,\n",
        "    tokenizer=tokenizer,\n",
        "    compute_metrics=compute_metrics\n",
        ")\n"
      ],
      "execution_count": null,
      "outputs": []
    },
    {
      "cell_type": "code",
      "metadata": {
        "id": "GAr7I6hhxv9T"
      },
      "source": [
        ""
      ],
      "execution_count": null,
      "outputs": []
    },
    {
      "cell_type": "markdown",
      "metadata": {
        "id": "WmCj8ywwya4y"
      },
      "source": [
        "Works well with batch sizes less than 16 , tried for 2, 8, 16. As batch size increases then it might not work in single GPU\n",
        "\n",
        "* Speed of 1 second per epoch for 16 batch run"
      ]
    },
    {
      "cell_type": "code",
      "metadata": {
        "colab": {
          "base_uri": "https://localhost:8080/",
          "height": 721
        },
        "id": "mAhx0Ydt-TgS",
        "outputId": "6942cf22-a52e-47a5-ee43-2e8a66fce06d"
      },
      "source": [
        "import time\n",
        "start = time.time()\n",
        "trainer.train()\n",
        "stop = time.time()\n",
        "print(f\"Training time: {stop - start}s\")"
      ],
      "execution_count": null,
      "outputs": [
        {
          "output_type": "display_data",
          "data": {
            "text/html": [
              "\n",
              "    <div>\n",
              "        <style>\n",
              "            /* Turns off some styling */\n",
              "            progress {\n",
              "                /* gets rid of default border in Firefox and Opera. */\n",
              "                border: none;\n",
              "                /* Needs to be in here for Safari polyfill so background images work as expected. */\n",
              "                background-size: auto;\n",
              "            }\n",
              "        </style>\n",
              "      \n",
              "      <progress value='14' max='13' style='width:300px; height:20px; vertical-align: middle;'></progress>\n",
              "      [13/13 00:12, Epoch 1/1]\n",
              "    </div>\n",
              "    <table border=\"1\" class=\"dataframe\">\n",
              "  <thead>\n",
              "    <tr style=\"text-align: left;\">\n",
              "      <th>Epoch</th>\n",
              "      <th>Training Loss</th>\n",
              "      <th>Validation Loss</th>\n",
              "    </tr>\n",
              "  </thead>\n",
              "  <tbody>\n",
              "  </tbody>\n",
              "</table><p>\n",
              "    <div>\n",
              "        <style>\n",
              "            /* Turns off some styling */\n",
              "            progress {\n",
              "                /* gets rid of default border in Firefox and Opera. */\n",
              "                border: none;\n",
              "                /* Needs to be in here for Safari polyfill so background images work as expected. */\n",
              "                background-size: auto;\n",
              "            }\n",
              "        </style>\n",
              "      \n",
              "      <progress value='2' max='2' style='width:300px; height:20px; vertical-align: middle;'></progress>\n",
              "      [2/2 00:01]\n",
              "    </div>\n",
              "    "
            ],
            "text/plain": [
              "<IPython.core.display.HTML object>"
            ]
          },
          "metadata": {
            "tags": []
          }
        },
        {
          "output_type": "error",
          "ename": "LookupError",
          "evalue": "ignored",
          "traceback": [
            "\u001b[0;31m---------------------------------------------------------------------------\u001b[0m",
            "\u001b[0;31mLookupError\u001b[0m                               Traceback (most recent call last)",
            "\u001b[0;32m<ipython-input-87-de541fb63a89>\u001b[0m in \u001b[0;36m<module>\u001b[0;34m()\u001b[0m\n\u001b[1;32m      1\u001b[0m \u001b[0;32mimport\u001b[0m \u001b[0mtime\u001b[0m\u001b[0;34m\u001b[0m\u001b[0;34m\u001b[0m\u001b[0m\n\u001b[1;32m      2\u001b[0m \u001b[0mstart\u001b[0m \u001b[0;34m=\u001b[0m \u001b[0mtime\u001b[0m\u001b[0;34m.\u001b[0m\u001b[0mtime\u001b[0m\u001b[0;34m(\u001b[0m\u001b[0;34m)\u001b[0m\u001b[0;34m\u001b[0m\u001b[0;34m\u001b[0m\u001b[0m\n\u001b[0;32m----> 3\u001b[0;31m \u001b[0mtrainer\u001b[0m\u001b[0;34m.\u001b[0m\u001b[0mtrain\u001b[0m\u001b[0;34m(\u001b[0m\u001b[0;34m)\u001b[0m\u001b[0;34m\u001b[0m\u001b[0;34m\u001b[0m\u001b[0m\n\u001b[0m\u001b[1;32m      4\u001b[0m \u001b[0mstop\u001b[0m \u001b[0;34m=\u001b[0m \u001b[0mtime\u001b[0m\u001b[0;34m.\u001b[0m\u001b[0mtime\u001b[0m\u001b[0;34m(\u001b[0m\u001b[0;34m)\u001b[0m\u001b[0;34m\u001b[0m\u001b[0;34m\u001b[0m\u001b[0m\n\u001b[1;32m      5\u001b[0m \u001b[0mprint\u001b[0m\u001b[0;34m(\u001b[0m\u001b[0;34mf\"Training time: {stop - start}s\"\u001b[0m\u001b[0;34m)\u001b[0m\u001b[0;34m\u001b[0m\u001b[0;34m\u001b[0m\u001b[0m\n",
            "\u001b[0;32m/usr/local/lib/python3.7/dist-packages/transformers/trainer.py\u001b[0m in \u001b[0;36mtrain\u001b[0;34m(self, resume_from_checkpoint, trial, **kwargs)\u001b[0m\n\u001b[1;32m   1176\u001b[0m \u001b[0;34m\u001b[0m\u001b[0m\n\u001b[1;32m   1177\u001b[0m             \u001b[0mself\u001b[0m\u001b[0;34m.\u001b[0m\u001b[0mcontrol\u001b[0m \u001b[0;34m=\u001b[0m \u001b[0mself\u001b[0m\u001b[0;34m.\u001b[0m\u001b[0mcallback_handler\u001b[0m\u001b[0;34m.\u001b[0m\u001b[0mon_epoch_end\u001b[0m\u001b[0;34m(\u001b[0m\u001b[0mself\u001b[0m\u001b[0;34m.\u001b[0m\u001b[0margs\u001b[0m\u001b[0;34m,\u001b[0m \u001b[0mself\u001b[0m\u001b[0;34m.\u001b[0m\u001b[0mstate\u001b[0m\u001b[0;34m,\u001b[0m \u001b[0mself\u001b[0m\u001b[0;34m.\u001b[0m\u001b[0mcontrol\u001b[0m\u001b[0;34m)\u001b[0m\u001b[0;34m\u001b[0m\u001b[0;34m\u001b[0m\u001b[0m\n\u001b[0;32m-> 1178\u001b[0;31m             \u001b[0mself\u001b[0m\u001b[0;34m.\u001b[0m\u001b[0m_maybe_log_save_evaluate\u001b[0m\u001b[0;34m(\u001b[0m\u001b[0mtr_loss\u001b[0m\u001b[0;34m,\u001b[0m \u001b[0mmodel\u001b[0m\u001b[0;34m,\u001b[0m \u001b[0mtrial\u001b[0m\u001b[0;34m,\u001b[0m \u001b[0mepoch\u001b[0m\u001b[0;34m)\u001b[0m\u001b[0;34m\u001b[0m\u001b[0;34m\u001b[0m\u001b[0m\n\u001b[0m\u001b[1;32m   1179\u001b[0m \u001b[0;34m\u001b[0m\u001b[0m\n\u001b[1;32m   1180\u001b[0m             \u001b[0;32mif\u001b[0m \u001b[0mself\u001b[0m\u001b[0;34m.\u001b[0m\u001b[0margs\u001b[0m\u001b[0;34m.\u001b[0m\u001b[0mtpu_metrics_debug\u001b[0m \u001b[0;32mor\u001b[0m \u001b[0mself\u001b[0m\u001b[0;34m.\u001b[0m\u001b[0margs\u001b[0m\u001b[0;34m.\u001b[0m\u001b[0mdebug\u001b[0m\u001b[0;34m:\u001b[0m\u001b[0;34m\u001b[0m\u001b[0;34m\u001b[0m\u001b[0m\n",
            "\u001b[0;32m/usr/local/lib/python3.7/dist-packages/transformers/trainer.py\u001b[0m in \u001b[0;36m_maybe_log_save_evaluate\u001b[0;34m(self, tr_loss, model, trial, epoch)\u001b[0m\n\u001b[1;32m   1263\u001b[0m         \u001b[0mmetrics\u001b[0m \u001b[0;34m=\u001b[0m \u001b[0;32mNone\u001b[0m\u001b[0;34m\u001b[0m\u001b[0;34m\u001b[0m\u001b[0m\n\u001b[1;32m   1264\u001b[0m         \u001b[0;32mif\u001b[0m \u001b[0mself\u001b[0m\u001b[0;34m.\u001b[0m\u001b[0mcontrol\u001b[0m\u001b[0;34m.\u001b[0m\u001b[0mshould_evaluate\u001b[0m\u001b[0;34m:\u001b[0m\u001b[0;34m\u001b[0m\u001b[0;34m\u001b[0m\u001b[0m\n\u001b[0;32m-> 1265\u001b[0;31m             \u001b[0mmetrics\u001b[0m \u001b[0;34m=\u001b[0m \u001b[0mself\u001b[0m\u001b[0;34m.\u001b[0m\u001b[0mevaluate\u001b[0m\u001b[0;34m(\u001b[0m\u001b[0;34m)\u001b[0m\u001b[0;34m\u001b[0m\u001b[0;34m\u001b[0m\u001b[0m\n\u001b[0m\u001b[1;32m   1266\u001b[0m             \u001b[0mself\u001b[0m\u001b[0;34m.\u001b[0m\u001b[0m_report_to_hp_search\u001b[0m\u001b[0;34m(\u001b[0m\u001b[0mtrial\u001b[0m\u001b[0;34m,\u001b[0m \u001b[0mepoch\u001b[0m\u001b[0;34m,\u001b[0m \u001b[0mmetrics\u001b[0m\u001b[0;34m)\u001b[0m\u001b[0;34m\u001b[0m\u001b[0;34m\u001b[0m\u001b[0m\n\u001b[1;32m   1267\u001b[0m \u001b[0;34m\u001b[0m\u001b[0m\n",
            "\u001b[0;32m/usr/local/lib/python3.7/dist-packages/transformers/trainer_seq2seq.py\u001b[0m in \u001b[0;36mevaluate\u001b[0;34m(self, eval_dataset, ignore_keys, metric_key_prefix, max_length, num_beams)\u001b[0m\n\u001b[1;32m     72\u001b[0m         \u001b[0mself\u001b[0m\u001b[0;34m.\u001b[0m\u001b[0m_max_length\u001b[0m \u001b[0;34m=\u001b[0m \u001b[0mmax_length\u001b[0m\u001b[0;34m\u001b[0m\u001b[0;34m\u001b[0m\u001b[0m\n\u001b[1;32m     73\u001b[0m         \u001b[0mself\u001b[0m\u001b[0;34m.\u001b[0m\u001b[0m_num_beams\u001b[0m \u001b[0;34m=\u001b[0m \u001b[0mnum_beams\u001b[0m\u001b[0;34m\u001b[0m\u001b[0;34m\u001b[0m\u001b[0m\n\u001b[0;32m---> 74\u001b[0;31m         \u001b[0;32mreturn\u001b[0m \u001b[0msuper\u001b[0m\u001b[0;34m(\u001b[0m\u001b[0;34m)\u001b[0m\u001b[0;34m.\u001b[0m\u001b[0mevaluate\u001b[0m\u001b[0;34m(\u001b[0m\u001b[0meval_dataset\u001b[0m\u001b[0;34m,\u001b[0m \u001b[0mignore_keys\u001b[0m\u001b[0;34m=\u001b[0m\u001b[0mignore_keys\u001b[0m\u001b[0;34m,\u001b[0m \u001b[0mmetric_key_prefix\u001b[0m\u001b[0;34m=\u001b[0m\u001b[0mmetric_key_prefix\u001b[0m\u001b[0;34m)\u001b[0m\u001b[0;34m\u001b[0m\u001b[0;34m\u001b[0m\u001b[0m\n\u001b[0m\u001b[1;32m     75\u001b[0m \u001b[0;34m\u001b[0m\u001b[0m\n\u001b[1;32m     76\u001b[0m     def predict(\n",
            "\u001b[0;32m/usr/local/lib/python3.7/dist-packages/transformers/trainer.py\u001b[0m in \u001b[0;36mevaluate\u001b[0;34m(self, eval_dataset, ignore_keys, metric_key_prefix)\u001b[0m\n\u001b[1;32m   1762\u001b[0m             \u001b[0mprediction_loss_only\u001b[0m\u001b[0;34m=\u001b[0m\u001b[0;32mTrue\u001b[0m \u001b[0;32mif\u001b[0m \u001b[0mself\u001b[0m\u001b[0;34m.\u001b[0m\u001b[0mcompute_metrics\u001b[0m \u001b[0;32mis\u001b[0m \u001b[0;32mNone\u001b[0m \u001b[0;32melse\u001b[0m \u001b[0;32mNone\u001b[0m\u001b[0;34m,\u001b[0m\u001b[0;34m\u001b[0m\u001b[0;34m\u001b[0m\u001b[0m\n\u001b[1;32m   1763\u001b[0m             \u001b[0mignore_keys\u001b[0m\u001b[0;34m=\u001b[0m\u001b[0mignore_keys\u001b[0m\u001b[0;34m,\u001b[0m\u001b[0;34m\u001b[0m\u001b[0;34m\u001b[0m\u001b[0m\n\u001b[0;32m-> 1764\u001b[0;31m             \u001b[0mmetric_key_prefix\u001b[0m\u001b[0;34m=\u001b[0m\u001b[0mmetric_key_prefix\u001b[0m\u001b[0;34m,\u001b[0m\u001b[0;34m\u001b[0m\u001b[0;34m\u001b[0m\u001b[0m\n\u001b[0m\u001b[1;32m   1765\u001b[0m         )\n\u001b[1;32m   1766\u001b[0m \u001b[0;34m\u001b[0m\u001b[0m\n",
            "\u001b[0;32m/usr/local/lib/python3.7/dist-packages/transformers/trainer.py\u001b[0m in \u001b[0;36mprediction_loop\u001b[0;34m(self, dataloader, description, prediction_loss_only, ignore_keys, metric_key_prefix)\u001b[0m\n\u001b[1;32m   1928\u001b[0m \u001b[0;34m\u001b[0m\u001b[0m\n\u001b[1;32m   1929\u001b[0m         \u001b[0;32mif\u001b[0m \u001b[0mself\u001b[0m\u001b[0;34m.\u001b[0m\u001b[0mcompute_metrics\u001b[0m \u001b[0;32mis\u001b[0m \u001b[0;32mnot\u001b[0m \u001b[0;32mNone\u001b[0m \u001b[0;32mand\u001b[0m \u001b[0mpreds\u001b[0m \u001b[0;32mis\u001b[0m \u001b[0;32mnot\u001b[0m \u001b[0;32mNone\u001b[0m \u001b[0;32mand\u001b[0m \u001b[0mlabel_ids\u001b[0m \u001b[0;32mis\u001b[0m \u001b[0;32mnot\u001b[0m \u001b[0;32mNone\u001b[0m\u001b[0;34m:\u001b[0m\u001b[0;34m\u001b[0m\u001b[0;34m\u001b[0m\u001b[0m\n\u001b[0;32m-> 1930\u001b[0;31m             \u001b[0mmetrics\u001b[0m \u001b[0;34m=\u001b[0m \u001b[0mself\u001b[0m\u001b[0;34m.\u001b[0m\u001b[0mcompute_metrics\u001b[0m\u001b[0;34m(\u001b[0m\u001b[0mEvalPrediction\u001b[0m\u001b[0;34m(\u001b[0m\u001b[0mpredictions\u001b[0m\u001b[0;34m=\u001b[0m\u001b[0mpreds\u001b[0m\u001b[0;34m,\u001b[0m \u001b[0mlabel_ids\u001b[0m\u001b[0;34m=\u001b[0m\u001b[0mlabel_ids\u001b[0m\u001b[0;34m)\u001b[0m\u001b[0;34m)\u001b[0m\u001b[0;34m\u001b[0m\u001b[0;34m\u001b[0m\u001b[0m\n\u001b[0m\u001b[1;32m   1931\u001b[0m         \u001b[0;32melse\u001b[0m\u001b[0;34m:\u001b[0m\u001b[0;34m\u001b[0m\u001b[0;34m\u001b[0m\u001b[0m\n\u001b[1;32m   1932\u001b[0m             \u001b[0mmetrics\u001b[0m \u001b[0;34m=\u001b[0m \u001b[0;34m{\u001b[0m\u001b[0;34m}\u001b[0m\u001b[0;34m\u001b[0m\u001b[0;34m\u001b[0m\u001b[0m\n",
            "\u001b[0;32m<ipython-input-85-af1ccd418730>\u001b[0m in \u001b[0;36mcompute_metrics\u001b[0;34m(eval_pred)\u001b[0m\n\u001b[1;32m     10\u001b[0m \u001b[0;34m\u001b[0m\u001b[0m\n\u001b[1;32m     11\u001b[0m     \u001b[0;31m# Rouge expects a newline after each sentence\u001b[0m\u001b[0;34m\u001b[0m\u001b[0;34m\u001b[0m\u001b[0;34m\u001b[0m\u001b[0m\n\u001b[0;32m---> 12\u001b[0;31m     \u001b[0mdecoded_preds\u001b[0m \u001b[0;34m=\u001b[0m \u001b[0;34m[\u001b[0m\u001b[0;34m\"\\n\"\u001b[0m\u001b[0;34m.\u001b[0m\u001b[0mjoin\u001b[0m\u001b[0;34m(\u001b[0m\u001b[0mnltk\u001b[0m\u001b[0;34m.\u001b[0m\u001b[0msent_tokenize\u001b[0m\u001b[0;34m(\u001b[0m\u001b[0mpred\u001b[0m\u001b[0;34m.\u001b[0m\u001b[0mstrip\u001b[0m\u001b[0;34m(\u001b[0m\u001b[0;34m)\u001b[0m\u001b[0;34m)\u001b[0m\u001b[0;34m)\u001b[0m \u001b[0;32mfor\u001b[0m \u001b[0mpred\u001b[0m \u001b[0;32min\u001b[0m \u001b[0mdecoded_preds\u001b[0m\u001b[0;34m]\u001b[0m\u001b[0;34m\u001b[0m\u001b[0;34m\u001b[0m\u001b[0m\n\u001b[0m\u001b[1;32m     13\u001b[0m     \u001b[0mdecoded_labels\u001b[0m \u001b[0;34m=\u001b[0m \u001b[0;34m[\u001b[0m\u001b[0;34m\"\\n\"\u001b[0m\u001b[0;34m.\u001b[0m\u001b[0mjoin\u001b[0m\u001b[0;34m(\u001b[0m\u001b[0mnltk\u001b[0m\u001b[0;34m.\u001b[0m\u001b[0msent_tokenize\u001b[0m\u001b[0;34m(\u001b[0m\u001b[0mlabel\u001b[0m\u001b[0;34m.\u001b[0m\u001b[0mstrip\u001b[0m\u001b[0;34m(\u001b[0m\u001b[0;34m)\u001b[0m\u001b[0;34m)\u001b[0m\u001b[0;34m)\u001b[0m \u001b[0;32mfor\u001b[0m \u001b[0mlabel\u001b[0m \u001b[0;32min\u001b[0m \u001b[0mdecoded_labels\u001b[0m\u001b[0;34m]\u001b[0m\u001b[0;34m\u001b[0m\u001b[0;34m\u001b[0m\u001b[0m\n\u001b[1;32m     14\u001b[0m \u001b[0;34m\u001b[0m\u001b[0m\n",
            "\u001b[0;32m<ipython-input-85-af1ccd418730>\u001b[0m in \u001b[0;36m<listcomp>\u001b[0;34m(.0)\u001b[0m\n\u001b[1;32m     10\u001b[0m \u001b[0;34m\u001b[0m\u001b[0m\n\u001b[1;32m     11\u001b[0m     \u001b[0;31m# Rouge expects a newline after each sentence\u001b[0m\u001b[0;34m\u001b[0m\u001b[0;34m\u001b[0m\u001b[0;34m\u001b[0m\u001b[0m\n\u001b[0;32m---> 12\u001b[0;31m     \u001b[0mdecoded_preds\u001b[0m \u001b[0;34m=\u001b[0m \u001b[0;34m[\u001b[0m\u001b[0;34m\"\\n\"\u001b[0m\u001b[0;34m.\u001b[0m\u001b[0mjoin\u001b[0m\u001b[0;34m(\u001b[0m\u001b[0mnltk\u001b[0m\u001b[0;34m.\u001b[0m\u001b[0msent_tokenize\u001b[0m\u001b[0;34m(\u001b[0m\u001b[0mpred\u001b[0m\u001b[0;34m.\u001b[0m\u001b[0mstrip\u001b[0m\u001b[0;34m(\u001b[0m\u001b[0;34m)\u001b[0m\u001b[0;34m)\u001b[0m\u001b[0;34m)\u001b[0m \u001b[0;32mfor\u001b[0m \u001b[0mpred\u001b[0m \u001b[0;32min\u001b[0m \u001b[0mdecoded_preds\u001b[0m\u001b[0;34m]\u001b[0m\u001b[0;34m\u001b[0m\u001b[0;34m\u001b[0m\u001b[0m\n\u001b[0m\u001b[1;32m     13\u001b[0m     \u001b[0mdecoded_labels\u001b[0m \u001b[0;34m=\u001b[0m \u001b[0;34m[\u001b[0m\u001b[0;34m\"\\n\"\u001b[0m\u001b[0;34m.\u001b[0m\u001b[0mjoin\u001b[0m\u001b[0;34m(\u001b[0m\u001b[0mnltk\u001b[0m\u001b[0;34m.\u001b[0m\u001b[0msent_tokenize\u001b[0m\u001b[0;34m(\u001b[0m\u001b[0mlabel\u001b[0m\u001b[0;34m.\u001b[0m\u001b[0mstrip\u001b[0m\u001b[0;34m(\u001b[0m\u001b[0;34m)\u001b[0m\u001b[0;34m)\u001b[0m\u001b[0;34m)\u001b[0m \u001b[0;32mfor\u001b[0m \u001b[0mlabel\u001b[0m \u001b[0;32min\u001b[0m \u001b[0mdecoded_labels\u001b[0m\u001b[0;34m]\u001b[0m\u001b[0;34m\u001b[0m\u001b[0;34m\u001b[0m\u001b[0m\n\u001b[1;32m     14\u001b[0m \u001b[0;34m\u001b[0m\u001b[0m\n",
            "\u001b[0;32m/usr/local/lib/python3.7/dist-packages/nltk/tokenize/__init__.py\u001b[0m in \u001b[0;36msent_tokenize\u001b[0;34m(text, language)\u001b[0m\n\u001b[1;32m     92\u001b[0m     \u001b[0;34m:\u001b[0m\u001b[0mparam\u001b[0m \u001b[0mlanguage\u001b[0m\u001b[0;34m:\u001b[0m \u001b[0mthe\u001b[0m \u001b[0mmodel\u001b[0m \u001b[0mname\u001b[0m \u001b[0;32min\u001b[0m \u001b[0mthe\u001b[0m \u001b[0mPunkt\u001b[0m \u001b[0mcorpus\u001b[0m\u001b[0;34m\u001b[0m\u001b[0;34m\u001b[0m\u001b[0m\n\u001b[1;32m     93\u001b[0m     \"\"\"\n\u001b[0;32m---> 94\u001b[0;31m     \u001b[0mtokenizer\u001b[0m \u001b[0;34m=\u001b[0m \u001b[0mload\u001b[0m\u001b[0;34m(\u001b[0m\u001b[0;34m'tokenizers/punkt/{0}.pickle'\u001b[0m\u001b[0;34m.\u001b[0m\u001b[0mformat\u001b[0m\u001b[0;34m(\u001b[0m\u001b[0mlanguage\u001b[0m\u001b[0;34m)\u001b[0m\u001b[0;34m)\u001b[0m\u001b[0;34m\u001b[0m\u001b[0;34m\u001b[0m\u001b[0m\n\u001b[0m\u001b[1;32m     95\u001b[0m     \u001b[0;32mreturn\u001b[0m \u001b[0mtokenizer\u001b[0m\u001b[0;34m.\u001b[0m\u001b[0mtokenize\u001b[0m\u001b[0;34m(\u001b[0m\u001b[0mtext\u001b[0m\u001b[0;34m)\u001b[0m\u001b[0;34m\u001b[0m\u001b[0;34m\u001b[0m\u001b[0m\n\u001b[1;32m     96\u001b[0m \u001b[0;34m\u001b[0m\u001b[0m\n",
            "\u001b[0;32m/usr/local/lib/python3.7/dist-packages/nltk/data.py\u001b[0m in \u001b[0;36mload\u001b[0;34m(resource_url, format, cache, verbose, logic_parser, fstruct_reader, encoding)\u001b[0m\n\u001b[1;32m    832\u001b[0m \u001b[0;34m\u001b[0m\u001b[0m\n\u001b[1;32m    833\u001b[0m     \u001b[0;31m# Load the resource.\u001b[0m\u001b[0;34m\u001b[0m\u001b[0;34m\u001b[0m\u001b[0;34m\u001b[0m\u001b[0m\n\u001b[0;32m--> 834\u001b[0;31m     \u001b[0mopened_resource\u001b[0m \u001b[0;34m=\u001b[0m \u001b[0m_open\u001b[0m\u001b[0;34m(\u001b[0m\u001b[0mresource_url\u001b[0m\u001b[0;34m)\u001b[0m\u001b[0;34m\u001b[0m\u001b[0;34m\u001b[0m\u001b[0m\n\u001b[0m\u001b[1;32m    835\u001b[0m \u001b[0;34m\u001b[0m\u001b[0m\n\u001b[1;32m    836\u001b[0m     \u001b[0;32mif\u001b[0m \u001b[0mformat\u001b[0m \u001b[0;34m==\u001b[0m \u001b[0;34m'raw'\u001b[0m\u001b[0;34m:\u001b[0m\u001b[0;34m\u001b[0m\u001b[0;34m\u001b[0m\u001b[0m\n",
            "\u001b[0;32m/usr/local/lib/python3.7/dist-packages/nltk/data.py\u001b[0m in \u001b[0;36m_open\u001b[0;34m(resource_url)\u001b[0m\n\u001b[1;32m    950\u001b[0m \u001b[0;34m\u001b[0m\u001b[0m\n\u001b[1;32m    951\u001b[0m     \u001b[0;32mif\u001b[0m \u001b[0mprotocol\u001b[0m \u001b[0;32mis\u001b[0m \u001b[0;32mNone\u001b[0m \u001b[0;32mor\u001b[0m \u001b[0mprotocol\u001b[0m\u001b[0;34m.\u001b[0m\u001b[0mlower\u001b[0m\u001b[0;34m(\u001b[0m\u001b[0;34m)\u001b[0m \u001b[0;34m==\u001b[0m \u001b[0;34m'nltk'\u001b[0m\u001b[0;34m:\u001b[0m\u001b[0;34m\u001b[0m\u001b[0;34m\u001b[0m\u001b[0m\n\u001b[0;32m--> 952\u001b[0;31m         \u001b[0;32mreturn\u001b[0m \u001b[0mfind\u001b[0m\u001b[0;34m(\u001b[0m\u001b[0mpath_\u001b[0m\u001b[0;34m,\u001b[0m \u001b[0mpath\u001b[0m \u001b[0;34m+\u001b[0m \u001b[0;34m[\u001b[0m\u001b[0;34m''\u001b[0m\u001b[0;34m]\u001b[0m\u001b[0;34m)\u001b[0m\u001b[0;34m.\u001b[0m\u001b[0mopen\u001b[0m\u001b[0;34m(\u001b[0m\u001b[0;34m)\u001b[0m\u001b[0;34m\u001b[0m\u001b[0;34m\u001b[0m\u001b[0m\n\u001b[0m\u001b[1;32m    953\u001b[0m     \u001b[0;32melif\u001b[0m \u001b[0mprotocol\u001b[0m\u001b[0;34m.\u001b[0m\u001b[0mlower\u001b[0m\u001b[0;34m(\u001b[0m\u001b[0;34m)\u001b[0m \u001b[0;34m==\u001b[0m \u001b[0;34m'file'\u001b[0m\u001b[0;34m:\u001b[0m\u001b[0;34m\u001b[0m\u001b[0;34m\u001b[0m\u001b[0m\n\u001b[1;32m    954\u001b[0m         \u001b[0;31m# urllib might not use mode='rb', so handle this one ourselves:\u001b[0m\u001b[0;34m\u001b[0m\u001b[0;34m\u001b[0m\u001b[0;34m\u001b[0m\u001b[0m\n",
            "\u001b[0;32m/usr/local/lib/python3.7/dist-packages/nltk/data.py\u001b[0m in \u001b[0;36mfind\u001b[0;34m(resource_name, paths)\u001b[0m\n\u001b[1;32m    671\u001b[0m     \u001b[0msep\u001b[0m \u001b[0;34m=\u001b[0m \u001b[0;34m'*'\u001b[0m \u001b[0;34m*\u001b[0m \u001b[0;36m70\u001b[0m\u001b[0;34m\u001b[0m\u001b[0;34m\u001b[0m\u001b[0m\n\u001b[1;32m    672\u001b[0m     \u001b[0mresource_not_found\u001b[0m \u001b[0;34m=\u001b[0m \u001b[0;34m'\\n%s\\n%s\\n%s\\n'\u001b[0m \u001b[0;34m%\u001b[0m \u001b[0;34m(\u001b[0m\u001b[0msep\u001b[0m\u001b[0;34m,\u001b[0m \u001b[0mmsg\u001b[0m\u001b[0;34m,\u001b[0m \u001b[0msep\u001b[0m\u001b[0;34m)\u001b[0m\u001b[0;34m\u001b[0m\u001b[0;34m\u001b[0m\u001b[0m\n\u001b[0;32m--> 673\u001b[0;31m     \u001b[0;32mraise\u001b[0m \u001b[0mLookupError\u001b[0m\u001b[0;34m(\u001b[0m\u001b[0mresource_not_found\u001b[0m\u001b[0;34m)\u001b[0m\u001b[0;34m\u001b[0m\u001b[0;34m\u001b[0m\u001b[0m\n\u001b[0m\u001b[1;32m    674\u001b[0m \u001b[0;34m\u001b[0m\u001b[0m\n\u001b[1;32m    675\u001b[0m \u001b[0;34m\u001b[0m\u001b[0m\n",
            "\u001b[0;31mLookupError\u001b[0m: \n**********************************************************************\n  Resource \u001b[93mpunkt\u001b[0m not found.\n  Please use the NLTK Downloader to obtain the resource:\n\n  \u001b[31m>>> import nltk\n  >>> nltk.download('punkt')\n  \u001b[0m\n  Searched in:\n    - '/root/nltk_data'\n    - '/usr/share/nltk_data'\n    - '/usr/local/share/nltk_data'\n    - '/usr/lib/nltk_data'\n    - '/usr/local/lib/nltk_data'\n    - '/usr/nltk_data'\n    - '/usr/lib/nltk_data'\n    - ''\n**********************************************************************\n"
          ]
        }
      ]
    },
    {
      "cell_type": "markdown",
      "metadata": {
        "id": "PPYe7NT07gZD"
      },
      "source": [
        "Checking GPU Memory"
      ]
    },
    {
      "cell_type": "code",
      "metadata": {
        "colab": {
          "base_uri": "https://localhost:8080/"
        },
        "id": "gPeqVZjf7fay",
        "outputId": "7ec3212b-7ee0-4214-f6ce-2062e0560432"
      },
      "source": [
        "import nvidia_smi\n",
        "\n",
        "nvidia_smi.nvmlInit()\n",
        "\n",
        "handle = nvidia_smi.nvmlDeviceGetHandleByIndex(0)\n",
        "# card id 0 hardcoded here, there is also a call to get all available card ids, so we could iterate\n",
        "\n",
        "info = nvidia_smi.nvmlDeviceGetMemoryInfo(handle)\n",
        "\n",
        "print(\"Total memory:\", info.total)\n",
        "print(\"Free memory:\", info.free)\n",
        "print(\"Used memory:\", info.used)"
      ],
      "execution_count": null,
      "outputs": [
        {
          "output_type": "stream",
          "text": [
            "Total memory: 17071734784\n",
            "Free memory: 98304000\n",
            "Used memory: 16973430784\n"
          ],
          "name": "stdout"
        }
      ]
    },
    {
      "cell_type": "markdown",
      "metadata": {
        "id": "KUc_9mUy8TXU"
      },
      "source": [
        "# With Deepspeed"
      ]
    },
    {
      "cell_type": "code",
      "metadata": {
        "id": "FOvsr89j_Lg6"
      },
      "source": [
        "deep_speed_config = {\n",
        "    \"fp16\": {\n",
        "        \"enabled\": True,\n",
        "        \"loss_scale\": 0,\n",
        "        \"loss_scale_window\": 1000,\n",
        "        \"hysteresis\": 2,\n",
        "        \"min_loss_scale\": 1\n",
        "    },\n",
        "\n",
        "   \"zero_optimization\": {\n",
        "       \"stage\": 2,\n",
        "       \"allgather_partitions\": True,\n",
        "       \"allgather_bucket_size\": 5e8,\n",
        "       \"overlap_comm\": True,\n",
        "       \"reduce_scatter\": True,\n",
        "       \"reduce_bucket_size\": 5e8,\n",
        "       \"contiguous_gradients\": True,\n",
        "       \"cpu_offload\": True\n",
        "   },\n",
        "\n",
        "   \"optimizer\": {\n",
        "     \"type\": \"AdamW\",\n",
        "     \"params\": {\n",
        "       \"lr\": 2e-5,\n",
        "       \"betas\": [ 0.8, 0.999 ],\n",
        "       \"eps\": 1e-8,\n",
        "       \"weight_decay\": 3e-7\n",
        "     }\n",
        "   },\n",
        "\n",
        "   \"scheduler\": {\n",
        "     \"type\": \"WarmupLR\",\n",
        "     \"params\": {\n",
        "       \"warmup_min_lr\": 0,\n",
        "       \"warmup_max_lr\": 3e-5,\n",
        "       \"warmup_num_steps\": 500\n",
        "     }\n",
        "   }\n",
        "}"
      ],
      "execution_count": 32,
      "outputs": []
    },
    {
      "cell_type": "code",
      "metadata": {
        "id": "5vK64F6jF75Z"
      },
      "source": [
        "batch_size = 4\n",
        "args = Seq2SeqTrainingArguments(\n",
        "    \"test-summarization\",\n",
        "    evaluation_strategy = \"epoch\",\n",
        "    #learning_rate=2e-5,\n",
        "    #weight_decay=0.001,\n",
        "    per_device_train_batch_size=batch_size,\n",
        "    per_device_eval_batch_size=batch_size,\n",
        "    save_total_limit=3,\n",
        "    num_train_epochs=1,\n",
        "    predict_with_generate=True,\n",
        "    deepspeed = deep_speed_config \n",
        ")"
      ],
      "execution_count": 36,
      "outputs": []
    },
    {
      "cell_type": "code",
      "metadata": {
        "id": "0JblvFTo2NM8"
      },
      "source": [
        "trainer = Seq2SeqTrainer(\n",
        "    model,\n",
        "    args,\n",
        "    train_dataset=tokenized_datasets[\"train\"],\n",
        "    eval_dataset=tokenized_datasets[\"validation\"],\n",
        "    data_collator=data_collator,\n",
        "    tokenizer=tokenizer,\n",
        "    compute_metrics=compute_metrics,\n",
        ")\n"
      ],
      "execution_count": 37,
      "outputs": []
    },
    {
      "cell_type": "markdown",
      "metadata": {
        "id": "tQrXJAG1QX0c"
      },
      "source": [
        ""
      ]
    },
    {
      "cell_type": "code",
      "metadata": {
        "colab": {
          "base_uri": "https://localhost:8080/",
          "height": 1000
        },
        "id": "3RbFflieL9DK",
        "outputId": "b5c7fc8b-dbe6-4b3d-eb06-87edad192a6f"
      },
      "source": [
        "import time\n",
        "start = time.time()\n",
        "trainer.train()\n",
        "stop = time.time()\n",
        "print(f\"Training time: {stop - start}s\")"
      ],
      "execution_count": 38,
      "outputs": [
        {
          "output_type": "stream",
          "text": [
            "[2021-04-28 20:52:14,012] [INFO] [logging.py:60:log_dist] [Rank 0] DeepSpeed info: version=0.3.15, git-hash=unknown, git-branch=unknown\n",
            "[2021-04-28 20:52:14,017] [WARNING] [config.py:78:_sanity_check] DeepSpeedConfig: cpu_offload is deprecated. Please use offload_optimizer.\n",
            "[2021-04-28 20:52:14,038] [INFO] [engine.py:80:_initialize_parameter_parallel_groups] data_parallel_size: 1, parameter_parallel_size: 1\n",
            "Using /root/.cache/torch_extensions as PyTorch extensions root...\n",
            "Creating extension directory /root/.cache/torch_extensions/cpu_adam...\n",
            "Detected CUDA files, patching ldflags\n",
            "Emitting ninja build file /root/.cache/torch_extensions/cpu_adam/build.ninja...\n",
            "Building extension module cpu_adam...\n",
            "Allowing ninja to set a default number of workers... (overridable by setting the environment variable MAX_JOBS=N)\n",
            "Loading extension module cpu_adam...\n",
            "Time to load cpu_adam op: 39.62820243835449 seconds\n",
            "[2021-04-28 20:52:55,786] [INFO] [engine.py:615:_configure_optimizer] Using DeepSpeed Optimizer param name adamw as basic optimizer\n",
            "[2021-04-28 20:52:55,789] [INFO] [engine.py:619:_configure_optimizer] DeepSpeed Basic Optimizer = DeepSpeedCPUAdam\n",
            "Checking ZeRO support for optimizer=DeepSpeedCPUAdam type=<class 'deepspeed.ops.adam.cpu_adam.DeepSpeedCPUAdam'>\n",
            "[2021-04-28 20:52:55,795] [INFO] [logging.py:60:log_dist] [Rank 0] Creating fp16 ZeRO stage 2 optimizer\n",
            "[2021-04-28 20:52:55,797] [INFO] [stage2.py:101:__init__] Reduce bucket size 500000000.0\n",
            "[2021-04-28 20:52:55,798] [INFO] [stage2.py:102:__init__] Allgather bucket size 500000000.0\n",
            "[2021-04-28 20:52:55,800] [INFO] [stage2.py:103:__init__] CPU Offload: True\n",
            "Using /root/.cache/torch_extensions as PyTorch extensions root...\n",
            "Creating extension directory /root/.cache/torch_extensions/utils...\n",
            "Emitting ninja build file /root/.cache/torch_extensions/utils/build.ninja...\n",
            "Building extension module utils...\n",
            "Allowing ninja to set a default number of workers... (overridable by setting the environment variable MAX_JOBS=N)\n",
            "Loading extension module utils...\n",
            "Time to load utils op: 19.374720335006714 seconds\n",
            "[2021-04-28 20:53:16,260] [INFO] [stage2.py:375:__init__] optimizer state initialized\n",
            "[2021-04-28 20:53:16,267] [INFO] [logging.py:60:log_dist] [Rank 0] DeepSpeed Final Optimizer = adamw\n",
            "[2021-04-28 20:53:16,268] [INFO] [engine.py:451:_configure_lr_scheduler] DeepSpeed using configured LR scheduler = WarmupLR\n",
            "[2021-04-28 20:53:16,271] [INFO] [logging.py:60:log_dist] [Rank 0] DeepSpeed LR Scheduler = <deepspeed.runtime.lr_schedules.WarmupLR object at 0x7fa693f704d0>\n",
            "[2021-04-28 20:53:16,275] [INFO] [logging.py:60:log_dist] [Rank 0] step=0, skipped=0, lr=[5e-05], mom=[[0.9, 0.999]]\n",
            "[2021-04-28 20:53:16,279] [INFO] [config.py:741:print] DeepSpeedEngine configuration:\n",
            "[2021-04-28 20:53:16,281] [INFO] [config.py:745:print]   activation_checkpointing_config  {\n",
            "    \"partition_activations\": false, \n",
            "    \"contiguous_memory_optimization\": false, \n",
            "    \"cpu_checkpointing\": false, \n",
            "    \"number_checkpoints\": null, \n",
            "    \"synchronize_checkpoint_boundary\": false, \n",
            "    \"profile\": false\n",
            "}\n",
            "[2021-04-28 20:53:16,284] [INFO] [config.py:745:print]   aio_config ................... {'block_size': 1048576, 'queue_depth': 8, 'thread_count': 1, 'single_submit': False, 'overlap_events': True}\n",
            "[2021-04-28 20:53:16,285] [INFO] [config.py:745:print]   allreduce_always_fp32 ........ False\n",
            "[2021-04-28 20:53:16,287] [INFO] [config.py:745:print]   amp_enabled .................. False\n",
            "[2021-04-28 20:53:16,288] [INFO] [config.py:745:print]   amp_params ................... False\n",
            "[2021-04-28 20:53:16,290] [INFO] [config.py:745:print]   checkpoint_tag_validation_enabled  True\n",
            "[2021-04-28 20:53:16,291] [INFO] [config.py:745:print]   checkpoint_tag_validation_fail  False\n",
            "[2021-04-28 20:53:16,297] [INFO] [config.py:745:print]   disable_allgather ............ False\n",
            "[2021-04-28 20:53:16,300] [INFO] [config.py:745:print]   dump_state ................... False\n",
            "[2021-04-28 20:53:16,303] [INFO] [config.py:745:print]   dynamic_loss_scale_args ...... {'init_scale': 4294967296, 'scale_window': 1000, 'delayed_shift': 2, 'min_scale': 1}\n",
            "[2021-04-28 20:53:16,304] [INFO] [config.py:745:print]   elasticity_enabled ........... False\n",
            "[2021-04-28 20:53:16,305] [INFO] [config.py:745:print]   flops_profiler_config ........ {\n",
            "    \"enabled\": false, \n",
            "    \"profile_step\": 1, \n",
            "    \"module_depth\": -1, \n",
            "    \"top_modules\": 3, \n",
            "    \"detailed\": true\n",
            "}\n",
            "[2021-04-28 20:53:16,306] [INFO] [config.py:745:print]   fp16_enabled ................. True\n",
            "[2021-04-28 20:53:16,312] [INFO] [config.py:745:print]   global_rank .................. 0\n",
            "[2021-04-28 20:53:16,317] [INFO] [config.py:745:print]   gradient_accumulation_steps .. 1\n",
            "[2021-04-28 20:53:16,319] [INFO] [config.py:745:print]   gradient_clipping ............ 1.0\n",
            "[2021-04-28 20:53:16,321] [INFO] [config.py:745:print]   gradient_predivide_factor .... 1.0\n",
            "[2021-04-28 20:53:16,324] [INFO] [config.py:745:print]   initial_dynamic_scale ........ 4294967296\n",
            "[2021-04-28 20:53:16,327] [INFO] [config.py:745:print]   loss_scale ................... 0\n",
            "[2021-04-28 20:53:16,328] [INFO] [config.py:745:print]   memory_breakdown ............. False\n",
            "[2021-04-28 20:53:16,330] [INFO] [config.py:745:print]   optimizer_legacy_fusion ...... False\n",
            "[2021-04-28 20:53:16,332] [INFO] [config.py:745:print]   optimizer_name ............... adamw\n",
            "[2021-04-28 20:53:16,335] [INFO] [config.py:745:print]   optimizer_params ............. {'lr': 5e-05, 'betas': [0.9, 0.999], 'eps': 1e-08, 'weight_decay': 0.0}\n",
            "[2021-04-28 20:53:16,336] [INFO] [config.py:745:print]   pipeline ..................... {'stages': 'auto', 'partition': 'best', 'seed_layers': False, 'activation_checkpoint_interval': 0}\n",
            "[2021-04-28 20:53:16,338] [INFO] [config.py:745:print]   pld_enabled .................. False\n",
            "[2021-04-28 20:53:16,341] [INFO] [config.py:745:print]   pld_params ................... False\n",
            "[2021-04-28 20:53:16,342] [INFO] [config.py:745:print]   prescale_gradients ........... False\n",
            "[2021-04-28 20:53:16,344] [INFO] [config.py:745:print]   scheduler_name ............... WarmupLR\n",
            "[2021-04-28 20:53:16,346] [INFO] [config.py:745:print]   scheduler_params ............. {'warmup_min_lr': 0, 'warmup_max_lr': 5e-05, 'warmup_num_steps': 0}\n",
            "[2021-04-28 20:53:16,348] [INFO] [config.py:745:print]   sparse_attention ............. None\n",
            "[2021-04-28 20:53:16,349] [INFO] [config.py:745:print]   sparse_gradients_enabled ..... False\n",
            "[2021-04-28 20:53:16,352] [INFO] [config.py:745:print]   steps_per_print .............. 10\n",
            "[2021-04-28 20:53:16,353] [INFO] [config.py:745:print]   tensorboard_enabled .......... False\n",
            "[2021-04-28 20:53:16,356] [INFO] [config.py:745:print]   tensorboard_job_name ......... DeepSpeedJobName\n",
            "[2021-04-28 20:53:16,357] [INFO] [config.py:745:print]   tensorboard_output_path ...... \n",
            "[2021-04-28 20:53:16,359] [INFO] [config.py:745:print]   train_batch_size ............. 4\n",
            "[2021-04-28 20:53:16,363] [INFO] [config.py:745:print]   train_micro_batch_size_per_gpu  4\n",
            "[2021-04-28 20:53:16,364] [INFO] [config.py:745:print]   wall_clock_breakdown ......... False\n",
            "[2021-04-28 20:53:16,366] [INFO] [config.py:745:print]   world_size ................... 1\n",
            "[2021-04-28 20:53:16,368] [INFO] [config.py:745:print]   zero_allow_untested_optimizer  False\n",
            "[2021-04-28 20:53:16,370] [INFO] [config.py:745:print]   zero_config .................. {\n",
            "    \"stage\": 2, \n",
            "    \"contiguous_gradients\": true, \n",
            "    \"reduce_scatter\": true, \n",
            "    \"reduce_bucket_size\": 5.000000e+08, \n",
            "    \"allgather_partitions\": true, \n",
            "    \"allgather_bucket_size\": 5.000000e+08, \n",
            "    \"overlap_comm\": true, \n",
            "    \"load_from_fp32_weights\": true, \n",
            "    \"elastic_checkpoint\": true, \n",
            "    \"offload_param\": null, \n",
            "    \"offload_optimizer\": {\n",
            "        \"device\": \"cpu\", \n",
            "        \"nvme_path\": null, \n",
            "        \"buffer_count\": 4, \n",
            "        \"pin_memory\": false, \n",
            "        \"pipeline_read\": false, \n",
            "        \"pipeline_write\": false, \n",
            "        \"fast_init\": false\n",
            "    }, \n",
            "    \"sub_group_size\": 1.000000e+12, \n",
            "    \"prefetch_bucket_size\": 5.000000e+07, \n",
            "    \"param_persistence_threshold\": 1.000000e+05, \n",
            "    \"max_live_parameters\": 1.000000e+09, \n",
            "    \"max_reuse_distance\": 1.000000e+09, \n",
            "    \"gather_fp16_weights_on_model_save\": false\n",
            "}\n",
            "[2021-04-28 20:53:16,373] [INFO] [config.py:745:print]   zero_enabled ................. True\n",
            "[2021-04-28 20:53:16,375] [INFO] [config.py:745:print]   zero_optimization_stage ...... 2\n",
            "[2021-04-28 20:53:16,377] [INFO] [config.py:752:print]   json = {\n",
            "    \"fp16\": {\n",
            "        \"enabled\": true, \n",
            "        \"loss_scale\": 0, \n",
            "        \"loss_scale_window\": 1000, \n",
            "        \"hysteresis\": 2, \n",
            "        \"min_loss_scale\": 1\n",
            "    }, \n",
            "    \"zero_optimization\": {\n",
            "        \"stage\": 2, \n",
            "        \"allgather_partitions\": true, \n",
            "        \"allgather_bucket_size\": 5.000000e+08, \n",
            "        \"overlap_comm\": true, \n",
            "        \"reduce_scatter\": true, \n",
            "        \"reduce_bucket_size\": 5.000000e+08, \n",
            "        \"contiguous_gradients\": true, \n",
            "        \"cpu_offload\": true\n",
            "    }, \n",
            "    \"optimizer\": {\n",
            "        \"type\": \"AdamW\", \n",
            "        \"params\": {\n",
            "            \"lr\": 5e-05, \n",
            "            \"betas\": [0.9, 0.999], \n",
            "            \"eps\": 1e-08, \n",
            "            \"weight_decay\": 0.0\n",
            "        }\n",
            "    }, \n",
            "    \"scheduler\": {\n",
            "        \"type\": \"WarmupLR\", \n",
            "        \"params\": {\n",
            "            \"warmup_min_lr\": 0, \n",
            "            \"warmup_max_lr\": 5e-05, \n",
            "            \"warmup_num_steps\": 0\n",
            "        }\n",
            "    }, \n",
            "    \"train_micro_batch_size_per_gpu\": 4, \n",
            "    \"gradient_accumulation_steps\": 1, \n",
            "    \"gradient_clipping\": 1.0\n",
            "}\n",
            "Using /root/.cache/torch_extensions as PyTorch extensions root...\n",
            "No modifications detected for re-loaded extension module utils, skipping build step...\n",
            "Loading extension module utils...\n",
            "Time to load utils op: 0.0007884502410888672 seconds\n",
            "[2021-04-28 20:53:17,038] [INFO] [stage2.py:1392:step] [deepspeed] fp16 dynamic loss scale overflow! Rank 0 Skipping step. Attempted loss scale: 4294967296, reducing to 4294967296\n"
          ],
          "name": "stdout"
        },
        {
          "output_type": "display_data",
          "data": {
            "text/html": [
              "\n",
              "    <div>\n",
              "        <style>\n",
              "            /* Turns off some styling */\n",
              "            progress {\n",
              "                /* gets rid of default border in Firefox and Opera. */\n",
              "                border: none;\n",
              "                /* Needs to be in here for Safari polyfill so background images work as expected. */\n",
              "                background-size: auto;\n",
              "            }\n",
              "        </style>\n",
              "      \n",
              "      <progress value='2500' max='2500' style='width:300px; height:20px; vertical-align: middle;'></progress>\n",
              "      [2500/2500 22:25, Epoch 1/1]\n",
              "    </div>\n",
              "    <table border=\"1\" class=\"dataframe\">\n",
              "  <thead>\n",
              "    <tr style=\"text-align: left;\">\n",
              "      <th>Epoch</th>\n",
              "      <th>Training Loss</th>\n",
              "      <th>Validation Loss</th>\n",
              "      <th>Rouge1</th>\n",
              "      <th>Rouge2</th>\n",
              "      <th>Rougel</th>\n",
              "      <th>Rougelsum</th>\n",
              "      <th>Gen Len</th>\n",
              "      <th>Runtime</th>\n",
              "      <th>Samples Per Second</th>\n",
              "    </tr>\n",
              "  </thead>\n",
              "  <tbody>\n",
              "    <tr>\n",
              "      <td>1</td>\n",
              "      <td>2.815400</td>\n",
              "      <td>2.556641</td>\n",
              "      <td>27.273200</td>\n",
              "      <td>6.632000</td>\n",
              "      <td>21.206900</td>\n",
              "      <td>21.184500</td>\n",
              "      <td>18.772000</td>\n",
              "      <td>93.027500</td>\n",
              "      <td>5.375000</td>\n",
              "    </tr>\n",
              "  </tbody>\n",
              "</table><p>"
            ],
            "text/plain": [
              "<IPython.core.display.HTML object>"
            ]
          },
          "metadata": {
            "tags": []
          }
        },
        {
          "output_type": "stream",
          "text": [
            "[2021-04-28 20:53:17,324] [INFO] [stage2.py:1392:step] [deepspeed] fp16 dynamic loss scale overflow! Rank 0 Skipping step. Attempted loss scale: 4294967296, reducing to 2147483648.0\n",
            "[2021-04-28 20:53:17,791] [INFO] [stage2.py:1392:step] [deepspeed] fp16 dynamic loss scale overflow! Rank 0 Skipping step. Attempted loss scale: 2147483648.0, reducing to 1073741824.0\n",
            "[2021-04-28 20:53:18,179] [INFO] [stage2.py:1392:step] [deepspeed] fp16 dynamic loss scale overflow! Rank 0 Skipping step. Attempted loss scale: 1073741824.0, reducing to 536870912.0\n",
            "[2021-04-28 20:53:18,439] [INFO] [stage2.py:1392:step] [deepspeed] fp16 dynamic loss scale overflow! Rank 0 Skipping step. Attempted loss scale: 536870912.0, reducing to 268435456.0\n",
            "[2021-04-28 20:53:18,837] [INFO] [stage2.py:1392:step] [deepspeed] fp16 dynamic loss scale overflow! Rank 0 Skipping step. Attempted loss scale: 268435456.0, reducing to 134217728.0\n",
            "[2021-04-28 20:53:19,118] [INFO] [stage2.py:1392:step] [deepspeed] fp16 dynamic loss scale overflow! Rank 0 Skipping step. Attempted loss scale: 134217728.0, reducing to 67108864.0\n",
            "[2021-04-28 20:53:19,500] [INFO] [stage2.py:1392:step] [deepspeed] fp16 dynamic loss scale overflow! Rank 0 Skipping step. Attempted loss scale: 67108864.0, reducing to 33554432.0\n",
            "[2021-04-28 20:53:19,803] [INFO] [stage2.py:1392:step] [deepspeed] fp16 dynamic loss scale overflow! Rank 0 Skipping step. Attempted loss scale: 33554432.0, reducing to 16777216.0\n",
            "[2021-04-28 20:53:20,212] [INFO] [stage2.py:1392:step] [deepspeed] fp16 dynamic loss scale overflow! Rank 0 Skipping step. Attempted loss scale: 16777216.0, reducing to 8388608.0\n",
            "[2021-04-28 20:53:20,214] [INFO] [logging.py:60:log_dist] [Rank 0] step=10, skipped=10, lr=[5e-05], mom=[[0.9, 0.999]]\n",
            "[2021-04-28 20:53:20,217] [INFO] [timer.py:157:stop] 0/10, SamplesPerSec=11.505488773386297\n",
            "[2021-04-28 20:53:20,599] [INFO] [stage2.py:1392:step] [deepspeed] fp16 dynamic loss scale overflow! Rank 0 Skipping step. Attempted loss scale: 8388608.0, reducing to 4194304.0\n",
            "[2021-04-28 20:53:20,986] [INFO] [stage2.py:1392:step] [deepspeed] fp16 dynamic loss scale overflow! Rank 0 Skipping step. Attempted loss scale: 4194304.0, reducing to 2097152.0\n",
            "[2021-04-28 20:53:21,367] [INFO] [stage2.py:1392:step] [deepspeed] fp16 dynamic loss scale overflow! Rank 0 Skipping step. Attempted loss scale: 2097152.0, reducing to 1048576.0\n",
            "[2021-04-28 20:53:21,738] [INFO] [stage2.py:1392:step] [deepspeed] fp16 dynamic loss scale overflow! Rank 0 Skipping step. Attempted loss scale: 1048576.0, reducing to 524288.0\n",
            "[2021-04-28 20:53:22,135] [INFO] [stage2.py:1392:step] [deepspeed] fp16 dynamic loss scale overflow! Rank 0 Skipping step. Attempted loss scale: 524288.0, reducing to 262144.0\n",
            "[2021-04-28 20:53:22,474] [INFO] [stage2.py:1392:step] [deepspeed] fp16 dynamic loss scale overflow! Rank 0 Skipping step. Attempted loss scale: 262144.0, reducing to 131072.0\n",
            "[2021-04-28 20:53:22,847] [INFO] [stage2.py:1392:step] [deepspeed] fp16 dynamic loss scale overflow! Rank 0 Skipping step. Attempted loss scale: 131072.0, reducing to 65536.0\n",
            "[2021-04-28 20:53:23,219] [INFO] [stage2.py:1392:step] [deepspeed] fp16 dynamic loss scale overflow! Rank 0 Skipping step. Attempted loss scale: 65536.0, reducing to 32768.0\n",
            "[2021-04-28 20:53:23,600] [INFO] [stage2.py:1392:step] [deepspeed] fp16 dynamic loss scale overflow! Rank 0 Skipping step. Attempted loss scale: 32768.0, reducing to 16384.0\n",
            "[2021-04-28 20:53:24,152] [INFO] [logging.py:60:log_dist] [Rank 0] step=20, skipped=19, lr=[0.0], mom=[[0.9, 0.999]]\n",
            "[2021-04-28 20:53:24,154] [INFO] [timer.py:157:stop] 0/20, SamplesPerSec=10.9311769959794\n",
            "[2021-04-28 20:53:28,791] [INFO] [logging.py:60:log_dist] [Rank 0] step=30, skipped=19, lr=[5e-05], mom=[[0.9, 0.999]]\n",
            "[2021-04-28 20:53:28,797] [INFO] [timer.py:157:stop] 0/30, SamplesPerSec=10.077934341394116\n",
            "[2021-04-28 20:53:33,755] [INFO] [logging.py:60:log_dist] [Rank 0] step=40, skipped=19, lr=[5e-05], mom=[[0.9, 0.999]]\n",
            "[2021-04-28 20:53:33,756] [INFO] [timer.py:157:stop] 0/40, SamplesPerSec=9.525907471809049\n",
            "[2021-04-28 20:53:38,819] [INFO] [logging.py:60:log_dist] [Rank 0] step=50, skipped=19, lr=[5e-05], mom=[[0.9, 0.999]]\n",
            "[2021-04-28 20:53:38,820] [INFO] [timer.py:157:stop] 0/50, SamplesPerSec=9.18869379477456\n",
            "[2021-04-28 20:53:43,381] [INFO] [logging.py:60:log_dist] [Rank 0] step=60, skipped=19, lr=[5e-05], mom=[[0.9, 0.999]]\n",
            "[2021-04-28 20:53:43,382] [INFO] [timer.py:157:stop] 0/60, SamplesPerSec=9.154419202174997\n",
            "[2021-04-28 20:53:48,025] [INFO] [logging.py:60:log_dist] [Rank 0] step=70, skipped=19, lr=[5e-05], mom=[[0.9, 0.999]]\n",
            "[2021-04-28 20:53:48,027] [INFO] [timer.py:157:stop] 0/70, SamplesPerSec=9.10490122399216\n",
            "[2021-04-28 20:53:52,920] [INFO] [logging.py:60:log_dist] [Rank 0] step=80, skipped=19, lr=[5e-05], mom=[[0.9, 0.999]]\n",
            "[2021-04-28 20:53:52,921] [INFO] [timer.py:157:stop] 0/80, SamplesPerSec=9.005563697842586\n",
            "[2021-04-28 20:53:55,151] [INFO] [stage2.py:1392:step] [deepspeed] fp16 dynamic loss scale overflow! Rank 0 Skipping step. Attempted loss scale: 16384.0, reducing to 8192.0\n",
            "[2021-04-28 20:53:57,613] [INFO] [logging.py:60:log_dist] [Rank 0] step=90, skipped=20, lr=[5e-05], mom=[[0.9, 0.999]]\n",
            "[2021-04-28 20:53:57,619] [INFO] [timer.py:157:stop] 0/90, SamplesPerSec=8.973269861233662\n",
            "[2021-04-28 20:54:02,636] [INFO] [logging.py:60:log_dist] [Rank 0] step=100, skipped=20, lr=[5e-05], mom=[[0.9, 0.999]]\n",
            "[2021-04-28 20:54:02,638] [INFO] [timer.py:157:stop] 0/100, SamplesPerSec=8.886924950841626\n",
            "[2021-04-28 20:54:07,465] [INFO] [logging.py:60:log_dist] [Rank 0] step=110, skipped=20, lr=[5e-05], mom=[[0.9, 0.999]]\n",
            "[2021-04-28 20:54:07,470] [INFO] [timer.py:157:stop] 0/110, SamplesPerSec=8.848440650378649\n",
            "[2021-04-28 20:54:12,394] [INFO] [logging.py:60:log_dist] [Rank 0] step=120, skipped=20, lr=[5e-05], mom=[[0.9, 0.999]]\n",
            "[2021-04-28 20:54:12,395] [INFO] [timer.py:157:stop] 0/120, SamplesPerSec=8.802597165944766\n",
            "[2021-04-28 20:54:16,844] [INFO] [logging.py:60:log_dist] [Rank 0] step=130, skipped=20, lr=[5e-05], mom=[[0.9, 0.999]]\n",
            "[2021-04-28 20:54:16,846] [INFO] [timer.py:157:stop] 0/130, SamplesPerSec=8.833681154721596\n",
            "[2021-04-28 20:54:21,673] [INFO] [logging.py:60:log_dist] [Rank 0] step=140, skipped=20, lr=[5e-05], mom=[[0.9, 0.999]]\n",
            "[2021-04-28 20:54:21,676] [INFO] [timer.py:157:stop] 0/140, SamplesPerSec=8.806446744831456\n",
            "[2021-04-28 20:54:26,940] [INFO] [logging.py:60:log_dist] [Rank 0] step=150, skipped=20, lr=[5e-05], mom=[[0.9, 0.999]]\n",
            "[2021-04-28 20:54:26,941] [INFO] [timer.py:157:stop] 0/150, SamplesPerSec=8.729155475567753\n",
            "[2021-04-28 20:54:31,574] [INFO] [logging.py:60:log_dist] [Rank 0] step=160, skipped=20, lr=[5e-05], mom=[[0.9, 0.999]]\n",
            "[2021-04-28 20:54:31,576] [INFO] [timer.py:157:stop] 0/160, SamplesPerSec=8.73722867763461\n",
            "[2021-04-28 20:54:36,331] [INFO] [logging.py:60:log_dist] [Rank 0] step=170, skipped=20, lr=[5e-05], mom=[[0.9, 0.999]]\n",
            "[2021-04-28 20:54:36,333] [INFO] [timer.py:157:stop] 0/170, SamplesPerSec=8.730077092827125\n",
            "[2021-04-28 20:54:41,530] [INFO] [logging.py:60:log_dist] [Rank 0] step=180, skipped=20, lr=[5e-05], mom=[[0.9, 0.999]]\n",
            "[2021-04-28 20:54:41,531] [INFO] [timer.py:157:stop] 0/180, SamplesPerSec=8.677344467830958\n",
            "[2021-04-28 20:54:46,466] [INFO] [logging.py:60:log_dist] [Rank 0] step=190, skipped=20, lr=[5e-05], mom=[[0.9, 0.999]]\n",
            "[2021-04-28 20:54:46,468] [INFO] [timer.py:157:stop] 0/190, SamplesPerSec=8.656514317537464\n",
            "[2021-04-28 20:54:51,356] [INFO] [logging.py:60:log_dist] [Rank 0] step=200, skipped=20, lr=[5e-05], mom=[[0.9, 0.999]]\n",
            "[2021-04-28 20:54:51,358] [INFO] [timer.py:157:stop] 0/200, SamplesPerSec=8.642185051470996\n",
            "[2021-04-28 20:54:56,394] [INFO] [logging.py:60:log_dist] [Rank 0] step=210, skipped=20, lr=[5e-05], mom=[[0.9, 0.999]]\n",
            "[2021-04-28 20:54:56,402] [INFO] [timer.py:157:stop] 0/210, SamplesPerSec=8.615295732292635\n",
            "[2021-04-28 20:55:01,343] [INFO] [logging.py:60:log_dist] [Rank 0] step=220, skipped=20, lr=[5e-05], mom=[[0.9, 0.999]]\n",
            "[2021-04-28 20:55:01,345] [INFO] [timer.py:157:stop] 0/220, SamplesPerSec=8.599657278048614\n",
            "[2021-04-28 20:55:06,306] [INFO] [logging.py:60:log_dist] [Rank 0] step=230, skipped=20, lr=[5e-05], mom=[[0.9, 0.999]]\n",
            "[2021-04-28 20:55:06,308] [INFO] [timer.py:157:stop] 0/230, SamplesPerSec=8.584457888592507\n",
            "[2021-04-28 20:55:11,385] [INFO] [logging.py:60:log_dist] [Rank 0] step=240, skipped=20, lr=[5e-05], mom=[[0.9, 0.999]]\n",
            "[2021-04-28 20:55:11,387] [INFO] [timer.py:157:stop] 0/240, SamplesPerSec=8.56106177663255\n",
            "[2021-04-28 20:55:16,044] [INFO] [logging.py:60:log_dist] [Rank 0] step=250, skipped=20, lr=[5e-05], mom=[[0.9, 0.999]]\n",
            "[2021-04-28 20:55:16,046] [INFO] [timer.py:157:stop] 0/250, SamplesPerSec=8.570498603265548\n",
            "[2021-04-28 20:55:21,280] [INFO] [logging.py:60:log_dist] [Rank 0] step=260, skipped=20, lr=[5e-05], mom=[[0.9, 0.999]]\n",
            "[2021-04-28 20:55:21,287] [INFO] [timer.py:157:stop] 0/260, SamplesPerSec=8.538522058549002\n",
            "[2021-04-28 20:55:26,258] [INFO] [logging.py:60:log_dist] [Rank 0] step=270, skipped=20, lr=[5e-05], mom=[[0.9, 0.999]]\n",
            "[2021-04-28 20:55:26,260] [INFO] [timer.py:157:stop] 0/270, SamplesPerSec=8.526712020714687\n",
            "[2021-04-28 20:55:31,261] [INFO] [logging.py:60:log_dist] [Rank 0] step=280, skipped=20, lr=[5e-05], mom=[[0.9, 0.999]]\n",
            "[2021-04-28 20:55:31,263] [INFO] [timer.py:157:stop] 0/280, SamplesPerSec=8.514030728622147\n",
            "[2021-04-28 20:55:35,932] [INFO] [logging.py:60:log_dist] [Rank 0] step=290, skipped=20, lr=[5e-05], mom=[[0.9, 0.999]]\n",
            "[2021-04-28 20:55:35,934] [INFO] [timer.py:157:stop] 0/290, SamplesPerSec=8.522688458857157\n",
            "[2021-04-28 20:55:41,276] [INFO] [logging.py:60:log_dist] [Rank 0] step=300, skipped=20, lr=[5e-05], mom=[[0.9, 0.999]]\n",
            "[2021-04-28 20:55:41,278] [INFO] [timer.py:157:stop] 0/300, SamplesPerSec=8.490363352290373\n",
            "[2021-04-28 20:55:45,945] [INFO] [logging.py:60:log_dist] [Rank 0] step=310, skipped=20, lr=[5e-05], mom=[[0.9, 0.999]]\n",
            "[2021-04-28 20:55:45,947] [INFO] [timer.py:157:stop] 0/310, SamplesPerSec=8.49989951632013\n",
            "[2021-04-28 20:55:50,696] [INFO] [logging.py:60:log_dist] [Rank 0] step=320, skipped=20, lr=[5e-05], mom=[[0.9, 0.999]]\n",
            "[2021-04-28 20:55:50,701] [INFO] [timer.py:157:stop] 0/320, SamplesPerSec=8.503850958066918\n",
            "[2021-04-28 20:55:55,701] [INFO] [logging.py:60:log_dist] [Rank 0] step=330, skipped=20, lr=[5e-05], mom=[[0.9, 0.999]]\n",
            "[2021-04-28 20:55:55,704] [INFO] [timer.py:157:stop] 0/330, SamplesPerSec=8.493725347929061\n",
            "[2021-04-28 20:56:00,576] [INFO] [logging.py:60:log_dist] [Rank 0] step=340, skipped=20, lr=[5e-05], mom=[[0.9, 0.999]]\n",
            "[2021-04-28 20:56:00,582] [INFO] [timer.py:157:stop] 0/340, SamplesPerSec=8.490810962083122\n",
            "[2021-04-28 20:56:05,580] [INFO] [logging.py:60:log_dist] [Rank 0] step=350, skipped=20, lr=[5e-05], mom=[[0.9, 0.999]]\n",
            "[2021-04-28 20:56:05,581] [INFO] [timer.py:157:stop] 0/350, SamplesPerSec=8.481903121305933\n",
            "[2021-04-28 20:56:10,595] [INFO] [logging.py:60:log_dist] [Rank 0] step=360, skipped=20, lr=[5e-05], mom=[[0.9, 0.999]]\n",
            "[2021-04-28 20:56:10,597] [INFO] [timer.py:157:stop] 0/360, SamplesPerSec=8.472983854796501\n",
            "[2021-04-28 20:56:15,379] [INFO] [logging.py:60:log_dist] [Rank 0] step=370, skipped=20, lr=[5e-05], mom=[[0.9, 0.999]]\n",
            "[2021-04-28 20:56:15,381] [INFO] [timer.py:157:stop] 0/370, SamplesPerSec=8.475728783965243\n",
            "[2021-04-28 20:56:20,226] [INFO] [logging.py:60:log_dist] [Rank 0] step=380, skipped=20, lr=[5e-05], mom=[[0.9, 0.999]]\n",
            "[2021-04-28 20:56:20,227] [INFO] [timer.py:157:stop] 0/380, SamplesPerSec=8.47586679074707\n",
            "[2021-04-28 20:56:25,120] [INFO] [logging.py:60:log_dist] [Rank 0] step=390, skipped=20, lr=[5e-05], mom=[[0.9, 0.999]]\n",
            "[2021-04-28 20:56:25,122] [INFO] [timer.py:157:stop] 0/390, SamplesPerSec=8.473141221511101\n",
            "[2021-04-28 20:56:29,838] [INFO] [logging.py:60:log_dist] [Rank 0] step=400, skipped=20, lr=[5e-05], mom=[[0.9, 0.999]]\n",
            "[2021-04-28 20:56:29,845] [INFO] [timer.py:157:stop] 0/400, SamplesPerSec=8.477978471598911\n",
            "[2021-04-28 20:56:35,142] [INFO] [logging.py:60:log_dist] [Rank 0] step=410, skipped=20, lr=[5e-05], mom=[[0.9, 0.999]]\n",
            "[2021-04-28 20:56:35,144] [INFO] [timer.py:157:stop] 0/410, SamplesPerSec=8.45832822705833\n",
            "[2021-04-28 20:56:40,365] [INFO] [logging.py:60:log_dist] [Rank 0] step=420, skipped=20, lr=[5e-05], mom=[[0.9, 0.999]]\n",
            "[2021-04-28 20:56:40,367] [INFO] [timer.py:157:stop] 0/420, SamplesPerSec=8.442352287320787\n",
            "[2021-04-28 20:56:45,371] [INFO] [logging.py:60:log_dist] [Rank 0] step=430, skipped=20, lr=[5e-05], mom=[[0.9, 0.999]]\n",
            "[2021-04-28 20:56:45,379] [INFO] [timer.py:157:stop] 0/430, SamplesPerSec=8.435671121634913\n",
            "[2021-04-28 20:56:49,978] [INFO] [logging.py:60:log_dist] [Rank 0] step=440, skipped=20, lr=[5e-05], mom=[[0.9, 0.999]]\n",
            "[2021-04-28 20:56:49,979] [INFO] [timer.py:157:stop] 0/440, SamplesPerSec=8.445945761381239\n",
            "[2021-04-28 20:56:54,925] [INFO] [logging.py:60:log_dist] [Rank 0] step=450, skipped=20, lr=[5e-05], mom=[[0.9, 0.999]]\n",
            "[2021-04-28 20:56:54,927] [INFO] [timer.py:157:stop] 0/450, SamplesPerSec=8.442012899085096\n",
            "[2021-04-28 20:56:59,886] [INFO] [logging.py:60:log_dist] [Rank 0] step=460, skipped=20, lr=[5e-05], mom=[[0.9, 0.999]]\n",
            "[2021-04-28 20:56:59,887] [INFO] [timer.py:157:stop] 0/460, SamplesPerSec=8.437987054182193\n",
            "[2021-04-28 20:57:04,679] [INFO] [logging.py:60:log_dist] [Rank 0] step=470, skipped=20, lr=[5e-05], mom=[[0.9, 0.999]]\n",
            "[2021-04-28 20:57:04,680] [INFO] [timer.py:157:stop] 0/470, SamplesPerSec=8.440453267775432\n",
            "[2021-04-28 20:57:09,613] [INFO] [logging.py:60:log_dist] [Rank 0] step=480, skipped=20, lr=[5e-05], mom=[[0.9, 0.999]]\n",
            "[2021-04-28 20:57:09,614] [INFO] [timer.py:157:stop] 0/480, SamplesPerSec=8.43768007336046\n",
            "[2021-04-28 20:57:14,722] [INFO] [logging.py:60:log_dist] [Rank 0] step=490, skipped=20, lr=[5e-05], mom=[[0.9, 0.999]]\n",
            "[2021-04-28 20:57:14,729] [INFO] [timer.py:157:stop] 0/490, SamplesPerSec=8.428552282360176\n",
            "[2021-04-28 20:57:19,595] [INFO] [logging.py:60:log_dist] [Rank 0] step=500, skipped=20, lr=[5e-05], mom=[[0.9, 0.999]]\n",
            "[2021-04-28 20:57:19,601] [INFO] [timer.py:157:stop] 0/500, SamplesPerSec=8.428084283667634\n",
            "[2021-04-28 20:57:20,011] [INFO] [logging.py:60:log_dist] [Rank 0] Saving model checkpoint: test-summarization/checkpoint-500/global_step500/mp_rank_00_model_states.pt\n",
            "[2021-04-28 20:57:23,034] [INFO] [engine.py:1717:_copy_recovery_script] creating recovery script test-summarization/checkpoint-500/zero_to_fp32.py\n",
            "[2021-04-28 20:57:23,082] [INFO] [engine.py:1730:_save_zero_checkpoint] zero checkpoint saved test-summarization/checkpoint-500/global_step500/zero_pp_rank_0_mp_rank_00_optim_states.pt\n",
            "[2021-04-28 20:57:28,093] [INFO] [logging.py:60:log_dist] [Rank 0] step=510, skipped=20, lr=[5e-05], mom=[[0.9, 0.999]]\n",
            "[2021-04-28 20:57:28,094] [INFO] [timer.py:157:stop] 0/510, SamplesPerSec=8.422891081749809\n",
            "[2021-04-28 20:57:33,202] [INFO] [logging.py:60:log_dist] [Rank 0] step=520, skipped=20, lr=[5e-05], mom=[[0.9, 0.999]]\n",
            "[2021-04-28 20:57:33,209] [INFO] [timer.py:157:stop] 0/520, SamplesPerSec=8.414686437201212\n",
            "[2021-04-28 20:57:37,977] [INFO] [logging.py:60:log_dist] [Rank 0] step=530, skipped=20, lr=[5e-05], mom=[[0.9, 0.999]]\n",
            "[2021-04-28 20:57:37,979] [INFO] [timer.py:157:stop] 0/530, SamplesPerSec=8.417712807997296\n",
            "[2021-04-28 20:57:43,369] [INFO] [logging.py:60:log_dist] [Rank 0] step=540, skipped=20, lr=[5e-05], mom=[[0.9, 0.999]]\n",
            "[2021-04-28 20:57:43,376] [INFO] [timer.py:157:stop] 0/540, SamplesPerSec=8.400709596927218\n",
            "[2021-04-28 20:57:48,263] [INFO] [logging.py:60:log_dist] [Rank 0] step=550, skipped=20, lr=[5e-05], mom=[[0.9, 0.999]]\n",
            "[2021-04-28 20:57:48,268] [INFO] [timer.py:157:stop] 0/550, SamplesPerSec=8.400044737552923\n",
            "[2021-04-28 20:57:53,094] [INFO] [logging.py:60:log_dist] [Rank 0] step=560, skipped=20, lr=[5e-05], mom=[[0.9, 0.999]]\n",
            "[2021-04-28 20:57:53,096] [INFO] [timer.py:157:stop] 0/560, SamplesPerSec=8.401609256947092\n",
            "[2021-04-28 20:57:58,169] [INFO] [logging.py:60:log_dist] [Rank 0] step=570, skipped=20, lr=[5e-05], mom=[[0.9, 0.999]]\n",
            "[2021-04-28 20:57:58,171] [INFO] [timer.py:157:stop] 0/570, SamplesPerSec=8.395619613545069\n",
            "[2021-04-28 20:58:03,330] [INFO] [logging.py:60:log_dist] [Rank 0] step=580, skipped=20, lr=[5e-05], mom=[[0.9, 0.999]]\n",
            "[2021-04-28 20:58:03,331] [INFO] [timer.py:157:stop] 0/580, SamplesPerSec=8.387333560627516\n",
            "[2021-04-28 20:58:08,180] [INFO] [logging.py:60:log_dist] [Rank 0] step=590, skipped=20, lr=[5e-05], mom=[[0.9, 0.999]]\n",
            "[2021-04-28 20:58:08,185] [INFO] [timer.py:157:stop] 0/590, SamplesPerSec=8.388617244598596\n",
            "[2021-04-28 20:58:13,123] [INFO] [logging.py:60:log_dist] [Rank 0] step=600, skipped=20, lr=[5e-05], mom=[[0.9, 0.999]]\n",
            "[2021-04-28 20:58:13,125] [INFO] [timer.py:157:stop] 0/600, SamplesPerSec=8.387043942531133\n",
            "[2021-04-28 20:58:18,329] [INFO] [logging.py:60:log_dist] [Rank 0] step=610, skipped=20, lr=[5e-05], mom=[[0.9, 0.999]]\n",
            "[2021-04-28 20:58:18,331] [INFO] [timer.py:157:stop] 0/610, SamplesPerSec=8.378068582639093\n",
            "[2021-04-28 20:58:23,310] [INFO] [logging.py:60:log_dist] [Rank 0] step=620, skipped=20, lr=[5e-05], mom=[[0.9, 0.999]]\n",
            "[2021-04-28 20:58:23,311] [INFO] [timer.py:157:stop] 0/620, SamplesPerSec=8.375568811473775\n",
            "[2021-04-28 20:58:28,233] [INFO] [logging.py:60:log_dist] [Rank 0] step=630, skipped=20, lr=[5e-05], mom=[[0.9, 0.999]]\n",
            "[2021-04-28 20:58:28,235] [INFO] [timer.py:157:stop] 0/630, SamplesPerSec=8.3750348357601\n",
            "[2021-04-28 20:58:33,085] [INFO] [logging.py:60:log_dist] [Rank 0] step=640, skipped=20, lr=[5e-05], mom=[[0.9, 0.999]]\n",
            "[2021-04-28 20:58:33,094] [INFO] [timer.py:157:stop] 0/640, SamplesPerSec=8.376103429409826\n",
            "[2021-04-28 20:58:38,023] [INFO] [logging.py:60:log_dist] [Rank 0] step=650, skipped=20, lr=[5e-05], mom=[[0.9, 0.999]]\n",
            "[2021-04-28 20:58:38,024] [INFO] [timer.py:157:stop] 0/650, SamplesPerSec=8.374987052885688\n",
            "[2021-04-28 20:58:42,932] [INFO] [logging.py:60:log_dist] [Rank 0] step=660, skipped=20, lr=[5e-05], mom=[[0.9, 0.999]]\n",
            "[2021-04-28 20:58:42,935] [INFO] [timer.py:157:stop] 0/660, SamplesPerSec=8.374473155665939\n",
            "[2021-04-28 20:58:47,773] [INFO] [logging.py:60:log_dist] [Rank 0] step=670, skipped=20, lr=[5e-05], mom=[[0.9, 0.999]]\n",
            "[2021-04-28 20:58:47,774] [INFO] [timer.py:157:stop] 0/670, SamplesPerSec=8.376231891673205\n",
            "[2021-04-28 20:58:52,697] [INFO] [logging.py:60:log_dist] [Rank 0] step=680, skipped=20, lr=[5e-05], mom=[[0.9, 0.999]]\n",
            "[2021-04-28 20:58:52,699] [INFO] [timer.py:157:stop] 0/680, SamplesPerSec=8.375312648230768\n",
            "[2021-04-28 20:58:57,723] [INFO] [logging.py:60:log_dist] [Rank 0] step=690, skipped=20, lr=[5e-05], mom=[[0.9, 0.999]]\n",
            "[2021-04-28 20:58:57,725] [INFO] [timer.py:157:stop] 0/690, SamplesPerSec=8.372017611985878\n",
            "[2021-04-28 20:59:02,363] [INFO] [logging.py:60:log_dist] [Rank 0] step=700, skipped=20, lr=[5e-05], mom=[[0.9, 0.999]]\n",
            "[2021-04-28 20:59:02,369] [INFO] [timer.py:157:stop] 0/700, SamplesPerSec=8.378144016205159\n",
            "[2021-04-28 20:59:07,220] [INFO] [logging.py:60:log_dist] [Rank 0] step=710, skipped=20, lr=[5e-05], mom=[[0.9, 0.999]]\n",
            "[2021-04-28 20:59:07,222] [INFO] [timer.py:157:stop] 0/710, SamplesPerSec=8.379045964112153\n",
            "[2021-04-28 20:59:12,529] [INFO] [logging.py:60:log_dist] [Rank 0] step=720, skipped=20, lr=[5e-05], mom=[[0.9, 0.999]]\n",
            "[2021-04-28 20:59:12,531] [INFO] [timer.py:157:stop] 0/720, SamplesPerSec=8.368996666685712\n",
            "[2021-04-28 20:59:17,750] [INFO] [logging.py:60:log_dist] [Rank 0] step=730, skipped=20, lr=[5e-05], mom=[[0.9, 0.999]]\n",
            "[2021-04-28 20:59:17,752] [INFO] [timer.py:157:stop] 0/730, SamplesPerSec=8.361393976919532\n",
            "[2021-04-28 20:59:22,753] [INFO] [logging.py:60:log_dist] [Rank 0] step=740, skipped=20, lr=[5e-05], mom=[[0.9, 0.999]]\n",
            "[2021-04-28 20:59:22,755] [INFO] [timer.py:157:stop] 0/740, SamplesPerSec=8.359068236487255\n",
            "[2021-04-28 20:59:27,655] [INFO] [logging.py:60:log_dist] [Rank 0] step=750, skipped=20, lr=[5e-05], mom=[[0.9, 0.999]]\n",
            "[2021-04-28 20:59:27,656] [INFO] [timer.py:157:stop] 0/750, SamplesPerSec=8.359119034013064\n",
            "[2021-04-28 20:59:32,689] [INFO] [logging.py:60:log_dist] [Rank 0] step=760, skipped=20, lr=[5e-05], mom=[[0.9, 0.999]]\n",
            "[2021-04-28 20:59:32,691] [INFO] [timer.py:157:stop] 0/760, SamplesPerSec=8.3559964529515\n",
            "[2021-04-28 20:59:37,402] [INFO] [logging.py:60:log_dist] [Rank 0] step=770, skipped=20, lr=[5e-05], mom=[[0.9, 0.999]]\n",
            "[2021-04-28 20:59:37,404] [INFO] [timer.py:157:stop] 0/770, SamplesPerSec=8.360496917720534\n",
            "[2021-04-28 20:59:42,463] [INFO] [logging.py:60:log_dist] [Rank 0] step=780, skipped=20, lr=[5e-05], mom=[[0.9, 0.999]]\n",
            "[2021-04-28 20:59:42,464] [INFO] [timer.py:157:stop] 0/780, SamplesPerSec=8.356865969902488\n",
            "[2021-04-28 20:59:47,329] [INFO] [logging.py:60:log_dist] [Rank 0] step=790, skipped=20, lr=[5e-05], mom=[[0.9, 0.999]]\n",
            "[2021-04-28 20:59:47,331] [INFO] [timer.py:157:stop] 0/790, SamplesPerSec=8.35757172256\n",
            "[2021-04-28 20:59:52,252] [INFO] [logging.py:60:log_dist] [Rank 0] step=800, skipped=20, lr=[5e-05], mom=[[0.9, 0.999]]\n",
            "[2021-04-28 20:59:52,257] [INFO] [timer.py:157:stop] 0/800, SamplesPerSec=8.357547765460804\n",
            "[2021-04-28 20:59:56,871] [INFO] [logging.py:60:log_dist] [Rank 0] step=810, skipped=20, lr=[5e-05], mom=[[0.9, 0.999]]\n",
            "[2021-04-28 20:59:56,877] [INFO] [timer.py:157:stop] 0/810, SamplesPerSec=8.363743800766985\n",
            "[2021-04-28 21:00:01,877] [INFO] [logging.py:60:log_dist] [Rank 0] step=820, skipped=20, lr=[5e-05], mom=[[0.9, 0.999]]\n",
            "[2021-04-28 21:00:01,879] [INFO] [timer.py:157:stop] 0/820, SamplesPerSec=8.361567584852548\n",
            "[2021-04-28 21:00:06,820] [INFO] [logging.py:60:log_dist] [Rank 0] step=830, skipped=20, lr=[5e-05], mom=[[0.9, 0.999]]\n",
            "[2021-04-28 21:00:06,822] [INFO] [timer.py:157:stop] 0/830, SamplesPerSec=8.360609334124122\n",
            "[2021-04-28 21:00:11,669] [INFO] [logging.py:60:log_dist] [Rank 0] step=840, skipped=20, lr=[5e-05], mom=[[0.9, 0.999]]\n",
            "[2021-04-28 21:00:11,671] [INFO] [timer.py:157:stop] 0/840, SamplesPerSec=8.361761288170195\n",
            "[2021-04-28 21:00:16,552] [INFO] [logging.py:60:log_dist] [Rank 0] step=850, skipped=20, lr=[5e-05], mom=[[0.9, 0.999]]\n",
            "[2021-04-28 21:00:16,553] [INFO] [timer.py:157:stop] 0/850, SamplesPerSec=8.362231254565097\n",
            "[2021-04-28 21:00:21,426] [INFO] [logging.py:60:log_dist] [Rank 0] step=860, skipped=20, lr=[5e-05], mom=[[0.9, 0.999]]\n",
            "[2021-04-28 21:00:21,427] [INFO] [timer.py:157:stop] 0/860, SamplesPerSec=8.363122573120366\n",
            "[2021-04-28 21:00:26,175] [INFO] [logging.py:60:log_dist] [Rank 0] step=870, skipped=20, lr=[5e-05], mom=[[0.9, 0.999]]\n",
            "[2021-04-28 21:00:26,182] [INFO] [timer.py:157:stop] 0/870, SamplesPerSec=8.366060306057816\n",
            "[2021-04-28 21:00:31,282] [INFO] [logging.py:60:log_dist] [Rank 0] step=880, skipped=20, lr=[5e-05], mom=[[0.9, 0.999]]\n",
            "[2021-04-28 21:00:31,289] [INFO] [timer.py:157:stop] 0/880, SamplesPerSec=8.361954014434618\n",
            "[2021-04-28 21:00:36,415] [INFO] [logging.py:60:log_dist] [Rank 0] step=890, skipped=20, lr=[5e-05], mom=[[0.9, 0.999]]\n",
            "[2021-04-28 21:00:36,421] [INFO] [timer.py:157:stop] 0/890, SamplesPerSec=8.35743509649349\n",
            "[2021-04-28 21:00:40,191] [INFO] [stage2.py:1392:step] [deepspeed] fp16 dynamic loss scale overflow! Rank 0 Skipping step. Attempted loss scale: 8192.0, reducing to 4096.0\n",
            "[2021-04-28 21:00:41,230] [INFO] [logging.py:60:log_dist] [Rank 0] step=900, skipped=21, lr=[5e-05], mom=[[0.9, 0.999]]\n",
            "[2021-04-28 21:00:41,237] [INFO] [timer.py:157:stop] 0/900, SamplesPerSec=8.359245396537005\n",
            "[2021-04-28 21:00:46,065] [INFO] [logging.py:60:log_dist] [Rank 0] step=910, skipped=21, lr=[5e-05], mom=[[0.9, 0.999]]\n",
            "[2021-04-28 21:00:46,066] [INFO] [timer.py:157:stop] 0/910, SamplesPerSec=8.360742290496393\n",
            "[2021-04-28 21:00:51,111] [INFO] [logging.py:60:log_dist] [Rank 0] step=920, skipped=21, lr=[5e-05], mom=[[0.9, 0.999]]\n",
            "[2021-04-28 21:00:51,113] [INFO] [timer.py:157:stop] 0/920, SamplesPerSec=8.357991765705602\n",
            "[2021-04-28 21:00:56,227] [INFO] [logging.py:60:log_dist] [Rank 0] step=930, skipped=21, lr=[5e-05], mom=[[0.9, 0.999]]\n",
            "[2021-04-28 21:00:56,229] [INFO] [timer.py:157:stop] 0/930, SamplesPerSec=8.353839226618005\n",
            "[2021-04-28 21:01:01,177] [INFO] [logging.py:60:log_dist] [Rank 0] step=940, skipped=21, lr=[5e-05], mom=[[0.9, 0.999]]\n",
            "[2021-04-28 21:01:01,178] [INFO] [timer.py:157:stop] 0/940, SamplesPerSec=8.353190649751465\n",
            "[2021-04-28 21:01:06,465] [INFO] [logging.py:60:log_dist] [Rank 0] step=950, skipped=21, lr=[5e-05], mom=[[0.9, 0.999]]\n",
            "[2021-04-28 21:01:06,471] [INFO] [timer.py:157:stop] 0/950, SamplesPerSec=8.346266251179623\n",
            "[2021-04-28 21:01:11,475] [INFO] [logging.py:60:log_dist] [Rank 0] step=960, skipped=21, lr=[5e-05], mom=[[0.9, 0.999]]\n",
            "[2021-04-28 21:01:11,476] [INFO] [timer.py:157:stop] 0/960, SamplesPerSec=8.344496236076623\n",
            "[2021-04-28 21:01:16,427] [INFO] [logging.py:60:log_dist] [Rank 0] step=970, skipped=21, lr=[5e-05], mom=[[0.9, 0.999]]\n",
            "[2021-04-28 21:01:16,433] [INFO] [timer.py:157:stop] 0/970, SamplesPerSec=8.343719487341243\n",
            "[2021-04-28 21:01:21,161] [INFO] [logging.py:60:log_dist] [Rank 0] step=980, skipped=21, lr=[5e-05], mom=[[0.9, 0.999]]\n",
            "[2021-04-28 21:01:21,163] [INFO] [timer.py:157:stop] 0/980, SamplesPerSec=8.347226781129988\n",
            "[2021-04-28 21:01:26,066] [INFO] [logging.py:60:log_dist] [Rank 0] step=990, skipped=21, lr=[5e-05], mom=[[0.9, 0.999]]\n",
            "[2021-04-28 21:01:26,073] [INFO] [timer.py:157:stop] 0/990, SamplesPerSec=8.347267902254533\n",
            "[2021-04-28 21:01:30,818] [INFO] [logging.py:60:log_dist] [Rank 0] step=1000, skipped=21, lr=[5e-05], mom=[[0.9, 0.999]]\n",
            "[2021-04-28 21:01:30,820] [INFO] [timer.py:157:stop] 0/1000, SamplesPerSec=8.350106116688718\n",
            "[2021-04-28 21:01:31,239] [INFO] [logging.py:60:log_dist] [Rank 0] Saving model checkpoint: test-summarization/checkpoint-1000/global_step1000/mp_rank_00_model_states.pt\n",
            "[2021-04-28 21:01:34,363] [INFO] [engine.py:1717:_copy_recovery_script] creating recovery script test-summarization/checkpoint-1000/zero_to_fp32.py\n",
            "[2021-04-28 21:01:34,372] [INFO] [engine.py:1730:_save_zero_checkpoint] zero checkpoint saved test-summarization/checkpoint-1000/global_step1000/zero_pp_rank_0_mp_rank_00_optim_states.pt\n",
            "[2021-04-28 21:01:39,690] [INFO] [logging.py:60:log_dist] [Rank 0] step=1010, skipped=21, lr=[5e-05], mom=[[0.9, 0.999]]\n",
            "[2021-04-28 21:01:39,692] [INFO] [timer.py:157:stop] 0/1010, SamplesPerSec=8.343120446527392\n",
            "[2021-04-28 21:01:44,698] [INFO] [logging.py:60:log_dist] [Rank 0] step=1020, skipped=21, lr=[5e-05], mom=[[0.9, 0.999]]\n",
            "[2021-04-28 21:01:44,704] [INFO] [timer.py:157:stop] 0/1020, SamplesPerSec=8.341422188881985\n",
            "[2021-04-28 21:01:49,728] [INFO] [logging.py:60:log_dist] [Rank 0] step=1030, skipped=21, lr=[5e-05], mom=[[0.9, 0.999]]\n",
            "[2021-04-28 21:01:49,729] [INFO] [timer.py:157:stop] 0/1030, SamplesPerSec=8.339481973475495\n",
            "[2021-04-28 21:01:54,605] [INFO] [logging.py:60:log_dist] [Rank 0] step=1040, skipped=21, lr=[5e-05], mom=[[0.9, 0.999]]\n",
            "[2021-04-28 21:01:54,607] [INFO] [timer.py:157:stop] 0/1040, SamplesPerSec=8.340062772451077\n",
            "[2021-04-28 21:01:59,596] [INFO] [logging.py:60:log_dist] [Rank 0] step=1050, skipped=21, lr=[5e-05], mom=[[0.9, 0.999]]\n",
            "[2021-04-28 21:01:59,597] [INFO] [timer.py:157:stop] 0/1050, SamplesPerSec=8.338775849495233\n",
            "[2021-04-28 21:02:04,600] [INFO] [logging.py:60:log_dist] [Rank 0] step=1060, skipped=21, lr=[5e-05], mom=[[0.9, 0.999]]\n",
            "[2021-04-28 21:02:04,601] [INFO] [timer.py:157:stop] 0/1060, SamplesPerSec=8.337395289383878\n",
            "[2021-04-28 21:02:09,464] [INFO] [logging.py:60:log_dist] [Rank 0] step=1070, skipped=21, lr=[5e-05], mom=[[0.9, 0.999]]\n",
            "[2021-04-28 21:02:09,469] [INFO] [timer.py:157:stop] 0/1070, SamplesPerSec=8.338264967941724\n",
            "[2021-04-28 21:02:14,451] [INFO] [logging.py:60:log_dist] [Rank 0] step=1080, skipped=21, lr=[5e-05], mom=[[0.9, 0.999]]\n",
            "[2021-04-28 21:02:14,458] [INFO] [timer.py:157:stop] 0/1080, SamplesPerSec=8.337172237380448\n",
            "[2021-04-28 21:02:19,640] [INFO] [logging.py:60:log_dist] [Rank 0] step=1090, skipped=21, lr=[5e-05], mom=[[0.9, 0.999]]\n",
            "[2021-04-28 21:02:19,642] [INFO] [timer.py:157:stop] 0/1090, SamplesPerSec=8.332806925698172\n",
            "[2021-04-28 21:02:24,326] [INFO] [logging.py:60:log_dist] [Rank 0] step=1100, skipped=21, lr=[5e-05], mom=[[0.9, 0.999]]\n",
            "[2021-04-28 21:02:24,328] [INFO] [timer.py:157:stop] 0/1100, SamplesPerSec=8.33653185316342\n",
            "[2021-04-28 21:02:29,162] [INFO] [logging.py:60:log_dist] [Rank 0] step=1110, skipped=21, lr=[5e-05], mom=[[0.9, 0.999]]\n",
            "[2021-04-28 21:02:29,168] [INFO] [timer.py:157:stop] 0/1110, SamplesPerSec=8.337892827080674\n",
            "[2021-04-28 21:02:34,077] [INFO] [logging.py:60:log_dist] [Rank 0] step=1120, skipped=21, lr=[5e-05], mom=[[0.9, 0.999]]\n",
            "[2021-04-28 21:02:34,079] [INFO] [timer.py:157:stop] 0/1120, SamplesPerSec=8.337908474946273\n",
            "[2021-04-28 21:02:39,067] [INFO] [logging.py:60:log_dist] [Rank 0] step=1130, skipped=21, lr=[5e-05], mom=[[0.9, 0.999]]\n",
            "[2021-04-28 21:02:39,074] [INFO] [timer.py:157:stop] 0/1130, SamplesPerSec=8.336775906537008\n",
            "[2021-04-28 21:02:43,744] [INFO] [logging.py:60:log_dist] [Rank 0] step=1140, skipped=21, lr=[5e-05], mom=[[0.9, 0.999]]\n",
            "[2021-04-28 21:02:43,750] [INFO] [timer.py:157:stop] 0/1140, SamplesPerSec=8.340526633935312\n",
            "[2021-04-28 21:02:48,971] [INFO] [logging.py:60:log_dist] [Rank 0] step=1150, skipped=21, lr=[5e-05], mom=[[0.9, 0.999]]\n",
            "[2021-04-28 21:02:48,978] [INFO] [timer.py:157:stop] 0/1150, SamplesPerSec=8.335662150353778\n",
            "[2021-04-28 21:02:53,954] [INFO] [logging.py:60:log_dist] [Rank 0] step=1160, skipped=21, lr=[5e-05], mom=[[0.9, 0.999]]\n",
            "[2021-04-28 21:02:53,956] [INFO] [timer.py:157:stop] 0/1160, SamplesPerSec=8.334852577035605\n",
            "[2021-04-28 21:02:58,975] [INFO] [logging.py:60:log_dist] [Rank 0] step=1170, skipped=21, lr=[5e-05], mom=[[0.9, 0.999]]\n",
            "[2021-04-28 21:02:58,976] [INFO] [timer.py:157:stop] 0/1170, SamplesPerSec=8.333293492054386\n",
            "[2021-04-28 21:03:03,752] [INFO] [logging.py:60:log_dist] [Rank 0] step=1180, skipped=21, lr=[5e-05], mom=[[0.9, 0.999]]\n",
            "[2021-04-28 21:03:03,754] [INFO] [timer.py:157:stop] 0/1180, SamplesPerSec=8.335255223580841\n",
            "[2021-04-28 21:03:08,760] [INFO] [logging.py:60:log_dist] [Rank 0] step=1190, skipped=21, lr=[5e-05], mom=[[0.9, 0.999]]\n",
            "[2021-04-28 21:03:08,769] [INFO] [timer.py:157:stop] 0/1190, SamplesPerSec=8.333895119197225\n",
            "[2021-04-28 21:03:13,743] [INFO] [logging.py:60:log_dist] [Rank 0] step=1200, skipped=21, lr=[5e-05], mom=[[0.9, 0.999]]\n",
            "[2021-04-28 21:03:13,745] [INFO] [timer.py:157:stop] 0/1200, SamplesPerSec=8.333127981541496\n",
            "[2021-04-28 21:03:18,911] [INFO] [logging.py:60:log_dist] [Rank 0] step=1210, skipped=21, lr=[5e-05], mom=[[0.9, 0.999]]\n",
            "[2021-04-28 21:03:18,912] [INFO] [timer.py:157:stop] 0/1210, SamplesPerSec=8.329554133135002\n",
            "[2021-04-28 21:03:23,721] [INFO] [logging.py:60:log_dist] [Rank 0] step=1220, skipped=21, lr=[5e-05], mom=[[0.9, 0.999]]\n",
            "[2021-04-28 21:03:23,722] [INFO] [timer.py:157:stop] 0/1220, SamplesPerSec=8.331278771004326\n",
            "[2021-04-28 21:03:28,782] [INFO] [logging.py:60:log_dist] [Rank 0] step=1230, skipped=21, lr=[5e-05], mom=[[0.9, 0.999]]\n",
            "[2021-04-28 21:03:28,784] [INFO] [timer.py:157:stop] 0/1230, SamplesPerSec=8.329465336803061\n",
            "[2021-04-28 21:03:33,474] [INFO] [logging.py:60:log_dist] [Rank 0] step=1240, skipped=21, lr=[5e-05], mom=[[0.9, 0.999]]\n",
            "[2021-04-28 21:03:33,476] [INFO] [timer.py:157:stop] 0/1240, SamplesPerSec=8.332723847131794\n",
            "[2021-04-28 21:03:38,301] [INFO] [logging.py:60:log_dist] [Rank 0] step=1250, skipped=21, lr=[5e-05], mom=[[0.9, 0.999]]\n",
            "[2021-04-28 21:03:38,308] [INFO] [timer.py:157:stop] 0/1250, SamplesPerSec=8.333896284747304\n",
            "[2021-04-28 21:03:43,311] [INFO] [logging.py:60:log_dist] [Rank 0] step=1260, skipped=21, lr=[5e-05], mom=[[0.9, 0.999]]\n",
            "[2021-04-28 21:03:43,312] [INFO] [timer.py:157:stop] 0/1260, SamplesPerSec=8.33269548413803\n",
            "[2021-04-28 21:03:48,432] [INFO] [logging.py:60:log_dist] [Rank 0] step=1270, skipped=21, lr=[5e-05], mom=[[0.9, 0.999]]\n",
            "[2021-04-28 21:03:48,439] [INFO] [timer.py:157:stop] 0/1270, SamplesPerSec=8.330030652908787\n",
            "[2021-04-28 21:03:53,419] [INFO] [logging.py:60:log_dist] [Rank 0] step=1280, skipped=21, lr=[5e-05], mom=[[0.9, 0.999]]\n",
            "[2021-04-28 21:03:53,426] [INFO] [timer.py:157:stop] 0/1280, SamplesPerSec=8.329117260415563\n",
            "[2021-04-28 21:03:58,680] [INFO] [logging.py:60:log_dist] [Rank 0] step=1290, skipped=21, lr=[5e-05], mom=[[0.9, 0.999]]\n",
            "[2021-04-28 21:03:58,681] [INFO] [timer.py:157:stop] 0/1290, SamplesPerSec=8.324500129361498\n",
            "[2021-04-28 21:04:03,431] [INFO] [logging.py:60:log_dist] [Rank 0] step=1300, skipped=21, lr=[5e-05], mom=[[0.9, 0.999]]\n",
            "[2021-04-28 21:04:03,441] [INFO] [timer.py:157:stop] 0/1300, SamplesPerSec=8.326756894691698\n",
            "[2021-04-28 21:04:08,486] [INFO] [logging.py:60:log_dist] [Rank 0] step=1310, skipped=21, lr=[5e-05], mom=[[0.9, 0.999]]\n",
            "[2021-04-28 21:04:08,487] [INFO] [timer.py:157:stop] 0/1310, SamplesPerSec=8.325113896584119\n",
            "[2021-04-28 21:04:13,548] [INFO] [logging.py:60:log_dist] [Rank 0] step=1320, skipped=21, lr=[5e-05], mom=[[0.9, 0.999]]\n",
            "[2021-04-28 21:04:13,550] [INFO] [timer.py:157:stop] 0/1320, SamplesPerSec=8.323364630622068\n",
            "[2021-04-28 21:04:18,399] [INFO] [logging.py:60:log_dist] [Rank 0] step=1330, skipped=21, lr=[5e-05], mom=[[0.9, 0.999]]\n",
            "[2021-04-28 21:04:18,401] [INFO] [timer.py:157:stop] 0/1330, SamplesPerSec=8.32444062593858\n",
            "[2021-04-28 21:04:23,316] [INFO] [logging.py:60:log_dist] [Rank 0] step=1340, skipped=21, lr=[5e-05], mom=[[0.9, 0.999]]\n",
            "[2021-04-28 21:04:23,317] [INFO] [timer.py:157:stop] 0/1340, SamplesPerSec=8.324761299211847\n",
            "[2021-04-28 21:04:28,468] [INFO] [logging.py:60:log_dist] [Rank 0] step=1350, skipped=21, lr=[5e-05], mom=[[0.9, 0.999]]\n",
            "[2021-04-28 21:04:28,470] [INFO] [timer.py:157:stop] 0/1350, SamplesPerSec=8.321974842603193\n",
            "[2021-04-28 21:04:33,235] [INFO] [logging.py:60:log_dist] [Rank 0] step=1360, skipped=21, lr=[5e-05], mom=[[0.9, 0.999]]\n",
            "[2021-04-28 21:04:33,236] [INFO] [timer.py:157:stop] 0/1360, SamplesPerSec=8.323992310912518\n",
            "[2021-04-28 21:04:38,225] [INFO] [logging.py:60:log_dist] [Rank 0] step=1370, skipped=21, lr=[5e-05], mom=[[0.9, 0.999]]\n",
            "[2021-04-28 21:04:38,233] [INFO] [timer.py:157:stop] 0/1370, SamplesPerSec=8.323018990329668\n",
            "[2021-04-28 21:04:43,254] [INFO] [logging.py:60:log_dist] [Rank 0] step=1380, skipped=21, lr=[5e-05], mom=[[0.9, 0.999]]\n",
            "[2021-04-28 21:04:43,259] [INFO] [timer.py:157:stop] 0/1380, SamplesPerSec=8.321816580764132\n",
            "[2021-04-28 21:04:48,556] [INFO] [logging.py:60:log_dist] [Rank 0] step=1390, skipped=21, lr=[5e-05], mom=[[0.9, 0.999]]\n",
            "[2021-04-28 21:04:48,564] [INFO] [timer.py:157:stop] 0/1390, SamplesPerSec=8.317153518490432\n",
            "[2021-04-28 21:04:53,141] [INFO] [logging.py:60:log_dist] [Rank 0] step=1400, skipped=21, lr=[5e-05], mom=[[0.9, 0.999]]\n",
            "[2021-04-28 21:04:53,143] [INFO] [timer.py:157:stop] 0/1400, SamplesPerSec=8.32144819578463\n",
            "[2021-04-28 21:04:58,083] [INFO] [logging.py:60:log_dist] [Rank 0] step=1410, skipped=21, lr=[5e-05], mom=[[0.9, 0.999]]\n",
            "[2021-04-28 21:04:58,085] [INFO] [timer.py:157:stop] 0/1410, SamplesPerSec=8.321202858626627\n",
            "[2021-04-28 21:05:03,124] [INFO] [logging.py:60:log_dist] [Rank 0] step=1420, skipped=21, lr=[5e-05], mom=[[0.9, 0.999]]\n",
            "[2021-04-28 21:05:03,126] [INFO] [timer.py:157:stop] 0/1420, SamplesPerSec=8.319920191074734\n",
            "[2021-04-28 21:05:07,859] [INFO] [logging.py:60:log_dist] [Rank 0] step=1430, skipped=21, lr=[5e-05], mom=[[0.9, 0.999]]\n",
            "[2021-04-28 21:05:07,860] [INFO] [timer.py:157:stop] 0/1430, SamplesPerSec=8.322375132235301\n",
            "[2021-04-28 21:05:12,917] [INFO] [logging.py:60:log_dist] [Rank 0] step=1440, skipped=21, lr=[5e-05], mom=[[0.9, 0.999]]\n",
            "[2021-04-28 21:05:12,918] [INFO] [timer.py:157:stop] 0/1440, SamplesPerSec=8.320908102198397\n",
            "[2021-04-28 21:05:17,915] [INFO] [logging.py:60:log_dist] [Rank 0] step=1450, skipped=21, lr=[5e-05], mom=[[0.9, 0.999]]\n",
            "[2021-04-28 21:05:17,917] [INFO] [timer.py:157:stop] 0/1450, SamplesPerSec=8.320014097694974\n",
            "[2021-04-28 21:05:23,091] [INFO] [logging.py:60:log_dist] [Rank 0] step=1460, skipped=21, lr=[5e-05], mom=[[0.9, 0.999]]\n",
            "[2021-04-28 21:05:23,093] [INFO] [timer.py:157:stop] 0/1460, SamplesPerSec=8.31709460577536\n",
            "[2021-04-28 21:05:27,895] [INFO] [logging.py:60:log_dist] [Rank 0] step=1470, skipped=21, lr=[5e-05], mom=[[0.9, 0.999]]\n",
            "[2021-04-28 21:05:27,902] [INFO] [timer.py:157:stop] 0/1470, SamplesPerSec=8.3184086378482\n",
            "[2021-04-28 21:05:32,782] [INFO] [logging.py:60:log_dist] [Rank 0] step=1480, skipped=21, lr=[5e-05], mom=[[0.9, 0.999]]\n",
            "[2021-04-28 21:05:32,783] [INFO] [timer.py:157:stop] 0/1480, SamplesPerSec=8.318876338964477\n",
            "[2021-04-28 21:05:37,506] [INFO] [logging.py:60:log_dist] [Rank 0] step=1490, skipped=21, lr=[5e-05], mom=[[0.9, 0.999]]\n",
            "[2021-04-28 21:05:37,507] [INFO] [timer.py:157:stop] 0/1490, SamplesPerSec=8.321195304195857\n",
            "[2021-04-28 21:05:42,651] [INFO] [logging.py:60:log_dist] [Rank 0] step=1500, skipped=21, lr=[5e-05], mom=[[0.9, 0.999]]\n",
            "[2021-04-28 21:05:42,655] [INFO] [timer.py:157:stop] 0/1500, SamplesPerSec=8.318724233057443\n",
            "[2021-04-28 21:05:43,144] [INFO] [logging.py:60:log_dist] [Rank 0] Saving model checkpoint: test-summarization/checkpoint-1500/global_step1500/mp_rank_00_model_states.pt\n",
            "[2021-04-28 21:05:46,047] [INFO] [engine.py:1717:_copy_recovery_script] creating recovery script test-summarization/checkpoint-1500/zero_to_fp32.py\n",
            "[2021-04-28 21:05:46,049] [INFO] [engine.py:1730:_save_zero_checkpoint] zero checkpoint saved test-summarization/checkpoint-1500/global_step1500/zero_pp_rank_0_mp_rank_00_optim_states.pt\n",
            "[2021-04-28 21:05:51,044] [INFO] [logging.py:60:log_dist] [Rank 0] step=1510, skipped=21, lr=[5e-05], mom=[[0.9, 0.999]]\n",
            "[2021-04-28 21:05:51,045] [INFO] [timer.py:157:stop] 0/1510, SamplesPerSec=8.318058863636082\n",
            "[2021-04-28 21:05:56,041] [INFO] [logging.py:60:log_dist] [Rank 0] step=1520, skipped=21, lr=[5e-05], mom=[[0.9, 0.999]]\n",
            "[2021-04-28 21:05:56,042] [INFO] [timer.py:157:stop] 0/1520, SamplesPerSec=8.31741848644157\n",
            "[2021-04-28 21:06:01,195] [INFO] [logging.py:60:log_dist] [Rank 0] step=1530, skipped=21, lr=[5e-05], mom=[[0.9, 0.999]]\n",
            "[2021-04-28 21:06:01,197] [INFO] [timer.py:157:stop] 0/1530, SamplesPerSec=8.314839465282489\n",
            "[2021-04-28 21:06:05,963] [INFO] [logging.py:60:log_dist] [Rank 0] step=1540, skipped=21, lr=[5e-05], mom=[[0.9, 0.999]]\n",
            "[2021-04-28 21:06:05,964] [INFO] [timer.py:157:stop] 0/1540, SamplesPerSec=8.316637752750065\n",
            "[2021-04-28 21:06:10,960] [INFO] [logging.py:60:log_dist] [Rank 0] step=1550, skipped=21, lr=[5e-05], mom=[[0.9, 0.999]]\n",
            "[2021-04-28 21:06:10,962] [INFO] [timer.py:157:stop] 0/1550, SamplesPerSec=8.315897371156408\n",
            "[2021-04-28 21:06:16,195] [INFO] [logging.py:60:log_dist] [Rank 0] step=1560, skipped=21, lr=[5e-05], mom=[[0.9, 0.999]]\n",
            "[2021-04-28 21:06:16,203] [INFO] [timer.py:157:stop] 0/1560, SamplesPerSec=8.312714691588514\n",
            "[2021-04-28 21:06:21,100] [INFO] [logging.py:60:log_dist] [Rank 0] step=1570, skipped=21, lr=[5e-05], mom=[[0.9, 0.999]]\n",
            "[2021-04-28 21:06:21,102] [INFO] [timer.py:157:stop] 0/1570, SamplesPerSec=8.312995913038046\n",
            "[2021-04-28 21:06:25,956] [INFO] [logging.py:60:log_dist] [Rank 0] step=1580, skipped=21, lr=[5e-05], mom=[[0.9, 0.999]]\n",
            "[2021-04-28 21:06:25,963] [INFO] [timer.py:157:stop] 0/1580, SamplesPerSec=8.313855976592917\n",
            "[2021-04-28 21:06:30,991] [INFO] [logging.py:60:log_dist] [Rank 0] step=1590, skipped=21, lr=[5e-05], mom=[[0.9, 0.999]]\n",
            "[2021-04-28 21:06:30,997] [INFO] [timer.py:157:stop] 0/1590, SamplesPerSec=8.31268467815975\n",
            "[2021-04-28 21:06:36,302] [INFO] [logging.py:60:log_dist] [Rank 0] step=1600, skipped=21, lr=[5e-05], mom=[[0.9, 0.999]]\n",
            "[2021-04-28 21:06:36,303] [INFO] [timer.py:157:stop] 0/1600, SamplesPerSec=8.308762294399582\n",
            "[2021-04-28 21:06:41,209] [INFO] [logging.py:60:log_dist] [Rank 0] step=1610, skipped=21, lr=[5e-05], mom=[[0.9, 0.999]]\n",
            "[2021-04-28 21:06:41,211] [INFO] [timer.py:157:stop] 0/1610, SamplesPerSec=8.309123756673197\n",
            "[2021-04-28 21:06:46,111] [INFO] [logging.py:60:log_dist] [Rank 0] step=1620, skipped=21, lr=[5e-05], mom=[[0.9, 0.999]]\n",
            "[2021-04-28 21:06:46,113] [INFO] [timer.py:157:stop] 0/1620, SamplesPerSec=8.309504506058824\n",
            "[2021-04-28 21:06:51,012] [INFO] [logging.py:60:log_dist] [Rank 0] step=1630, skipped=21, lr=[5e-05], mom=[[0.9, 0.999]]\n",
            "[2021-04-28 21:06:51,014] [INFO] [timer.py:157:stop] 0/1630, SamplesPerSec=8.309867172180478\n",
            "[2021-04-28 21:06:55,754] [INFO] [logging.py:60:log_dist] [Rank 0] step=1640, skipped=21, lr=[5e-05], mom=[[0.9, 0.999]]\n",
            "[2021-04-28 21:06:55,756] [INFO] [timer.py:157:stop] 0/1640, SamplesPerSec=8.31189363396335\n",
            "[2021-04-28 21:07:00,894] [INFO] [logging.py:60:log_dist] [Rank 0] step=1650, skipped=21, lr=[5e-05], mom=[[0.9, 0.999]]\n",
            "[2021-04-28 21:07:00,895] [INFO] [timer.py:157:stop] 0/1650, SamplesPerSec=8.309846460898816\n",
            "[2021-04-28 21:07:05,911] [INFO] [logging.py:60:log_dist] [Rank 0] step=1660, skipped=21, lr=[5e-05], mom=[[0.9, 0.999]]\n",
            "[2021-04-28 21:07:05,917] [INFO] [timer.py:157:stop] 0/1660, SamplesPerSec=8.308991506486208\n",
            "[2021-04-28 21:07:11,189] [INFO] [logging.py:60:log_dist] [Rank 0] step=1670, skipped=21, lr=[5e-05], mom=[[0.9, 0.999]]\n",
            "[2021-04-28 21:07:11,196] [INFO] [timer.py:157:stop] 0/1670, SamplesPerSec=8.305592662724429\n",
            "[2021-04-28 21:07:16,082] [INFO] [logging.py:60:log_dist] [Rank 0] step=1680, skipped=21, lr=[5e-05], mom=[[0.9, 0.999]]\n",
            "[2021-04-28 21:07:16,084] [INFO] [timer.py:157:stop] 0/1680, SamplesPerSec=8.306115161398376\n",
            "[2021-04-28 21:07:20,789] [INFO] [logging.py:60:log_dist] [Rank 0] step=1690, skipped=21, lr=[5e-05], mom=[[0.9, 0.999]]\n",
            "[2021-04-28 21:07:20,791] [INFO] [timer.py:157:stop] 0/1690, SamplesPerSec=8.30836306823598\n",
            "[2021-04-28 21:07:25,647] [INFO] [logging.py:60:log_dist] [Rank 0] step=1700, skipped=21, lr=[5e-05], mom=[[0.9, 0.999]]\n",
            "[2021-04-28 21:07:25,649] [INFO] [timer.py:157:stop] 0/1700, SamplesPerSec=8.309214480830269\n",
            "[2021-04-28 21:07:30,721] [INFO] [logging.py:60:log_dist] [Rank 0] step=1710, skipped=21, lr=[5e-05], mom=[[0.9, 0.999]]\n",
            "[2021-04-28 21:07:30,727] [INFO] [timer.py:157:stop] 0/1710, SamplesPerSec=8.307809217061608\n",
            "[2021-04-28 21:07:35,502] [INFO] [logging.py:60:log_dist] [Rank 0] step=1720, skipped=21, lr=[5e-05], mom=[[0.9, 0.999]]\n",
            "[2021-04-28 21:07:35,503] [INFO] [timer.py:157:stop] 0/1720, SamplesPerSec=8.309270607831792\n",
            "[2021-04-28 21:07:40,589] [INFO] [logging.py:60:log_dist] [Rank 0] step=1730, skipped=21, lr=[5e-05], mom=[[0.9, 0.999]]\n",
            "[2021-04-28 21:07:40,590] [INFO] [timer.py:157:stop] 0/1730, SamplesPerSec=8.30785740490582\n",
            "[2021-04-28 21:07:45,516] [INFO] [logging.py:60:log_dist] [Rank 0] step=1740, skipped=21, lr=[5e-05], mom=[[0.9, 0.999]]\n",
            "[2021-04-28 21:07:45,518] [INFO] [timer.py:157:stop] 0/1740, SamplesPerSec=8.307845751240578\n",
            "[2021-04-28 21:07:50,580] [INFO] [logging.py:60:log_dist] [Rank 0] step=1750, skipped=21, lr=[5e-05], mom=[[0.9, 0.999]]\n",
            "[2021-04-28 21:07:50,582] [INFO] [timer.py:157:stop] 0/1750, SamplesPerSec=8.306594810616861\n",
            "[2021-04-28 21:07:55,549] [INFO] [logging.py:60:log_dist] [Rank 0] step=1760, skipped=21, lr=[5e-05], mom=[[0.9, 0.999]]\n",
            "[2021-04-28 21:07:55,551] [INFO] [timer.py:157:stop] 0/1760, SamplesPerSec=8.306347738877756\n",
            "[2021-04-28 21:08:00,392] [INFO] [logging.py:60:log_dist] [Rank 0] step=1770, skipped=21, lr=[5e-05], mom=[[0.9, 0.999]]\n",
            "[2021-04-28 21:08:00,393] [INFO] [timer.py:157:stop] 0/1770, SamplesPerSec=8.307357299888274\n",
            "[2021-04-28 21:08:05,232] [INFO] [logging.py:60:log_dist] [Rank 0] step=1780, skipped=21, lr=[5e-05], mom=[[0.9, 0.999]]\n",
            "[2021-04-28 21:08:05,233] [INFO] [timer.py:157:stop] 0/1780, SamplesPerSec=8.308189406328344\n",
            "[2021-04-28 21:08:10,073] [INFO] [logging.py:60:log_dist] [Rank 0] step=1790, skipped=21, lr=[5e-05], mom=[[0.9, 0.999]]\n",
            "[2021-04-28 21:08:10,075] [INFO] [timer.py:157:stop] 0/1790, SamplesPerSec=8.309128131587855\n",
            "[2021-04-28 21:08:15,218] [INFO] [logging.py:60:log_dist] [Rank 0] step=1800, skipped=21, lr=[5e-05], mom=[[0.9, 0.999]]\n",
            "[2021-04-28 21:08:15,220] [INFO] [timer.py:157:stop] 0/1800, SamplesPerSec=8.30719551343503\n",
            "[2021-04-28 21:08:20,232] [INFO] [logging.py:60:log_dist] [Rank 0] step=1810, skipped=21, lr=[5e-05], mom=[[0.9, 0.999]]\n",
            "[2021-04-28 21:08:20,233] [INFO] [timer.py:157:stop] 0/1810, SamplesPerSec=8.306464274459016\n",
            "[2021-04-28 21:08:25,359] [INFO] [logging.py:60:log_dist] [Rank 0] step=1820, skipped=21, lr=[5e-05], mom=[[0.9, 0.999]]\n",
            "[2021-04-28 21:08:25,360] [INFO] [timer.py:157:stop] 0/1820, SamplesPerSec=8.304745220977235\n",
            "[2021-04-28 21:08:30,362] [INFO] [logging.py:60:log_dist] [Rank 0] step=1830, skipped=21, lr=[5e-05], mom=[[0.9, 0.999]]\n",
            "[2021-04-28 21:08:30,364] [INFO] [timer.py:157:stop] 0/1830, SamplesPerSec=8.304160225852769\n",
            "[2021-04-28 21:08:35,215] [INFO] [logging.py:60:log_dist] [Rank 0] step=1840, skipped=21, lr=[5e-05], mom=[[0.9, 0.999]]\n",
            "[2021-04-28 21:08:35,217] [INFO] [timer.py:157:stop] 0/1840, SamplesPerSec=8.305011185256614\n",
            "[2021-04-28 21:08:40,191] [INFO] [logging.py:60:log_dist] [Rank 0] step=1850, skipped=21, lr=[5e-05], mom=[[0.9, 0.999]]\n",
            "[2021-04-28 21:08:40,193] [INFO] [timer.py:157:stop] 0/1850, SamplesPerSec=8.304586489989891\n",
            "[2021-04-28 21:08:45,257] [INFO] [logging.py:60:log_dist] [Rank 0] step=1860, skipped=21, lr=[5e-05], mom=[[0.9, 0.999]]\n",
            "[2021-04-28 21:08:45,258] [INFO] [timer.py:157:stop] 0/1860, SamplesPerSec=8.303473562600935\n",
            "[2021-04-28 21:08:50,200] [INFO] [logging.py:60:log_dist] [Rank 0] step=1870, skipped=21, lr=[5e-05], mom=[[0.9, 0.999]]\n",
            "[2021-04-28 21:08:50,205] [INFO] [timer.py:157:stop] 0/1870, SamplesPerSec=8.303421586599221\n",
            "[2021-04-28 21:08:54,885] [INFO] [logging.py:60:log_dist] [Rank 0] step=1880, skipped=21, lr=[5e-05], mom=[[0.9, 0.999]]\n",
            "[2021-04-28 21:08:54,887] [INFO] [timer.py:157:stop] 0/1880, SamplesPerSec=8.305776146359971\n",
            "[2021-04-28 21:08:59,948] [INFO] [logging.py:60:log_dist] [Rank 0] step=1890, skipped=21, lr=[5e-05], mom=[[0.9, 0.999]]\n",
            "[2021-04-28 21:08:59,955] [INFO] [timer.py:157:stop] 0/1890, SamplesPerSec=8.30466326290536\n",
            "[2021-04-28 21:09:04,984] [INFO] [logging.py:60:log_dist] [Rank 0] step=1900, skipped=21, lr=[5e-05], mom=[[0.9, 0.999]]\n",
            "[2021-04-28 21:09:04,992] [INFO] [timer.py:157:stop] 0/1900, SamplesPerSec=8.303745941167678\n",
            "[2021-04-28 21:09:09,541] [INFO] [logging.py:60:log_dist] [Rank 0] step=1910, skipped=21, lr=[5e-05], mom=[[0.9, 0.999]]\n",
            "[2021-04-28 21:09:09,543] [INFO] [timer.py:157:stop] 0/1910, SamplesPerSec=8.307323687374883\n",
            "[2021-04-28 21:09:14,709] [INFO] [logging.py:60:log_dist] [Rank 0] step=1920, skipped=21, lr=[5e-05], mom=[[0.9, 0.999]]\n",
            "[2021-04-28 21:09:14,711] [INFO] [timer.py:157:stop] 0/1920, SamplesPerSec=8.305235793062868\n",
            "[2021-04-28 21:09:19,680] [INFO] [logging.py:60:log_dist] [Rank 0] step=1930, skipped=21, lr=[5e-05], mom=[[0.9, 0.999]]\n",
            "[2021-04-28 21:09:19,682] [INFO] [timer.py:157:stop] 0/1930, SamplesPerSec=8.305066193337767\n",
            "[2021-04-28 21:09:24,453] [INFO] [logging.py:60:log_dist] [Rank 0] step=1940, skipped=21, lr=[5e-05], mom=[[0.9, 0.999]]\n",
            "[2021-04-28 21:09:24,455] [INFO] [timer.py:157:stop] 0/1940, SamplesPerSec=8.306434451997626\n",
            "[2021-04-28 21:09:29,229] [INFO] [logging.py:60:log_dist] [Rank 0] step=1950, skipped=21, lr=[5e-05], mom=[[0.9, 0.999]]\n",
            "[2021-04-28 21:09:29,230] [INFO] [timer.py:157:stop] 0/1950, SamplesPerSec=8.307869545671418\n",
            "[2021-04-28 21:09:34,256] [INFO] [logging.py:60:log_dist] [Rank 0] step=1960, skipped=21, lr=[5e-05], mom=[[0.9, 0.999]]\n",
            "[2021-04-28 21:09:34,258] [INFO] [timer.py:157:stop] 0/1960, SamplesPerSec=8.30709936890381\n",
            "[2021-04-28 21:09:39,171] [INFO] [logging.py:60:log_dist] [Rank 0] step=1970, skipped=21, lr=[5e-05], mom=[[0.9, 0.999]]\n",
            "[2021-04-28 21:09:39,173] [INFO] [timer.py:157:stop] 0/1970, SamplesPerSec=8.30734978680738\n",
            "[2021-04-28 21:09:44,139] [INFO] [logging.py:60:log_dist] [Rank 0] step=1980, skipped=21, lr=[5e-05], mom=[[0.9, 0.999]]\n",
            "[2021-04-28 21:09:44,140] [INFO] [timer.py:157:stop] 0/1980, SamplesPerSec=8.30710251509403\n",
            "[2021-04-28 21:09:49,392] [INFO] [logging.py:60:log_dist] [Rank 0] step=1990, skipped=21, lr=[5e-05], mom=[[0.9, 0.999]]\n",
            "[2021-04-28 21:09:49,394] [INFO] [timer.py:157:stop] 0/1990, SamplesPerSec=8.304380918873052\n",
            "[2021-04-28 21:09:54,226] [INFO] [logging.py:60:log_dist] [Rank 0] step=2000, skipped=21, lr=[5e-05], mom=[[0.9, 0.999]]\n",
            "[2021-04-28 21:09:54,227] [INFO] [timer.py:157:stop] 0/2000, SamplesPerSec=8.305327031537079\n",
            "[2021-04-28 21:09:54,591] [INFO] [logging.py:60:log_dist] [Rank 0] Saving model checkpoint: test-summarization/checkpoint-2000/global_step2000/mp_rank_00_model_states.pt\n",
            "[2021-04-28 21:09:57,609] [INFO] [engine.py:1717:_copy_recovery_script] creating recovery script test-summarization/checkpoint-2000/zero_to_fp32.py\n",
            "[2021-04-28 21:09:57,611] [INFO] [engine.py:1730:_save_zero_checkpoint] zero checkpoint saved test-summarization/checkpoint-2000/global_step2000/zero_pp_rank_0_mp_rank_00_optim_states.pt\n",
            "[2021-04-28 21:10:02,364] [INFO] [logging.py:60:log_dist] [Rank 0] step=2010, skipped=21, lr=[5e-05], mom=[[0.9, 0.999]]\n",
            "[2021-04-28 21:10:02,366] [INFO] [timer.py:157:stop] 0/2010, SamplesPerSec=8.306977925921046\n",
            "[2021-04-28 21:10:07,423] [INFO] [logging.py:60:log_dist] [Rank 0] step=2020, skipped=21, lr=[5e-05], mom=[[0.9, 0.999]]\n",
            "[2021-04-28 21:10:07,425] [INFO] [timer.py:157:stop] 0/2020, SamplesPerSec=8.30593370349627\n",
            "[2021-04-28 21:10:12,563] [INFO] [logging.py:60:log_dist] [Rank 0] step=2030, skipped=21, lr=[5e-05], mom=[[0.9, 0.999]]\n",
            "[2021-04-28 21:10:12,564] [INFO] [timer.py:157:stop] 0/2030, SamplesPerSec=8.304249232981787\n",
            "[2021-04-28 21:10:17,315] [INFO] [logging.py:60:log_dist] [Rank 0] step=2040, skipped=21, lr=[5e-05], mom=[[0.9, 0.999]]\n",
            "[2021-04-28 21:10:17,317] [INFO] [timer.py:157:stop] 0/2040, SamplesPerSec=8.305807615802498\n",
            "[2021-04-28 21:10:22,383] [INFO] [logging.py:60:log_dist] [Rank 0] step=2050, skipped=21, lr=[5e-05], mom=[[0.9, 0.999]]\n",
            "[2021-04-28 21:10:22,384] [INFO] [timer.py:157:stop] 0/2050, SamplesPerSec=8.304706886513845\n",
            "[2021-04-28 21:10:27,235] [INFO] [logging.py:60:log_dist] [Rank 0] step=2060, skipped=21, lr=[5e-05], mom=[[0.9, 0.999]]\n",
            "[2021-04-28 21:10:27,236] [INFO] [timer.py:157:stop] 0/2060, SamplesPerSec=8.305510925316632\n",
            "[2021-04-28 21:10:31,830] [INFO] [logging.py:60:log_dist] [Rank 0] step=2070, skipped=21, lr=[5e-05], mom=[[0.9, 0.999]]\n",
            "[2021-04-28 21:10:31,832] [INFO] [timer.py:157:stop] 0/2070, SamplesPerSec=8.308336452935194\n",
            "[2021-04-28 21:10:36,981] [INFO] [logging.py:60:log_dist] [Rank 0] step=2080, skipped=21, lr=[5e-05], mom=[[0.9, 0.999]]\n",
            "[2021-04-28 21:10:36,983] [INFO] [timer.py:157:stop] 0/2080, SamplesPerSec=8.306636092346851\n",
            "[2021-04-28 21:10:42,125] [INFO] [logging.py:60:log_dist] [Rank 0] step=2090, skipped=21, lr=[5e-05], mom=[[0.9, 0.999]]\n",
            "[2021-04-28 21:10:42,126] [INFO] [timer.py:157:stop] 0/2090, SamplesPerSec=8.304926992810493\n",
            "[2021-04-28 21:10:47,367] [INFO] [logging.py:60:log_dist] [Rank 0] step=2100, skipped=21, lr=[5e-05], mom=[[0.9, 0.999]]\n",
            "[2021-04-28 21:10:47,375] [INFO] [timer.py:157:stop] 0/2100, SamplesPerSec=8.302419393132023\n",
            "[2021-04-28 21:10:52,037] [INFO] [logging.py:60:log_dist] [Rank 0] step=2110, skipped=21, lr=[5e-05], mom=[[0.9, 0.999]]\n",
            "[2021-04-28 21:10:52,041] [INFO] [timer.py:157:stop] 0/2110, SamplesPerSec=8.304601905147347\n",
            "[2021-04-28 21:10:56,747] [INFO] [logging.py:60:log_dist] [Rank 0] step=2120, skipped=21, lr=[5e-05], mom=[[0.9, 0.999]]\n",
            "[2021-04-28 21:10:56,748] [INFO] [timer.py:157:stop] 0/2120, SamplesPerSec=8.306426440473027\n",
            "[2021-04-28 21:11:01,817] [INFO] [logging.py:60:log_dist] [Rank 0] step=2130, skipped=21, lr=[5e-05], mom=[[0.9, 0.999]]\n",
            "[2021-04-28 21:11:01,818] [INFO] [timer.py:157:stop] 0/2130, SamplesPerSec=8.305398395206668\n",
            "[2021-04-28 21:11:06,827] [INFO] [logging.py:60:log_dist] [Rank 0] step=2140, skipped=21, lr=[5e-05], mom=[[0.9, 0.999]]\n",
            "[2021-04-28 21:11:06,834] [INFO] [timer.py:157:stop] 0/2140, SamplesPerSec=8.30477651910842\n",
            "[2021-04-28 21:11:11,980] [INFO] [logging.py:60:log_dist] [Rank 0] step=2150, skipped=21, lr=[5e-05], mom=[[0.9, 0.999]]\n",
            "[2021-04-28 21:11:11,988] [INFO] [timer.py:157:stop] 0/2150, SamplesPerSec=8.302956767923142\n",
            "[2021-04-28 21:11:16,946] [INFO] [logging.py:60:log_dist] [Rank 0] step=2160, skipped=21, lr=[5e-05], mom=[[0.9, 0.999]]\n",
            "[2021-04-28 21:11:16,948] [INFO] [timer.py:157:stop] 0/2160, SamplesPerSec=8.302730562803392\n",
            "[2021-04-28 21:11:21,853] [INFO] [logging.py:60:log_dist] [Rank 0] step=2170, skipped=21, lr=[5e-05], mom=[[0.9, 0.999]]\n",
            "[2021-04-28 21:11:21,860] [INFO] [timer.py:157:stop] 0/2170, SamplesPerSec=8.302918588488511\n",
            "[2021-04-28 21:11:26,485] [INFO] [logging.py:60:log_dist] [Rank 0] step=2180, skipped=21, lr=[5e-05], mom=[[0.9, 0.999]]\n",
            "[2021-04-28 21:11:26,486] [INFO] [timer.py:157:stop] 0/2180, SamplesPerSec=8.305392727694723\n",
            "[2021-04-28 21:11:31,650] [INFO] [logging.py:60:log_dist] [Rank 0] step=2190, skipped=21, lr=[5e-05], mom=[[0.9, 0.999]]\n",
            "[2021-04-28 21:11:31,652] [INFO] [timer.py:157:stop] 0/2190, SamplesPerSec=8.303664048114987\n",
            "[2021-04-28 21:11:36,371] [INFO] [logging.py:60:log_dist] [Rank 0] step=2200, skipped=21, lr=[5e-05], mom=[[0.9, 0.999]]\n",
            "[2021-04-28 21:11:36,377] [INFO] [timer.py:157:stop] 0/2200, SamplesPerSec=8.305283905386085\n",
            "[2021-04-28 21:11:41,712] [INFO] [logging.py:60:log_dist] [Rank 0] step=2210, skipped=21, lr=[5e-05], mom=[[0.9, 0.999]]\n",
            "[2021-04-28 21:11:41,714] [INFO] [timer.py:157:stop] 0/2210, SamplesPerSec=8.30222796732287\n",
            "[2021-04-28 21:11:46,775] [INFO] [logging.py:60:log_dist] [Rank 0] step=2220, skipped=21, lr=[5e-05], mom=[[0.9, 0.999]]\n",
            "[2021-04-28 21:11:46,777] [INFO] [timer.py:157:stop] 0/2220, SamplesPerSec=8.30127077740157\n",
            "[2021-04-28 21:11:51,786] [INFO] [logging.py:60:log_dist] [Rank 0] step=2230, skipped=21, lr=[5e-05], mom=[[0.9, 0.999]]\n",
            "[2021-04-28 21:11:51,788] [INFO] [timer.py:157:stop] 0/2230, SamplesPerSec=8.300681251138172\n",
            "[2021-04-28 21:11:56,684] [INFO] [logging.py:60:log_dist] [Rank 0] step=2240, skipped=21, lr=[5e-05], mom=[[0.9, 0.999]]\n",
            "[2021-04-28 21:11:56,685] [INFO] [timer.py:157:stop] 0/2240, SamplesPerSec=8.301026445957472\n",
            "[2021-04-28 21:12:01,566] [INFO] [logging.py:60:log_dist] [Rank 0] step=2250, skipped=21, lr=[5e-05], mom=[[0.9, 0.999]]\n",
            "[2021-04-28 21:12:01,568] [INFO] [timer.py:157:stop] 0/2250, SamplesPerSec=8.30141208162205\n",
            "[2021-04-28 21:12:06,625] [INFO] [logging.py:60:log_dist] [Rank 0] step=2260, skipped=21, lr=[5e-05], mom=[[0.9, 0.999]]\n",
            "[2021-04-28 21:12:06,627] [INFO] [timer.py:157:stop] 0/2260, SamplesPerSec=8.30052848773286\n",
            "[2021-04-28 21:12:11,902] [INFO] [logging.py:60:log_dist] [Rank 0] step=2270, skipped=21, lr=[5e-05], mom=[[0.9, 0.999]]\n",
            "[2021-04-28 21:12:11,903] [INFO] [timer.py:157:stop] 0/2270, SamplesPerSec=8.298079934143402\n",
            "[2021-04-28 21:12:16,805] [INFO] [logging.py:60:log_dist] [Rank 0] step=2280, skipped=21, lr=[5e-05], mom=[[0.9, 0.999]]\n",
            "[2021-04-28 21:12:16,811] [INFO] [timer.py:157:stop] 0/2280, SamplesPerSec=8.298357891865377\n",
            "[2021-04-28 21:12:21,703] [INFO] [logging.py:60:log_dist] [Rank 0] step=2290, skipped=21, lr=[5e-05], mom=[[0.9, 0.999]]\n",
            "[2021-04-28 21:12:21,705] [INFO] [timer.py:157:stop] 0/2290, SamplesPerSec=8.298717420912894\n",
            "[2021-04-28 21:12:26,585] [INFO] [logging.py:60:log_dist] [Rank 0] step=2300, skipped=21, lr=[5e-05], mom=[[0.9, 0.999]]\n",
            "[2021-04-28 21:12:26,587] [INFO] [timer.py:157:stop] 0/2300, SamplesPerSec=8.29918504675534\n",
            "[2021-04-28 21:12:31,431] [INFO] [logging.py:60:log_dist] [Rank 0] step=2310, skipped=21, lr=[5e-05], mom=[[0.9, 0.999]]\n",
            "[2021-04-28 21:12:31,432] [INFO] [timer.py:157:stop] 0/2310, SamplesPerSec=8.299853366982974\n",
            "[2021-04-28 21:12:36,587] [INFO] [logging.py:60:log_dist] [Rank 0] step=2320, skipped=21, lr=[5e-05], mom=[[0.9, 0.999]]\n",
            "[2021-04-28 21:12:36,588] [INFO] [timer.py:157:stop] 0/2320, SamplesPerSec=8.298299866860717\n",
            "[2021-04-28 21:12:41,461] [INFO] [logging.py:60:log_dist] [Rank 0] step=2330, skipped=21, lr=[5e-05], mom=[[0.9, 0.999]]\n",
            "[2021-04-28 21:12:41,463] [INFO] [timer.py:157:stop] 0/2330, SamplesPerSec=8.298748236174445\n",
            "[2021-04-28 21:12:46,301] [INFO] [logging.py:60:log_dist] [Rank 0] step=2340, skipped=21, lr=[5e-05], mom=[[0.9, 0.999]]\n",
            "[2021-04-28 21:12:46,303] [INFO] [timer.py:157:stop] 0/2340, SamplesPerSec=8.299526212173635\n",
            "[2021-04-28 21:12:51,358] [INFO] [logging.py:60:log_dist] [Rank 0] step=2350, skipped=21, lr=[5e-05], mom=[[0.9, 0.999]]\n",
            "[2021-04-28 21:12:51,360] [INFO] [timer.py:157:stop] 0/2350, SamplesPerSec=8.298669595470347\n",
            "[2021-04-28 21:12:56,450] [INFO] [logging.py:60:log_dist] [Rank 0] step=2360, skipped=21, lr=[5e-05], mom=[[0.9, 0.999]]\n",
            "[2021-04-28 21:12:56,455] [INFO] [timer.py:157:stop] 0/2360, SamplesPerSec=8.297656065229353\n",
            "[2021-04-28 21:13:01,028] [INFO] [logging.py:60:log_dist] [Rank 0] step=2370, skipped=21, lr=[5e-05], mom=[[0.9, 0.999]]\n",
            "[2021-04-28 21:13:01,036] [INFO] [timer.py:157:stop] 0/2370, SamplesPerSec=8.30032292093989\n",
            "[2021-04-28 21:13:05,967] [INFO] [logging.py:60:log_dist] [Rank 0] step=2380, skipped=21, lr=[5e-05], mom=[[0.9, 0.999]]\n",
            "[2021-04-28 21:13:05,969] [INFO] [timer.py:157:stop] 0/2380, SamplesPerSec=8.300370691211828\n",
            "[2021-04-28 21:13:11,208] [INFO] [logging.py:60:log_dist] [Rank 0] step=2390, skipped=21, lr=[5e-05], mom=[[0.9, 0.999]]\n",
            "[2021-04-28 21:13:11,209] [INFO] [timer.py:157:stop] 0/2390, SamplesPerSec=8.298216387210468\n",
            "[2021-04-28 21:13:16,104] [INFO] [logging.py:60:log_dist] [Rank 0] step=2400, skipped=21, lr=[5e-05], mom=[[0.9, 0.999]]\n",
            "[2021-04-28 21:13:16,111] [INFO] [timer.py:157:stop] 0/2400, SamplesPerSec=8.298611352493007\n",
            "[2021-04-28 21:13:20,969] [INFO] [logging.py:60:log_dist] [Rank 0] step=2410, skipped=21, lr=[5e-05], mom=[[0.9, 0.999]]\n",
            "[2021-04-28 21:13:20,971] [INFO] [timer.py:157:stop] 0/2410, SamplesPerSec=8.29920429612668\n",
            "[2021-04-28 21:13:25,932] [INFO] [logging.py:60:log_dist] [Rank 0] step=2420, skipped=21, lr=[5e-05], mom=[[0.9, 0.999]]\n",
            "[2021-04-28 21:13:25,933] [INFO] [timer.py:157:stop] 0/2420, SamplesPerSec=8.299096437612176\n",
            "[2021-04-28 21:13:30,472] [INFO] [logging.py:60:log_dist] [Rank 0] step=2430, skipped=21, lr=[5e-05], mom=[[0.9, 0.999]]\n",
            "[2021-04-28 21:13:30,474] [INFO] [timer.py:157:stop] 0/2430, SamplesPerSec=8.301959511699577\n",
            "[2021-04-28 21:13:35,139] [INFO] [logging.py:60:log_dist] [Rank 0] step=2440, skipped=21, lr=[5e-05], mom=[[0.9, 0.999]]\n",
            "[2021-04-28 21:13:35,140] [INFO] [timer.py:157:stop] 0/2440, SamplesPerSec=8.303965994784482\n",
            "[2021-04-28 21:13:40,123] [INFO] [logging.py:60:log_dist] [Rank 0] step=2450, skipped=21, lr=[5e-05], mom=[[0.9, 0.999]]\n",
            "[2021-04-28 21:13:40,131] [INFO] [timer.py:157:stop] 0/2450, SamplesPerSec=8.30367148785043\n",
            "[2021-04-28 21:13:45,299] [INFO] [logging.py:60:log_dist] [Rank 0] step=2460, skipped=21, lr=[5e-05], mom=[[0.9, 0.999]]\n",
            "[2021-04-28 21:13:45,300] [INFO] [timer.py:157:stop] 0/2460, SamplesPerSec=8.302091156546126\n",
            "[2021-04-28 21:13:50,326] [INFO] [logging.py:60:log_dist] [Rank 0] step=2470, skipped=21, lr=[5e-05], mom=[[0.9, 0.999]]\n",
            "[2021-04-28 21:13:50,333] [INFO] [timer.py:157:stop] 0/2470, SamplesPerSec=8.301426546229251\n",
            "[2021-04-28 21:13:55,586] [INFO] [logging.py:60:log_dist] [Rank 0] step=2480, skipped=21, lr=[5e-05], mom=[[0.9, 0.999]]\n",
            "[2021-04-28 21:13:55,591] [INFO] [timer.py:157:stop] 0/2480, SamplesPerSec=8.299223740989655\n",
            "[2021-04-28 21:14:00,695] [INFO] [logging.py:60:log_dist] [Rank 0] step=2490, skipped=21, lr=[5e-05], mom=[[0.9, 0.999]]\n",
            "[2021-04-28 21:14:00,701] [INFO] [timer.py:157:stop] 0/2490, SamplesPerSec=8.298098411017373\n",
            "[2021-04-28 21:14:05,583] [INFO] [logging.py:60:log_dist] [Rank 0] step=2500, skipped=21, lr=[5e-05], mom=[[0.9, 0.999]]\n",
            "[2021-04-28 21:14:05,585] [INFO] [timer.py:157:stop] 0/2500, SamplesPerSec=8.298508045179549\n",
            "[2021-04-28 21:14:06,008] [INFO] [logging.py:60:log_dist] [Rank 0] Saving model checkpoint: test-summarization/checkpoint-2500/global_step2500/mp_rank_00_model_states.pt\n",
            "[2021-04-28 21:14:08,993] [INFO] [engine.py:1717:_copy_recovery_script] creating recovery script test-summarization/checkpoint-2500/zero_to_fp32.py\n",
            "[2021-04-28 21:14:09,003] [INFO] [engine.py:1730:_save_zero_checkpoint] zero checkpoint saved test-summarization/checkpoint-2500/global_step2500/zero_pp_rank_0_mp_rank_00_optim_states.pt\n",
            "Training time: 1408.9757707118988s\n"
          ],
          "name": "stdout"
        }
      ]
    },
    {
      "cell_type": "code",
      "metadata": {
        "colab": {
          "base_uri": "https://localhost:8080/",
          "height": 414
        },
        "id": "LiJBTGjaFPDK",
        "outputId": "fecab1d2-79cd-4e7e-fcf2-a9b6e1fbbb47"
      },
      "source": [
        "import time\n",
        "start = time.time()\n",
        "trainer.train()\n",
        "stop = time.time()\n",
        "print(f\"Training time: {stop - start}s\")"
      ],
      "execution_count": null,
      "outputs": [
        {
          "output_type": "stream",
          "text": [
            "[2021-04-28 20:21:47,471] [INFO] [logging.py:60:log_dist] [Rank 0] DeepSpeed info: version=0.3.15, git-hash=unknown, git-branch=unknown\n",
            "[2021-04-28 20:21:47,477] [WARNING] [config.py:78:_sanity_check] DeepSpeedConfig: cpu_offload is deprecated. Please use offload_optimizer.\n",
            "[2021-04-28 20:21:47,539] [INFO] [engine.py:80:_initialize_parameter_parallel_groups] data_parallel_size: 1, parameter_parallel_size: 1\n"
          ],
          "name": "stdout"
        },
        {
          "output_type": "error",
          "ename": "Exception",
          "evalue": "ignored",
          "traceback": [
            "\u001b[0;31m---------------------------------------------------------------------------\u001b[0m",
            "\u001b[0;31mException\u001b[0m                                 Traceback (most recent call last)",
            "\u001b[0;32m<ipython-input-64-de541fb63a89>\u001b[0m in \u001b[0;36m<module>\u001b[0;34m()\u001b[0m\n\u001b[1;32m      1\u001b[0m \u001b[0;32mimport\u001b[0m \u001b[0mtime\u001b[0m\u001b[0;34m\u001b[0m\u001b[0;34m\u001b[0m\u001b[0m\n\u001b[1;32m      2\u001b[0m \u001b[0mstart\u001b[0m \u001b[0;34m=\u001b[0m \u001b[0mtime\u001b[0m\u001b[0;34m.\u001b[0m\u001b[0mtime\u001b[0m\u001b[0;34m(\u001b[0m\u001b[0;34m)\u001b[0m\u001b[0;34m\u001b[0m\u001b[0;34m\u001b[0m\u001b[0m\n\u001b[0;32m----> 3\u001b[0;31m \u001b[0mtrainer\u001b[0m\u001b[0;34m.\u001b[0m\u001b[0mtrain\u001b[0m\u001b[0;34m(\u001b[0m\u001b[0;34m)\u001b[0m\u001b[0;34m\u001b[0m\u001b[0;34m\u001b[0m\u001b[0m\n\u001b[0m\u001b[1;32m      4\u001b[0m \u001b[0mstop\u001b[0m \u001b[0;34m=\u001b[0m \u001b[0mtime\u001b[0m\u001b[0;34m.\u001b[0m\u001b[0mtime\u001b[0m\u001b[0;34m(\u001b[0m\u001b[0;34m)\u001b[0m\u001b[0;34m\u001b[0m\u001b[0;34m\u001b[0m\u001b[0m\n\u001b[1;32m      5\u001b[0m \u001b[0mprint\u001b[0m\u001b[0;34m(\u001b[0m\u001b[0;34mf\"Training time: {stop - start}s\"\u001b[0m\u001b[0;34m)\u001b[0m\u001b[0;34m\u001b[0m\u001b[0;34m\u001b[0m\u001b[0m\n",
            "\u001b[0;32m/usr/local/lib/python3.7/dist-packages/transformers/trainer.py\u001b[0m in \u001b[0;36mtrain\u001b[0;34m(self, resume_from_checkpoint, trial, **kwargs)\u001b[0m\n\u001b[1;32m    967\u001b[0m         \u001b[0;32mif\u001b[0m \u001b[0mself\u001b[0m\u001b[0;34m.\u001b[0m\u001b[0margs\u001b[0m\u001b[0;34m.\u001b[0m\u001b[0mdeepspeed\u001b[0m\u001b[0;34m:\u001b[0m\u001b[0;34m\u001b[0m\u001b[0;34m\u001b[0m\u001b[0m\n\u001b[1;32m    968\u001b[0m             model, optimizer, lr_scheduler = init_deepspeed(\n\u001b[0;32m--> 969\u001b[0;31m                 \u001b[0mself\u001b[0m\u001b[0;34m,\u001b[0m \u001b[0mnum_training_steps\u001b[0m\u001b[0;34m=\u001b[0m\u001b[0mmax_steps\u001b[0m\u001b[0;34m,\u001b[0m \u001b[0mresume_from_checkpoint\u001b[0m\u001b[0;34m=\u001b[0m\u001b[0mresume_from_checkpoint\u001b[0m\u001b[0;34m\u001b[0m\u001b[0;34m\u001b[0m\u001b[0m\n\u001b[0m\u001b[1;32m    970\u001b[0m             )\n\u001b[1;32m    971\u001b[0m             \u001b[0mself\u001b[0m\u001b[0;34m.\u001b[0m\u001b[0mmodel\u001b[0m \u001b[0;34m=\u001b[0m \u001b[0mmodel\u001b[0m\u001b[0;34m.\u001b[0m\u001b[0mmodule\u001b[0m\u001b[0;34m\u001b[0m\u001b[0;34m\u001b[0m\u001b[0m\n",
            "\u001b[0;32m/usr/local/lib/python3.7/dist-packages/transformers/integrations.py\u001b[0m in \u001b[0;36minit_deepspeed\u001b[0;34m(trainer, num_training_steps, resume_from_checkpoint)\u001b[0m\n\u001b[1;32m    446\u001b[0m         \u001b[0mconfig_params\u001b[0m\u001b[0;34m=\u001b[0m\u001b[0mconfig\u001b[0m\u001b[0;34m,\u001b[0m\u001b[0;34m\u001b[0m\u001b[0;34m\u001b[0m\u001b[0m\n\u001b[1;32m    447\u001b[0m         \u001b[0moptimizer\u001b[0m\u001b[0;34m=\u001b[0m\u001b[0moptimizer\u001b[0m\u001b[0;34m,\u001b[0m\u001b[0;34m\u001b[0m\u001b[0;34m\u001b[0m\u001b[0m\n\u001b[0;32m--> 448\u001b[0;31m         \u001b[0mlr_scheduler\u001b[0m\u001b[0;34m=\u001b[0m\u001b[0mlr_scheduler\u001b[0m\u001b[0;34m,\u001b[0m\u001b[0;34m\u001b[0m\u001b[0;34m\u001b[0m\u001b[0m\n\u001b[0m\u001b[1;32m    449\u001b[0m     )\n\u001b[1;32m    450\u001b[0m \u001b[0;34m\u001b[0m\u001b[0m\n",
            "\u001b[0;32m/usr/local/lib/python3.7/dist-packages/deepspeed/__init__.py\u001b[0m in \u001b[0;36minitialize\u001b[0;34m(args, model, optimizer, model_parameters, training_data, lr_scheduler, mpu, dist_init_required, collate_fn, config_params)\u001b[0m\n\u001b[1;32m    123\u001b[0m                                  \u001b[0mdist_init_required\u001b[0m\u001b[0;34m=\u001b[0m\u001b[0mdist_init_required\u001b[0m\u001b[0;34m,\u001b[0m\u001b[0;34m\u001b[0m\u001b[0;34m\u001b[0m\u001b[0m\n\u001b[1;32m    124\u001b[0m                                  \u001b[0mcollate_fn\u001b[0m\u001b[0;34m=\u001b[0m\u001b[0mcollate_fn\u001b[0m\u001b[0;34m,\u001b[0m\u001b[0;34m\u001b[0m\u001b[0;34m\u001b[0m\u001b[0m\n\u001b[0;32m--> 125\u001b[0;31m                                  config_params=config_params)\n\u001b[0m\u001b[1;32m    126\u001b[0m     \u001b[0;32melse\u001b[0m\u001b[0;34m:\u001b[0m\u001b[0;34m\u001b[0m\u001b[0;34m\u001b[0m\u001b[0m\n\u001b[1;32m    127\u001b[0m         \u001b[0;32massert\u001b[0m \u001b[0mmpu\u001b[0m \u001b[0;32mis\u001b[0m \u001b[0;32mNone\u001b[0m\u001b[0;34m,\u001b[0m \u001b[0;34m\"mpu must be None with pipeline parallelism\"\u001b[0m\u001b[0;34m\u001b[0m\u001b[0;34m\u001b[0m\u001b[0m\n",
            "\u001b[0;32m/usr/local/lib/python3.7/dist-packages/deepspeed/runtime/engine.py\u001b[0m in \u001b[0;36m__init__\u001b[0;34m(self, args, model, optimizer, model_parameters, training_data, lr_scheduler, mpu, dist_init_required, collate_fn, config_params, dont_change_device)\u001b[0m\n\u001b[1;32m    184\u001b[0m         \u001b[0mself\u001b[0m\u001b[0;34m.\u001b[0m\u001b[0mlr_scheduler\u001b[0m \u001b[0;34m=\u001b[0m \u001b[0;32mNone\u001b[0m\u001b[0;34m\u001b[0m\u001b[0;34m\u001b[0m\u001b[0m\n\u001b[1;32m    185\u001b[0m         \u001b[0;32mif\u001b[0m \u001b[0mmodel_parameters\u001b[0m \u001b[0;32mor\u001b[0m \u001b[0moptimizer\u001b[0m\u001b[0;34m:\u001b[0m\u001b[0;34m\u001b[0m\u001b[0;34m\u001b[0m\u001b[0m\n\u001b[0;32m--> 186\u001b[0;31m             \u001b[0mself\u001b[0m\u001b[0;34m.\u001b[0m\u001b[0m_configure_optimizer\u001b[0m\u001b[0;34m(\u001b[0m\u001b[0moptimizer\u001b[0m\u001b[0;34m,\u001b[0m \u001b[0mmodel_parameters\u001b[0m\u001b[0;34m)\u001b[0m\u001b[0;34m\u001b[0m\u001b[0;34m\u001b[0m\u001b[0m\n\u001b[0m\u001b[1;32m    187\u001b[0m             \u001b[0mself\u001b[0m\u001b[0;34m.\u001b[0m\u001b[0m_configure_lr_scheduler\u001b[0m\u001b[0;34m(\u001b[0m\u001b[0mlr_scheduler\u001b[0m\u001b[0;34m)\u001b[0m\u001b[0;34m\u001b[0m\u001b[0;34m\u001b[0m\u001b[0m\n\u001b[1;32m    188\u001b[0m             \u001b[0mself\u001b[0m\u001b[0;34m.\u001b[0m\u001b[0m_report_progress\u001b[0m\u001b[0;34m(\u001b[0m\u001b[0;36m0\u001b[0m\u001b[0;34m)\u001b[0m\u001b[0;34m\u001b[0m\u001b[0;34m\u001b[0m\u001b[0m\n",
            "\u001b[0;32m/usr/local/lib/python3.7/dist-packages/deepspeed/runtime/engine.py\u001b[0m in \u001b[0;36m_configure_optimizer\u001b[0;34m(self, client_optimizer, model_parameters)\u001b[0m\n\u001b[1;32m    609\u001b[0m                 \u001b[0mlogger\u001b[0m\u001b[0;34m.\u001b[0m\u001b[0minfo\u001b[0m\u001b[0;34m(\u001b[0m\u001b[0;34m'Using client Optimizer as basic optimizer'\u001b[0m\u001b[0;34m)\u001b[0m\u001b[0;34m\u001b[0m\u001b[0;34m\u001b[0m\u001b[0m\n\u001b[1;32m    610\u001b[0m         \u001b[0;32melse\u001b[0m\u001b[0;34m:\u001b[0m\u001b[0;34m\u001b[0m\u001b[0;34m\u001b[0m\u001b[0m\n\u001b[0;32m--> 611\u001b[0;31m             \u001b[0mbasic_optimizer\u001b[0m \u001b[0;34m=\u001b[0m \u001b[0mself\u001b[0m\u001b[0;34m.\u001b[0m\u001b[0m_configure_basic_optimizer\u001b[0m\u001b[0;34m(\u001b[0m\u001b[0mmodel_parameters\u001b[0m\u001b[0;34m)\u001b[0m\u001b[0;34m\u001b[0m\u001b[0;34m\u001b[0m\u001b[0m\n\u001b[0m\u001b[1;32m    612\u001b[0m             \u001b[0;32mif\u001b[0m \u001b[0mself\u001b[0m\u001b[0;34m.\u001b[0m\u001b[0mglobal_rank\u001b[0m \u001b[0;34m==\u001b[0m \u001b[0;36m0\u001b[0m\u001b[0;34m:\u001b[0m\u001b[0;34m\u001b[0m\u001b[0;34m\u001b[0m\u001b[0m\n\u001b[1;32m    613\u001b[0m                 logger.info(\n",
            "\u001b[0;32m/usr/local/lib/python3.7/dist-packages/deepspeed/runtime/engine.py\u001b[0m in \u001b[0;36m_configure_basic_optimizer\u001b[0;34m(self, model_parameters)\u001b[0m\n\u001b[1;32m    678\u001b[0m                     optimizer = DeepSpeedCPUAdam(model_parameters,\n\u001b[1;32m    679\u001b[0m                                                  \u001b[0;34m**\u001b[0m\u001b[0moptimizer_parameters\u001b[0m\u001b[0;34m,\u001b[0m\u001b[0;34m\u001b[0m\u001b[0;34m\u001b[0m\u001b[0m\n\u001b[0;32m--> 680\u001b[0;31m                                                  adamw_mode=effective_adam_w_mode)\n\u001b[0m\u001b[1;32m    681\u001b[0m                 \u001b[0;32melse\u001b[0m\u001b[0;34m:\u001b[0m\u001b[0;34m\u001b[0m\u001b[0;34m\u001b[0m\u001b[0m\n\u001b[1;32m    682\u001b[0m                     \u001b[0;32mfrom\u001b[0m \u001b[0mdeepspeed\u001b[0m\u001b[0;34m.\u001b[0m\u001b[0mops\u001b[0m\u001b[0;34m.\u001b[0m\u001b[0madam\u001b[0m \u001b[0;32mimport\u001b[0m \u001b[0mFusedAdam\u001b[0m\u001b[0;34m\u001b[0m\u001b[0;34m\u001b[0m\u001b[0m\n",
            "\u001b[0;32m/usr/local/lib/python3.7/dist-packages/deepspeed/ops/adam/cpu_adam.py\u001b[0m in \u001b[0;36m__init__\u001b[0;34m(self, model_params, lr, bias_correction, betas, eps, weight_decay, amsgrad, adamw_mode)\u001b[0m\n\u001b[1;32m     76\u001b[0m         \u001b[0mDeepSpeedCPUAdam\u001b[0m\u001b[0;34m.\u001b[0m\u001b[0moptimizer_id\u001b[0m \u001b[0;34m=\u001b[0m \u001b[0mDeepSpeedCPUAdam\u001b[0m\u001b[0;34m.\u001b[0m\u001b[0moptimizer_id\u001b[0m \u001b[0;34m+\u001b[0m \u001b[0;36m1\u001b[0m\u001b[0;34m\u001b[0m\u001b[0;34m\u001b[0m\u001b[0m\n\u001b[1;32m     77\u001b[0m         \u001b[0mself\u001b[0m\u001b[0;34m.\u001b[0m\u001b[0madam_w_mode\u001b[0m \u001b[0;34m=\u001b[0m \u001b[0madamw_mode\u001b[0m\u001b[0;34m\u001b[0m\u001b[0;34m\u001b[0m\u001b[0m\n\u001b[0;32m---> 78\u001b[0;31m         \u001b[0mself\u001b[0m\u001b[0;34m.\u001b[0m\u001b[0mds_opt_adam\u001b[0m \u001b[0;34m=\u001b[0m \u001b[0mCPUAdamBuilder\u001b[0m\u001b[0;34m(\u001b[0m\u001b[0;34m)\u001b[0m\u001b[0;34m.\u001b[0m\u001b[0mload\u001b[0m\u001b[0;34m(\u001b[0m\u001b[0;34m)\u001b[0m\u001b[0;34m\u001b[0m\u001b[0;34m\u001b[0m\u001b[0m\n\u001b[0m\u001b[1;32m     79\u001b[0m \u001b[0;34m\u001b[0m\u001b[0m\n\u001b[1;32m     80\u001b[0m         self.ds_opt_adam.create_adam(self.opt_id,\n",
            "\u001b[0;32m/usr/local/lib/python3.7/dist-packages/deepspeed/ops/op_builder/builder.py\u001b[0m in \u001b[0;36mload\u001b[0;34m(self, verbose)\u001b[0m\n\u001b[1;32m    213\u001b[0m             \u001b[0;32mreturn\u001b[0m \u001b[0mimportlib\u001b[0m\u001b[0;34m.\u001b[0m\u001b[0mimport_module\u001b[0m\u001b[0;34m(\u001b[0m\u001b[0mself\u001b[0m\u001b[0;34m.\u001b[0m\u001b[0mabsolute_name\u001b[0m\u001b[0;34m(\u001b[0m\u001b[0;34m)\u001b[0m\u001b[0;34m)\u001b[0m\u001b[0;34m\u001b[0m\u001b[0;34m\u001b[0m\u001b[0m\n\u001b[1;32m    214\u001b[0m         \u001b[0;32melse\u001b[0m\u001b[0;34m:\u001b[0m\u001b[0;34m\u001b[0m\u001b[0;34m\u001b[0m\u001b[0m\n\u001b[0;32m--> 215\u001b[0;31m             \u001b[0;32mreturn\u001b[0m \u001b[0mself\u001b[0m\u001b[0;34m.\u001b[0m\u001b[0mjit_load\u001b[0m\u001b[0;34m(\u001b[0m\u001b[0mverbose\u001b[0m\u001b[0;34m)\u001b[0m\u001b[0;34m\u001b[0m\u001b[0;34m\u001b[0m\u001b[0m\n\u001b[0m\u001b[1;32m    216\u001b[0m \u001b[0;34m\u001b[0m\u001b[0m\n\u001b[1;32m    217\u001b[0m     \u001b[0;32mdef\u001b[0m \u001b[0mjit_load\u001b[0m\u001b[0;34m(\u001b[0m\u001b[0mself\u001b[0m\u001b[0;34m,\u001b[0m \u001b[0mverbose\u001b[0m\u001b[0;34m=\u001b[0m\u001b[0;32mTrue\u001b[0m\u001b[0;34m)\u001b[0m\u001b[0;34m:\u001b[0m\u001b[0;34m\u001b[0m\u001b[0;34m\u001b[0m\u001b[0m\n",
            "\u001b[0;32m/usr/local/lib/python3.7/dist-packages/deepspeed/ops/op_builder/builder.py\u001b[0m in \u001b[0;36mjit_load\u001b[0;34m(self, verbose)\u001b[0m\n\u001b[1;32m    228\u001b[0m \u001b[0;34m\u001b[0m\u001b[0m\n\u001b[1;32m    229\u001b[0m         \u001b[0;32mif\u001b[0m \u001b[0misinstance\u001b[0m\u001b[0;34m(\u001b[0m\u001b[0mself\u001b[0m\u001b[0;34m,\u001b[0m \u001b[0mCUDAOpBuilder\u001b[0m\u001b[0;34m)\u001b[0m\u001b[0;34m:\u001b[0m\u001b[0;34m\u001b[0m\u001b[0;34m\u001b[0m\u001b[0m\n\u001b[0;32m--> 230\u001b[0;31m             \u001b[0massert_no_cuda_mismatch\u001b[0m\u001b[0;34m(\u001b[0m\u001b[0;34m)\u001b[0m\u001b[0;34m\u001b[0m\u001b[0;34m\u001b[0m\u001b[0m\n\u001b[0m\u001b[1;32m    231\u001b[0m \u001b[0;34m\u001b[0m\u001b[0m\n\u001b[1;32m    232\u001b[0m         \u001b[0mself\u001b[0m\u001b[0;34m.\u001b[0m\u001b[0mjit_mode\u001b[0m \u001b[0;34m=\u001b[0m \u001b[0;32mTrue\u001b[0m\u001b[0;34m\u001b[0m\u001b[0;34m\u001b[0m\u001b[0m\n",
            "\u001b[0;32m/usr/local/lib/python3.7/dist-packages/deepspeed/ops/op_builder/builder.py\u001b[0m in \u001b[0;36massert_no_cuda_mismatch\u001b[0;34m()\u001b[0m\n\u001b[1;32m     58\u001b[0m             \u001b[0;32mreturn\u001b[0m\u001b[0;34m\u001b[0m\u001b[0;34m\u001b[0m\u001b[0m\n\u001b[1;32m     59\u001b[0m         raise Exception(\n\u001b[0;32m---> 60\u001b[0;31m             \u001b[0;34mf\"Installed CUDA version {sys_cuda_version} does not match the \"\u001b[0m\u001b[0;34m\u001b[0m\u001b[0;34m\u001b[0m\u001b[0m\n\u001b[0m\u001b[1;32m     61\u001b[0m             \u001b[0;34mf\"version torch was compiled with {torch.version.cuda}, unable to compile \"\u001b[0m\u001b[0;34m\u001b[0m\u001b[0;34m\u001b[0m\u001b[0m\n\u001b[1;32m     62\u001b[0m             \"cuda/cpp extensions without a matching cuda version.\")\n",
            "\u001b[0;31mException\u001b[0m: Installed CUDA version 11.0 does not match the version torch was compiled with 10.1, unable to compile cuda/cpp extensions without a matching cuda version."
          ]
        }
      ]
    }
  ]
}